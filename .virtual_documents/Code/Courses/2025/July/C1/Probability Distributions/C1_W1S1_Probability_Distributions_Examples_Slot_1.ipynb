
































import random     # built-in module for random number generation
import matplotlib.pyplot as plt   # matplotlib provides plotting functionalities


# Using the random module

# random float number between 0.0 and 1.0
print(random.random())

# random integer between a and b, inclusive
print(random.randint(1, 10))

# random float number between a and b, inclusive
print(random.uniform(1.0, 5.0))





# Simulate 100 die rolls and store in a list

die_rolls = [random.randint(1, 6) for x in range(100000)]
#die_rolls


# @title Pre-defined function to plot experimental uniform distribution
def plot_discrete(outcome_list):
  # Plot
  plt.figure(figsize=(6, 4))
  plt.hist(outcome_list, bins=range(1, 8), align='left', rwidth=0.8, color='skyblue', edgecolor='black')
  plt.title("Discrete Uniform Distribution")
  plt.xlabel("Outcome")
  plt.ylabel("Frequency")
  plt.grid(axis='y', linestyle='--', alpha=0.6)
  plt.xticks(range(1, 7))
  plt.show()


# To call the function, pass the outcome list as an argument
plot_discrete(die_rolls)





# Simulate 100 values uniformly drawn from [0, 1]
uniform_continuous = [random.uniform(0, 1) for i in range(100000)]


# @title Pre-defined function to plot experimental uniform distribution
def plot_continuous(outcome_list):
  # Plot histogram
  plt.figure(figsize=(6, 4))
  plt.hist(outcome_list, bins=20, density=True, color='lightgreen', edgecolor='black')
  plt.title("Continuous Uniform Distribution: U(0,1)")
  plt.xlabel("Value")
  plt.ylabel("Density")
  plt.grid(axis='y', linestyle='--', alpha=0.6)
  plt.show()


# To call the function, pass the outcome list as an argument
plot_continuous(uniform_continuous)











from scipy.stats import bernoulli


# Define a Bernoulli distribution with success probability p using bernoulli function from scipy
p = 0.3
bernoulli_dist = bernoulli(p)


# PMF: P(X = 0) and P(X = 1)
x = [0, 1] # Define the possible outcomes for a Bernoulli trial (0 for failure, 1 for success)
pmf_vals = bernoulli_dist.pmf(x) # Calculate the probability for each outcome in x


# @title Pre-defined function to plot bernoulli distribution

# Creating a function to plot bernoulli distribution from success probability, outcomes list, and PMF values
def plot_bern(pX, X, pmf):
  # Plot
  plt.figure(figsize=(4, 3))
  plt.bar(X, pmf, color='orange', edgecolor='black')
  plt.title(f"Bernoulli Distribution (p = {pX})")
  plt.xlabel("Outcome (0 = Fail, 1 = Success)")
  plt.ylabel("Probability")
  plt.xticks([0, 1])
  plt.ylim(0, 1)
  plt.grid(axis='y', linestyle='--', alpha=0.6)
  plt.show()


plot_bern(p, x, pmf_vals)








from scipy.stats import binom


# Parameters
n = 10      # number of emails sent
p = 0.5     # probability of a click on each email


# Define distribution
binom_dist = binom(n, p)

# Possible number of successes: 0 to n
x = list(range(n + 1))

# PMF
pmf_vals = binom_dist.pmf(x)


# @title Pre-defined function to plot binomial distribution

# Creating a function to plot binomial distribution from success probability, list of possible successes, and PMF values
def plot_binom(n, pX, x_bin, pmf_bin):
  plt.figure(figsize=(8, 4))
  plt.bar(x, pmf_vals, color='skyblue', edgecolor='black')
  plt.title(f"Binomial Distribution: n={n}, p={p}")
  plt.xlabel("Number of Clicks (Successes)")
  plt.ylabel("Probability")
  plt.grid(axis='y', linestyle='--', alpha=0.6)
  plt.show()


plot_binom(n, p, x, pmf_vals)














from scipy.stats import norm

# Define parameters
mu = 165 #mean
sigma = 6 #sd

# Generate synthetic height data using the inverse CDF
data = [norm.ppf(random.random(), loc=mu, scale=sigma) for l in range(1000)]


# @title Predefined code to plot histogram of the data
plt.figure(figsize=(10, 5))
count, bins, ignored = plt.hist(data, bins=30, density=True, alpha=0.6, color='skyblue', edgecolor='black', label='Simulated Heights')

# Display the theoretical PDF
x = [i for i in range(140, 190)]
pdf_vals = norm.pdf(x, loc=mu, scale=sigma)
plt.plot(x, pdf_vals, 'r--', label='Normal PDF (μ=165, σ=6)')

plt.title("Simulated Height Data with Normal PDF")
plt.xlabel("Height (cm)")
plt.ylabel("Density")
plt.legend()
plt.grid(True, linestyle='--', alpha=0.6)
plt.show()



