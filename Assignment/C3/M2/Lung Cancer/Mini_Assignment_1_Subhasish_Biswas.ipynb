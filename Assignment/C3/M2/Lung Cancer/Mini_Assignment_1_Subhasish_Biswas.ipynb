{
 "cells": [
  {
   "cell_type": "code",
   "id": "initial_id",
   "metadata": {
    "collapsed": true,
    "ExecuteTime": {
     "end_time": "2025-10-28T08:50:04.425709Z",
     "start_time": "2025-10-28T08:50:04.417934Z"
    }
   },
   "source": [
    "from pyspark.sql import SparkSession\n",
    "from pyspark.sql import functions as F\n",
    "from pyspark.sql.types import IntegerType, FloatType, DateType"
   ],
   "outputs": [],
   "execution_count": 8
  },
  {
   "metadata": {
    "ExecuteTime": {
     "end_time": "2025-10-28T08:50:04.887122Z",
     "start_time": "2025-10-28T08:50:04.852811Z"
    }
   },
   "cell_type": "code",
   "source": [
    "spark = SparkSession.builder \\\n",
    "    .appName(\"LungCancerAnalysis\") \\\n",
    "    .getOrCreate()"
   ],
   "id": "5b93766e93e99490",
   "outputs": [],
   "execution_count": 9
  },
  {
   "metadata": {
    "ExecuteTime": {
     "end_time": "2025-10-28T08:50:07.306110Z",
     "start_time": "2025-10-28T08:50:06.018691Z"
    }
   },
   "cell_type": "code",
   "source": "df = spark.read.csv(\"Lung Cancer.csv\", header=True, inferSchema=True)",
   "id": "bba6f578f43c954b",
   "outputs": [
    {
     "name": "stderr",
     "output_type": "stream",
     "text": [
      "                                                                                \r"
     ]
    }
   ],
   "execution_count": 10
  },
  {
   "metadata": {
    "ExecuteTime": {
     "end_time": "2025-10-28T08:50:08.389702Z",
     "start_time": "2025-10-28T08:50:08.317129Z"
    }
   },
   "cell_type": "code",
   "source": "df.head(5)",
   "id": "e2caf562a0770105",
   "outputs": [
    {
     "data": {
      "text/plain": [
       "[Row(id=1, age=64.0, gender='Male', country='Sweden', diagnosis_date=datetime.date(2016, 4, 5), cancer_stage='Stage I', family_history='Yes', smoking_status='Passive Smoker', bmi=29.4, cholesterol_level=199, hypertension=0, asthma=0, cirrhosis=1, other_cancer=0, treatment_type='Chemotherapy', end_treatment_date=datetime.date(2017, 9, 10), survived=0),\n",
       " Row(id=2, age=50.0, gender='Female', country='Netherlands', diagnosis_date=datetime.date(2023, 4, 20), cancer_stage='Stage III', family_history='Yes', smoking_status='Passive Smoker', bmi=41.2, cholesterol_level=280, hypertension=1, asthma=1, cirrhosis=0, other_cancer=0, treatment_type='Surgery', end_treatment_date=datetime.date(2024, 6, 17), survived=1),\n",
       " Row(id=3, age=65.0, gender='Female', country='Hungary', diagnosis_date=datetime.date(2023, 4, 5), cancer_stage='Stage III', family_history='Yes', smoking_status='Former Smoker', bmi=44.0, cholesterol_level=268, hypertension=1, asthma=1, cirrhosis=0, other_cancer=0, treatment_type='Combined', end_treatment_date=datetime.date(2024, 4, 9), survived=0),\n",
       " Row(id=4, age=51.0, gender='Female', country='Belgium', diagnosis_date=datetime.date(2016, 2, 5), cancer_stage='Stage I', family_history='No', smoking_status='Passive Smoker', bmi=43.0, cholesterol_level=241, hypertension=1, asthma=1, cirrhosis=0, other_cancer=0, treatment_type='Chemotherapy', end_treatment_date=datetime.date(2017, 4, 23), survived=0),\n",
       " Row(id=5, age=37.0, gender='Male', country='Luxembourg', diagnosis_date=datetime.date(2023, 11, 29), cancer_stage='Stage I', family_history='No', smoking_status='Passive Smoker', bmi=19.7, cholesterol_level=178, hypertension=0, asthma=0, cirrhosis=0, other_cancer=0, treatment_type='Combined', end_treatment_date=datetime.date(2025, 1, 8), survived=0)]"
      ]
     },
     "execution_count": 11,
     "metadata": {},
     "output_type": "execute_result"
    }
   ],
   "execution_count": 11
  },
  {
   "metadata": {
    "ExecuteTime": {
     "end_time": "2025-10-28T08:52:35.957910Z",
     "start_time": "2025-10-28T08:52:28.750023Z"
    }
   },
   "cell_type": "code",
   "source": [
    "# ===============================================\n",
    "#  Task 1: Clean data\n",
    "#  - Remove duplicates\n",
    "#  - Ensure correct types for numeric/date columns\n",
    "#  - Convert Yes/No fields to 1/0\n",
    "# ===============================================\n",
    "from pyspark.sql import functions as F\n",
    "\n",
    "def clean_data(df):\n",
    "    df = df.dropDuplicates()\n",
    "\n",
    "    # Convert date columns\n",
    "    df = df.withColumn(\"diagnosis_date\", F.to_date(\"diagnosis_date\", \"yyyy-MM-dd\")) \\\n",
    "           .withColumn(\"end_treatment_date\", F.to_date(\"end_treatment_date\", \"yyyy-MM-dd\"))\n",
    "\n",
    "    # Detect potential Yes/No columns safely\n",
    "    yes_no_cols = []\n",
    "    for c in df.columns:\n",
    "        distinct_values = [str(x[c]).lower() for x in df.select(c).distinct().collect() if x[c] is not None]\n",
    "        if all(v in [\"yes\", \"no\", \"1\", \"0\"] for v in distinct_values) and len(distinct_values) <= 4:\n",
    "            yes_no_cols.append(c)\n",
    "\n",
    "    print(\"🟢 Detected Yes/No columns:\", yes_no_cols)\n",
    "\n",
    "    # Convert Yes/No -> 1/0\n",
    "    for c in yes_no_cols:\n",
    "        df = df.withColumn(\n",
    "            c,\n",
    "            F.when(F.lower(F.col(c)) == \"yes\", F.lit(1))\n",
    "             .when(F.lower(F.col(c)) == \"no\", F.lit(0))\n",
    "             .otherwise(F.col(c))\n",
    "        )\n",
    "\n",
    "    return df\n",
    "\n",
    "df = clean_data(df)"
   ],
   "id": "b59a6f7280943d86",
   "outputs": [
    {
     "name": "stderr",
     "output_type": "stream",
     "text": [
      "                                                                                \r"
     ]
    },
    {
     "name": "stdout",
     "output_type": "stream",
     "text": [
      "🟢 Detected Yes/No columns: ['family_history', 'hypertension', 'asthma', 'cirrhosis', 'other_cancer', 'survived']\n"
     ]
    }
   ],
   "execution_count": 13
  },
  {
   "metadata": {
    "ExecuteTime": {
     "end_time": "2025-10-28T08:52:56.821292Z",
     "start_time": "2025-10-28T08:52:55.198435Z"
    }
   },
   "cell_type": "code",
   "source": [
    "# ===============================================\n",
    "#  Task 2: Add treatment_duration_days\n",
    "#  and get average per treatment_type\n",
    "# ===============================================\n",
    "df = df.withColumn(\n",
    "    \"treatment_duration_days\",\n",
    "    F.datediff(F.col(\"end_treatment_date\"), F.col(\"diagnosis_date\"))\n",
    ")\n",
    "\n",
    "avg_duration = df.groupBy(\"treatment_type\") \\\n",
    "    .agg(F.round(F.avg(\"treatment_duration_days\"), 2).alias(\"avg_treatment_duration_days\"))\n",
    "\n",
    "print(\"✅ Average Treatment Duration by Type:\")\n",
    "avg_duration.show(truncate=False)"
   ],
   "id": "703651835c1946a8",
   "outputs": [
    {
     "name": "stdout",
     "output_type": "stream",
     "text": [
      "✅ Average Treatment Duration by Type:\n"
     ]
    },
    {
     "name": "stderr",
     "output_type": "stream",
     "text": [
      "[Stage 60:====>                                                   (1 + 11) / 12]\r"
     ]
    },
    {
     "name": "stdout",
     "output_type": "stream",
     "text": [
      "+--------------+---------------------------+\n",
      "|treatment_type|avg_treatment_duration_days|\n",
      "+--------------+---------------------------+\n",
      "|Radiation     |458.4                      |\n",
      "|Chemotherapy  |458.4                      |\n",
      "|Combined      |457.82                     |\n",
      "|Surgery       |457.74                     |\n",
      "+--------------+---------------------------+\n",
      "\n"
     ]
    },
    {
     "name": "stderr",
     "output_type": "stream",
     "text": [
      "                                                                                \r"
     ]
    }
   ],
   "execution_count": 14
  },
  {
   "metadata": {
    "ExecuteTime": {
     "end_time": "2025-10-28T08:55:13.618488Z",
     "start_time": "2025-10-28T08:55:11.718144Z"
    }
   },
   "cell_type": "code",
   "source": [
    "# ===============================================\n",
    "#  Task 3: Smoking_status group with highest survival rate\n",
    "# ===============================================\n",
    "smoking_survival = df.groupBy(\"smoking_status\") \\\n",
    "    .agg(F.round(F.avg(\"survived\") * 100, 2).alias(\"survival_rate_percent\")) \\\n",
    "    .orderBy(F.desc(\"survival_rate_percent\"))\n",
    "\n",
    "print(\"✅ Smoking status with highest survival rate:\")\n",
    "smoking_survival.show(1, truncate=False)"
   ],
   "id": "126b747e05d25b87",
   "outputs": [
    {
     "name": "stdout",
     "output_type": "stream",
     "text": [
      "✅ Smoking status with highest survival rate:\n"
     ]
    },
    {
     "name": "stderr",
     "output_type": "stream",
     "text": [
      "[Stage 66:====>                                                   (1 + 11) / 12]\r"
     ]
    },
    {
     "name": "stdout",
     "output_type": "stream",
     "text": [
      "+--------------+---------------------+\n",
      "|smoking_status|survival_rate_percent|\n",
      "+--------------+---------------------+\n",
      "|Never Smoked  |22.09                |\n",
      "+--------------+---------------------+\n",
      "only showing top 1 row\n"
     ]
    },
    {
     "name": "stderr",
     "output_type": "stream",
     "text": [
      "                                                                                \r"
     ]
    }
   ],
   "execution_count": 15
  },
  {
   "metadata": {
    "ExecuteTime": {
     "end_time": "2025-10-28T08:55:53.764988Z",
     "start_time": "2025-10-28T08:55:51.956434Z"
    }
   },
   "cell_type": "code",
   "source": [
    "# ===============================================\n",
    "#  Task 4: Top 3 countries with highest % of Stage IV diagnoses\n",
    "# ===============================================\n",
    "stage_iv = df.groupBy(\"country\") \\\n",
    "    .agg(\n",
    "        (F.sum(F.when(F.col(\"cancer_stage\") == \"Stage IV\", 1).otherwise(0)) /\n",
    "         F.count(\"*\") * 100).alias(\"stage_IV_percentage\")\n",
    "    ) \\\n",
    "    .orderBy(F.desc(\"stage_IV_percentage\"))\n",
    "\n",
    "print(\"✅ Top 3 countries with highest Stage IV percentage:\")\n",
    "stage_iv.show(3, truncate=False)"
   ],
   "id": "1e7186e76eca02ac",
   "outputs": [
    {
     "name": "stdout",
     "output_type": "stream",
     "text": [
      "✅ Top 3 countries with highest Stage IV percentage:\n"
     ]
    },
    {
     "name": "stderr",
     "output_type": "stream",
     "text": [
      "[Stage 72:==============>                                          (3 + 9) / 12]\r"
     ]
    },
    {
     "name": "stdout",
     "output_type": "stream",
     "text": [
      "+--------------+-------------------+\n",
      "|country       |stage_IV_percentage|\n",
      "+--------------+-------------------+\n",
      "|Greece        |25.50223889628464  |\n",
      "|Croatia       |25.427002233085883 |\n",
      "|Czech Republic|25.291166185190818 |\n",
      "+--------------+-------------------+\n",
      "only showing top 3 rows\n"
     ]
    },
    {
     "name": "stderr",
     "output_type": "stream",
     "text": [
      "                                                                                \r"
     ]
    }
   ],
   "execution_count": 16
  },
  {
   "metadata": {
    "ExecuteTime": {
     "end_time": "2025-10-28T08:56:13.937309Z",
     "start_time": "2025-10-28T08:56:12.781091Z"
    }
   },
   "cell_type": "code",
   "source": [
    "# ===============================================\n",
    "#  Task 5: Filter specific patient criteria\n",
    "#  Conditions:\n",
    "#   - Male\n",
    "#   - Stage III or IV\n",
    "#   - Family history == Yes (1)\n",
    "#   - Current smoker\n",
    "#   - BMI > 30\n",
    "#   - Survived == 1\n",
    "# Then return:\n",
    "#   - Average age\n",
    "#   - % who had hypertension\n",
    "# ===============================================\n",
    "filtered = df.filter(\n",
    "    (F.lower(F.col(\"gender\")) == \"male\") &\n",
    "    (F.col(\"cancer_stage\").isin(\"Stage III\", \"Stage IV\")) &\n",
    "    ((F.lower(F.col(\"family_history\")) == \"yes\") | (F.col(\"family_history\") == 1)) &\n",
    "    (F.lower(F.col(\"smoking_status\")) == \"current smoker\") &\n",
    "    (F.col(\"bmi\") > 30) &\n",
    "    (F.col(\"survived\") == 1)\n",
    ")\n",
    "\n",
    "result = filtered.agg(\n",
    "    F.round(F.avg(\"age\"), 2).alias(\"average_age\"),\n",
    "    F.round(F.avg(\"hypertension\") * 100, 2).alias(\"hypertension_percentage\")\n",
    ")\n",
    "\n",
    "print(\"✅ Task 5 Results:\")\n",
    "result.show()"
   ],
   "id": "7dea36b0c0d66259",
   "outputs": [
    {
     "name": "stdout",
     "output_type": "stream",
     "text": [
      "✅ Task 5 Results:\n"
     ]
    },
    {
     "name": "stderr",
     "output_type": "stream",
     "text": [
      "[Stage 78:====>                                                   (1 + 11) / 12]\r"
     ]
    },
    {
     "name": "stdout",
     "output_type": "stream",
     "text": [
      "+-----------+-----------------------+\n",
      "|average_age|hypertension_percentage|\n",
      "+-----------+-----------------------+\n",
      "|      55.18|                  74.77|\n",
      "+-----------+-----------------------+\n",
      "\n"
     ]
    },
    {
     "name": "stderr",
     "output_type": "stream",
     "text": [
      "                                                                                \r"
     ]
    }
   ],
   "execution_count": 17
  },
  {
   "metadata": {},
   "cell_type": "code",
   "outputs": [],
   "execution_count": null,
   "source": "spark.stop()",
   "id": "27897edba085e6ed"
  }
 ],
 "metadata": {
  "kernelspec": {
   "display_name": "Python 3",
   "language": "python",
   "name": "python3"
  },
  "language_info": {
   "codemirror_mode": {
    "name": "ipython",
    "version": 2
   },
   "file_extension": ".py",
   "mimetype": "text/x-python",
   "name": "python",
   "nbconvert_exporter": "python",
   "pygments_lexer": "ipython2",
   "version": "2.7.6"
  }
 },
 "nbformat": 4,
 "nbformat_minor": 5
}
