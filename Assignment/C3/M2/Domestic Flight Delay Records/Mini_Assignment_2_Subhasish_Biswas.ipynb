{
 "cells": [
  {
   "cell_type": "code",
   "id": "initial_id",
   "metadata": {
    "collapsed": true,
    "ExecuteTime": {
     "end_time": "2025-10-28T10:06:59.583956Z",
     "start_time": "2025-10-28T10:06:56.051317Z"
    }
   },
   "source": [
    "from pyspark.sql import SparkSession\n",
    "from pyspark.sql.functions import col, avg, max as spark_max\n",
    "\n",
    "\n",
    "spark = SparkSession.builder.appName(\"FlightDelayAnalysis\").getOrCreate()"
   ],
   "outputs": [
    {
     "name": "stderr",
     "output_type": "stream",
     "text": [
      "WARNING: Using incubator modules: jdk.incubator.vector\n",
      "Using Spark's default log4j profile: org/apache/spark/log4j2-defaults.properties\n",
      "Setting default log level to \"WARN\".\n",
      "To adjust logging level use sc.setLogLevel(newLevel). For SparkR, use setLogLevel(newLevel).\n",
      "25/10/28 15:36:58 WARN NativeCodeLoader: Unable to load native-hadoop library for your platform... using builtin-java classes where applicable\n",
      "25/10/28 15:36:58 WARN Utils: Service 'SparkUI' could not bind on port 4040. Attempting port 4041.\n"
     ]
    }
   ],
   "execution_count": 1
  },
  {
   "metadata": {
    "ExecuteTime": {
     "end_time": "2025-10-28T10:07:28.905158Z",
     "start_time": "2025-10-28T10:07:26.377412Z"
    }
   },
   "cell_type": "code",
   "source": [
    "# Load dataset\n",
    "df = spark.read.csv(\"Flight Dataset - CSV(in).csv\", header=True, inferSchema=True)"
   ],
   "id": "63f4ff17ce9d4bfb",
   "outputs": [
    {
     "name": "stderr",
     "output_type": "stream",
     "text": [
      "                                                                                \r"
     ]
    }
   ],
   "execution_count": 3
  },
  {
   "metadata": {
    "ExecuteTime": {
     "end_time": "2025-10-28T10:12:51.872320Z",
     "start_time": "2025-10-28T10:12:51.797442Z"
    }
   },
   "cell_type": "code",
   "source": "df.head(5)",
   "id": "6490eae946a52d62",
   "outputs": [
    {
     "data": {
      "text/plain": [
       "[Row(FL_DATE='1/1/2006', DEP_DELAY=5, ARR_DELAY=19, AIR_TIME=350, DISTANCE=2475, DEP_TIME=9.083333, ARR_TIME=12.483334),\n",
       " Row(FL_DATE='1/2/2006', DEP_DELAY=167, ARR_DELAY=216, AIR_TIME=343, DISTANCE=2475, DEP_TIME=11.783334, ARR_TIME=15.766666),\n",
       " Row(FL_DATE='1/3/2006', DEP_DELAY=-7, ARR_DELAY=-2, AIR_TIME=344, DISTANCE=2475, DEP_TIME=8.883333, ARR_TIME=12.133333),\n",
       " Row(FL_DATE='1/4/2006', DEP_DELAY=-5, ARR_DELAY=-13, AIR_TIME=331, DISTANCE=2475, DEP_TIME=8.916667, ARR_TIME=11.95),\n",
       " Row(FL_DATE='1/5/2006', DEP_DELAY=-3, ARR_DELAY=-17, AIR_TIME=321, DISTANCE=2475, DEP_TIME=8.95, ARR_TIME=11.883333)]"
      ]
     },
     "execution_count": 12,
     "metadata": {},
     "output_type": "execute_result"
    }
   ],
   "execution_count": 12
  },
  {
   "metadata": {
    "ExecuteTime": {
     "end_time": "2025-10-28T10:08:12.877223Z",
     "start_time": "2025-10-28T10:08:12.074513Z"
    }
   },
   "cell_type": "code",
   "source": [
    "# --- Task 1: Flights that arrived earlier than expected ---\n",
    "def flights_arrived_early(df):\n",
    "    return df.filter(col(\"ARR_DELAY\") < 0).count()\n",
    "print(\"Task 1:\", flights_arrived_early(df))"
   ],
   "id": "b8171df1f24f0d70",
   "outputs": [
    {
     "name": "stdout",
     "output_type": "stream",
     "text": [
      "Task 1: 534655\n"
     ]
    }
   ],
   "execution_count": 6
  },
  {
   "metadata": {
    "ExecuteTime": {
     "end_time": "2025-10-28T10:08:37.156272Z",
     "start_time": "2025-10-28T10:08:36.475547Z"
    }
   },
   "cell_type": "code",
   "source": [
    "# --- Task 2: Typical departure time for flights over 2000 miles ---\n",
    "def typical_departure_time_long_flights(df):\n",
    "    return df.filter(col(\"DISTANCE\") > 2000).agg(avg(\"DEP_TIME\").alias(\"avg_departure_time\")).collect()[0][\"avg_departure_time\"]\n",
    "print(\"Task 2:\", typical_departure_time_long_flights(df))"
   ],
   "id": "c95ffd26927bd9bb",
   "outputs": [
    {
     "name": "stdout",
     "output_type": "stream",
     "text": [
      "Task 2: 13.973233947624635\n"
     ]
    }
   ],
   "execution_count": 7
  },
  {
   "metadata": {
    "ExecuteTime": {
     "end_time": "2025-10-28T10:08:55.064613Z",
     "start_time": "2025-10-28T10:08:54.630402Z"
    }
   },
   "cell_type": "code",
   "source": [
    "# --- Task 3: Proportion of flights with arrival delays > 60 minutes ---\n",
    "def proportion_long_delays(df):\n",
    "    total = df.count()\n",
    "    delayed = df.filter(col(\"ARR_DELAY\") > 60).count()\n",
    "    return delayed / total if total > 0 else 0\n",
    "\n",
    "print(\"Task 3:\", proportion_long_delays(df))"
   ],
   "id": "305b1c9d13e84b74",
   "outputs": [
    {
     "name": "stdout",
     "output_type": "stream",
     "text": [
      "Task 3: 0.053066\n"
     ]
    }
   ],
   "execution_count": 8
  },
  {
   "metadata": {
    "ExecuteTime": {
     "end_time": "2025-10-28T10:09:27.971442Z",
     "start_time": "2025-10-28T10:09:27.557943Z"
    }
   },
   "cell_type": "code",
   "source": [
    "# --- Task 4: Average airtime for flights that left earlier than 9:00 AM ---\n",
    "def average_airtime_morning_flights(df):\n",
    "    return df.filter(col(\"DEP_TIME\") < 9.0).agg(avg(\"AIR_TIME\").alias(\"avg_airtime\")).collect()[0][\"avg_airtime\"]\n",
    "\n",
    "print(\"Task 4:\", average_airtime_morning_flights(df))"
   ],
   "id": "cf24b1363439ce53",
   "outputs": [
    {
     "name": "stdout",
     "output_type": "stream",
     "text": [
      "Task 4: 111.36120276990287\n"
     ]
    }
   ],
   "execution_count": 9
  },
  {
   "metadata": {
    "ExecuteTime": {
     "end_time": "2025-10-28T10:09:56.787752Z",
     "start_time": "2025-10-28T10:09:56.420195Z"
    }
   },
   "cell_type": "code",
   "source": [
    "# --- Task 5: Max arrival delay for flights without departure delay ---\n",
    "def max_arrival_delay_no_dep_delay(df):\n",
    "    return df.filter(col(\"DEP_DELAY\") <= 0).agg(spark_max(\"ARR_DELAY\").alias(\"max_arr_delay\")).collect()[0][\"max_arr_delay\"]\n",
    "print(\"Task 5:\", max_arrival_delay_no_dep_delay(df))"
   ],
   "id": "6dc2cc2f5b220b3",
   "outputs": [
    {
     "name": "stdout",
     "output_type": "stream",
     "text": [
      "Task 5: 701\n"
     ]
    }
   ],
   "execution_count": 10
  },
  {
   "metadata": {},
   "cell_type": "code",
   "outputs": [],
   "execution_count": null,
   "source": "",
   "id": "6e5d34052d9fc459"
  }
 ],
 "metadata": {
  "kernelspec": {
   "display_name": "Python 3",
   "language": "python",
   "name": "python3"
  },
  "language_info": {
   "codemirror_mode": {
    "name": "ipython",
    "version": 2
   },
   "file_extension": ".py",
   "mimetype": "text/x-python",
   "name": "python",
   "nbconvert_exporter": "python",
   "pygments_lexer": "ipython2",
   "version": "2.7.6"
  }
 },
 "nbformat": 4,
 "nbformat_minor": 5
}
