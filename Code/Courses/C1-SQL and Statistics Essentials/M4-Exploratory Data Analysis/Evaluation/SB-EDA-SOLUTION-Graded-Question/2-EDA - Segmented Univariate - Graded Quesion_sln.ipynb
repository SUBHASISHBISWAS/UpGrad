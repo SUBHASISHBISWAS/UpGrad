{
 "cells": [
  {
   "cell_type": "code",
   "id": "initial_id",
   "metadata": {
    "collapsed": true,
    "ExecuteTime": {
     "end_time": "2025-01-29T12:42:14.544467Z",
     "start_time": "2025-01-29T12:42:14.071922Z"
    }
   },
   "source": [
    "import pandas as pd\n",
    "\n",
    "# Load the Excel file\n",
    "file_path = \"EDA_census.xlsx\"\n",
    "xls = pd.ExcelFile(file_path)\n",
    "\n",
    "# Load the sheet named 'C-08' into a DataFrame\n",
    "df = pd.read_excel(xls, sheet_name='C-08')\n",
    "\n",
    "# Drop initial rows that are metadata and set proper column names\n",
    "df_cleaned = df.iloc[4:].reset_index(drop=True)\n",
    "\n",
    "# Assign new column names based on their position\n",
    "df_cleaned.columns = [\n",
    "    \"Table_Name\", \"State_Code\", \"District_Code\", \"Area_Name\", \"Population_Type\",\n",
    "    \"Age_Group\", \"Total_Population_Persons\", \"Total_Population_Males\", \"Total_Population_Females\",\n",
    "    \"Illiterate_Persons\", \"Illiterate_Males\", \"Illiterate_Females\",\n",
    "    \"Literate_Persons\", \"Literate_Males\", \"Literate_Females\"\n",
    "] + list(df_cleaned.columns[15:])  # Keep remaining columns\n",
    "\n",
    "# Keep only relevant columns\n",
    "df_cleaned = df_cleaned[[\"State_Code\", \"District_Code\", \"Area_Name\", \"Population_Type\",\n",
    "                         \"Age_Group\", \"Total_Population_Persons\", \"Total_Population_Males\", \"Total_Population_Females\",\n",
    "                         \"Illiterate_Persons\", \"Illiterate_Males\", \"Illiterate_Females\",\n",
    "                         \"Literate_Persons\", \"Literate_Males\", \"Literate_Females\"]]\n",
    "\n",
    "# Drop any rows where State_Code is NaN (removes potential leftover headers)\n",
    "df_cleaned = df_cleaned.dropna(subset=[\"State_Code\"])\n",
    "\n",
    "# Save as CSV for further analysis\n",
    "csv_path = \"Cleaned_Census_Data.csv\"\n",
    "df_cleaned.to_csv(csv_path, index=False)\n",
    "\n",
    "# Display first few rows\n",
    "print(df_cleaned.head())"
   ],
   "outputs": [
    {
     "name": "stdout",
     "output_type": "stream",
     "text": [
      "  State_Code District_Code Area_Name Population_Type Age_Group  \\\n",
      "2         00           000     INDIA           Total  All ages   \n",
      "3         00           000     INDIA           Total       0-6   \n",
      "4         00           000     INDIA           Total         7   \n",
      "5         00           000     INDIA           Total         8   \n",
      "6         00           000     INDIA           Total         9   \n",
      "\n",
      "  Total_Population_Persons Total_Population_Males Total_Population_Females  \\\n",
      "2               1210854977              623270258                587584719   \n",
      "3                164515253               85752254                 78762999   \n",
      "4                 24826640               12903364                 11923276   \n",
      "5                 26968373               14061937                 12906436   \n",
      "6                 23424638               12214985                 11209653   \n",
      "\n",
      "  Illiterate_Persons Illiterate_Males Illiterate_Females Literate_Persons  \\\n",
      "2          447216165        188506636          258709529        763638812   \n",
      "3          164515253         85752254           78762999                0   \n",
      "4            6748214          3388683            3359531         18078426   \n",
      "5            4131414          2013742            2117672         22836959   \n",
      "6            2491904          1198339            1293565         20932734   \n",
      "\n",
      "  Literate_Males Literate_Females  \n",
      "2      434763622        328875190  \n",
      "3              0                0  \n",
      "4        9514681          8563745  \n",
      "5       12048195         10788764  \n",
      "6       11016646          9916088  \n"
     ]
    }
   ],
   "execution_count": 2
  },
  {
   "metadata": {
    "ExecuteTime": {
     "end_time": "2025-01-29T12:49:50.310716Z",
     "start_time": "2025-01-29T12:49:50.287448Z"
    }
   },
   "cell_type": "code",
   "source": [
    "import pandas as pd\n",
    "\n",
    "# Load the cleaned data\n",
    "csv_path = \"Cleaned_Census_Data.csv\"\n",
    "df_cleaned = pd.read_csv(csv_path)\n",
    "\n",
    "# Filter data for India and age group 20-24\n",
    "df_age_20_24 = df_cleaned[(df_cleaned[\"Area_Name\"] == \"INDIA\") & (df_cleaned[\"Age_Group\"] == \"20-24\")]\n",
    "\n",
    "# Convert relevant columns to numeric values\n",
    "df_age_20_24[[\"Total_Population_Females\", \"Illiterate_Females\"]] = df_age_20_24[\n",
    "    [\"Total_Population_Females\", \"Illiterate_Females\"]\n",
    "].apply(pd.to_numeric, errors=\"coerce\")\n",
    "\n",
    "# Calculate the percentage of illiterate females in this age group\n",
    "illiterate_females = df_age_20_24[\"Illiterate_Females\"].sum()\n",
    "total_females = df_age_20_24[\"Total_Population_Females\"].sum()\n",
    "\n",
    "illiteracy_percentage = (illiterate_females / total_females) * 100 if total_females > 0 else 0\n",
    "\n",
    "# Print the result\n",
    "print(f\"Percentage of illiterate females (age 20-24) in India: {illiteracy_percentage:.2f}%\")"
   ],
   "id": "dfd72205ea5583b1",
   "outputs": [
    {
     "name": "stdout",
     "output_type": "stream",
     "text": [
      "Percentage of illiterate females (age 20-24) in India: 22.68%\n"
     ]
    },
    {
     "name": "stderr",
     "output_type": "stream",
     "text": [
      "/var/folders/q9/_3w68hr55rdcl70s4bt4jjbh0000gn/T/ipykernel_67516/3149971498.py:11: SettingWithCopyWarning: \n",
      "A value is trying to be set on a copy of a slice from a DataFrame.\n",
      "Try using .loc[row_indexer,col_indexer] = value instead\n",
      "\n",
      "See the caveats in the documentation: https://pandas.pydata.org/pandas-docs/stable/user_guide/indexing.html#returning-a-view-versus-a-copy\n",
      "  df_age_20_24[[\"Total_Population_Females\", \"Illiterate_Females\"]] = df_age_20_24[\n"
     ]
    }
   ],
   "execution_count": 3
  },
  {
   "metadata": {
    "ExecuteTime": {
     "end_time": "2025-01-29T12:53:18.073080Z",
     "start_time": "2025-01-29T12:53:18.048492Z"
    }
   },
   "cell_type": "code",
   "source": [
    "import pandas as pd\n",
    "\n",
    "# Load the cleaned data\n",
    "csv_path = \"Cleaned_Census_Data.csv\"\n",
    "df_cleaned = pd.read_csv(csv_path)\n",
    "\n",
    "# Convert necessary columns to numeric values\n",
    "df_cleaned[[\"Total_Population_Persons\", \"Literate_Persons\"]] = df_cleaned[\n",
    "    [\"Total_Population_Persons\", \"Literate_Persons\"]\n",
    "].apply(pd.to_numeric, errors=\"coerce\")\n",
    "\n",
    "# Group by Age Group and calculate literacy rate\n",
    "age_literacy_rates = df_cleaned.groupby(\"Age_Group\").agg(\n",
    "    Total_Population=(\"Total_Population_Persons\", \"sum\"),\n",
    "    Literates=(\"Literate_Persons\", \"sum\")\n",
    ").reset_index()\n",
    "\n",
    "# Calculate literacy rate\n",
    "age_literacy_rates[\"Literacy_Rate\"] = (age_literacy_rates[\"Literates\"] / age_literacy_rates[\"Total_Population\"]) * 100\n",
    "\n",
    "# Display the literacy rate data\n",
    "print(age_literacy_rates)\n",
    "\n",
    "# Identify trends\n",
    "young_group_rate = age_literacy_rates[\n",
    "    age_literacy_rates[\"Age_Group\"].isin([\"7\", \"8\", \"9\", \"10\", \"11\", \"12\", \"13\", \"14\", \"15-19\", \"20-24\", \"25-29\"])\n",
    "][\"Literacy_Rate\"].mean()\n",
    "\n",
    "old_group_rate = age_literacy_rates[\n",
    "    age_literacy_rates[\"Age_Group\"].isin([\"55-59\", \"60-64\", \"65-69\", \"70-74\", \"75-79\", \"80+\"])\n",
    "][\"Literacy_Rate\"].mean()\n",
    "\n",
    "# Checking if literacy rate increases continuously\n",
    "increasing_trend = age_literacy_rates[\"Literacy_Rate\"].is_monotonic_increasing\n",
    "\n",
    "# Choose the correct statement\n",
    "if old_group_rate > young_group_rate:\n",
    "    result = \"People in the old age group (above 55+) are more literate than other groups.\"\n",
    "elif young_group_rate > old_group_rate:\n",
    "    result = \"People in the young age group (below 30) are more literate than the old age group (above 55+).\"\n",
    "elif increasing_trend:\n",
    "    result = \"The literacy rate increases for each age bucket from 7 years till 80+.\"\n",
    "else:\n",
    "    result = \"None of the given options are completely correct.\"\n",
    "\n",
    "# Print the final result\n",
    "print(result)"
   ],
   "id": "1af8da41f63523ca",
   "outputs": [
    {
     "name": "stdout",
     "output_type": "stream",
     "text": [
      "         Age_Group  Total_Population   Literates  Literacy_Rate\n",
      "0              0-6         658061012           0       0.000000\n",
      "1               10         122208428   108390408      88.693071\n",
      "2               11          98963784    91009892      91.962826\n",
      "3               12         111509228   101943112      91.421234\n",
      "4               13          97122732    89880828      92.543554\n",
      "5               14         101032676    92629536      91.682750\n",
      "6               15         103597816    93197988      89.961344\n",
      "7               16          98369172    88319224      89.783437\n",
      "8               17          84869868    76716048      90.392562\n",
      "9               18         111832588    96920688      86.665872\n",
      "10              19          83436352    73121656      87.637647\n",
      "11           20-24         445696888   370978920      83.235699\n",
      "12           25-29         405655860   315118100      77.681141\n",
      "13           30-34         354379804   257061564      72.538435\n",
      "14           35-39         340562736   229110228      67.274016\n",
      "15           40-44         289752448   182524960      62.993414\n",
      "16           45-49         249273308   148962256      59.758607\n",
      "17           50-54         196277016   112988184      57.565672\n",
      "18           55-59         156584220    85855896      54.830491\n",
      "19           60-64         150654828    70697072      46.926523\n",
      "20           65-69         105819932    46501504      43.943993\n",
      "21               7          99306560    72313704      72.818658\n",
      "22           70-74          76835368    30560872      39.774485\n",
      "23           75-79          36930012    15485244      41.931327\n",
      "24               8         107873492    91347836      84.680522\n",
      "25             80+          45156020    17594232      38.963204\n",
      "26               9          93698552    83730936      89.362038\n",
      "27  Age not stated          17959208    11594360      64.559417\n",
      "28        All ages        4843419908  3054555248      63.066084\n",
      "People in the young age group (below 30) are more literate than the old age group (above 55+).\n"
     ]
    }
   ],
   "execution_count": 4
  },
  {
   "metadata": {
    "ExecuteTime": {
     "end_time": "2025-01-29T12:56:21.095919Z",
     "start_time": "2025-01-29T12:56:21.023960Z"
    }
   },
   "cell_type": "code",
   "source": [
    "import pandas as pd\n",
    "import matplotlib.pyplot as plt\n",
    "\n",
    "# Load the cleaned data\n",
    "csv_path = \"Cleaned_Census_Data.csv\"\n",
    "df_cleaned = pd.read_csv(csv_path)\n",
    "\n",
    "# Convert necessary columns to numeric values\n",
    "df_cleaned[[\"Total_Population_Persons\", \"Literate_Persons\"]] = df_cleaned[\n",
    "    [\"Total_Population_Persons\", \"Literate_Persons\"]\n",
    "].apply(pd.to_numeric, errors=\"coerce\")\n",
    "\n",
    "# Group by Age Group and calculate literacy rate\n",
    "age_literacy_rates = df_cleaned.groupby(\"Age_Group\").agg(\n",
    "    Total_Population=(\"Total_Population_Persons\", \"sum\"),\n",
    "    Literates=(\"Literate_Persons\", \"sum\")\n",
    ").reset_index()\n",
    "\n",
    "# Calculate literacy rate\n",
    "age_literacy_rates[\"Literacy_Rate\"] = (age_literacy_rates[\"Literates\"] / age_literacy_rates[\"Total_Population\"]) * 100\n",
    "\n",
    "# Drop NaN values in Age_Group to ensure proper plotting\n",
    "age_literacy_rates = age_literacy_rates.dropna(subset=[\"Age_Group\"])\n",
    "\n",
    "# Convert Age_Group to string for proper sorting\n",
    "age_literacy_rates[\"Age_Group\"] = age_literacy_rates[\"Age_Group\"].astype(str)\n",
    "\n",
    "# Define proper order for age groups\n",
    "age_order = [\n",
    "    \"7\", \"8\", \"9\", \"10\", \"11\", \"12\", \"13\", \"14\", \"15-19\", \"20-24\", \"25-29\",\n",
    "    \"30-34\", \"35-39\", \"40-44\", \"45-49\", \"50-54\", \"55-59\", \"60-64\", \"65-69\",\n",
    "    \"70-74\", \"75-79\", \"80+\"\n",
    "]\n",
    "\n",
    "# Convert Age_Group to categorical type with ordering\n",
    "age_literacy_rates[\"Age_Group\"] = pd.Categorical(age_literacy_rates[\"Age_Group\"], categories=age_order, ordered=True)\n",
    "\n",
    "# Sort data by Age_Group after ensuring proper ordering\n",
    "age_literacy_rates = age_literacy_rates.sort_values(by=\"Age_Group\")\n",
    "\n",
    "# Plot Literacy Rate by Age Group\n",
    "plt.figure(figsize=(12, 6))\n",
    "plt.plot(age_literacy_rates[\"Age_Group\"], age_literacy_rates[\"Literacy_Rate\"], marker=\"o\", linestyle=\"-\")\n",
    "\n",
    "# Labels and title\n",
    "plt.xlabel(\"Age Group\")\n",
    "plt.ylabel(\"Literacy Rate (%)\")\n",
    "plt.title(\"Literacy Rate by Age Group in India (Census Data)\")\n",
    "plt.xticks(rotation=45)\n",
    "plt.grid(True)\n",
    "\n",
    "# Show the plot\n",
    "plt.show()"
   ],
   "id": "20fa9508bc6148e",
   "outputs": [
    {
     "ename": "TypeError",
     "evalue": "'value' must be an instance of str or bytes, not a float",
     "output_type": "error",
     "traceback": [
      "\u001B[0;31m---------------------------------------------------------------------------\u001B[0m",
      "\u001B[0;31mTypeError\u001B[0m                                 Traceback (most recent call last)",
      "Cell \u001B[0;32mIn[6], line 43\u001B[0m\n\u001B[1;32m     41\u001B[0m \u001B[38;5;66;03m# Plot Literacy Rate by Age Group\u001B[39;00m\n\u001B[1;32m     42\u001B[0m plt\u001B[38;5;241m.\u001B[39mfigure(figsize\u001B[38;5;241m=\u001B[39m(\u001B[38;5;241m12\u001B[39m, \u001B[38;5;241m6\u001B[39m))\n\u001B[0;32m---> 43\u001B[0m plt\u001B[38;5;241m.\u001B[39mplot(age_literacy_rates[\u001B[38;5;124m\"\u001B[39m\u001B[38;5;124mAge_Group\u001B[39m\u001B[38;5;124m\"\u001B[39m], age_literacy_rates[\u001B[38;5;124m\"\u001B[39m\u001B[38;5;124mLiteracy_Rate\u001B[39m\u001B[38;5;124m\"\u001B[39m], marker\u001B[38;5;241m=\u001B[39m\u001B[38;5;124m\"\u001B[39m\u001B[38;5;124mo\u001B[39m\u001B[38;5;124m\"\u001B[39m, linestyle\u001B[38;5;241m=\u001B[39m\u001B[38;5;124m\"\u001B[39m\u001B[38;5;124m-\u001B[39m\u001B[38;5;124m\"\u001B[39m)\n\u001B[1;32m     45\u001B[0m \u001B[38;5;66;03m# Labels and title\u001B[39;00m\n\u001B[1;32m     46\u001B[0m plt\u001B[38;5;241m.\u001B[39mxlabel(\u001B[38;5;124m\"\u001B[39m\u001B[38;5;124mAge Group\u001B[39m\u001B[38;5;124m\"\u001B[39m)\n",
      "File \u001B[0;32m/opt/anaconda3/envs/UpGrad/lib/python3.12/site-packages/matplotlib/pyplot.py:3829\u001B[0m, in \u001B[0;36mplot\u001B[0;34m(scalex, scaley, data, *args, **kwargs)\u001B[0m\n\u001B[1;32m   3821\u001B[0m \u001B[38;5;129m@_copy_docstring_and_deprecators\u001B[39m(Axes\u001B[38;5;241m.\u001B[39mplot)\n\u001B[1;32m   3822\u001B[0m \u001B[38;5;28;01mdef\u001B[39;00m \u001B[38;5;21mplot\u001B[39m(\n\u001B[1;32m   3823\u001B[0m     \u001B[38;5;241m*\u001B[39margs: \u001B[38;5;28mfloat\u001B[39m \u001B[38;5;241m|\u001B[39m ArrayLike \u001B[38;5;241m|\u001B[39m \u001B[38;5;28mstr\u001B[39m,\n\u001B[0;32m   (...)\u001B[0m\n\u001B[1;32m   3827\u001B[0m     \u001B[38;5;241m*\u001B[39m\u001B[38;5;241m*\u001B[39mkwargs,\n\u001B[1;32m   3828\u001B[0m ) \u001B[38;5;241m-\u001B[39m\u001B[38;5;241m>\u001B[39m \u001B[38;5;28mlist\u001B[39m[Line2D]:\n\u001B[0;32m-> 3829\u001B[0m     \u001B[38;5;28;01mreturn\u001B[39;00m gca()\u001B[38;5;241m.\u001B[39mplot(\n\u001B[1;32m   3830\u001B[0m         \u001B[38;5;241m*\u001B[39margs,\n\u001B[1;32m   3831\u001B[0m         scalex\u001B[38;5;241m=\u001B[39mscalex,\n\u001B[1;32m   3832\u001B[0m         scaley\u001B[38;5;241m=\u001B[39mscaley,\n\u001B[1;32m   3833\u001B[0m         \u001B[38;5;241m*\u001B[39m\u001B[38;5;241m*\u001B[39m({\u001B[38;5;124m\"\u001B[39m\u001B[38;5;124mdata\u001B[39m\u001B[38;5;124m\"\u001B[39m: data} \u001B[38;5;28;01mif\u001B[39;00m data \u001B[38;5;129;01mis\u001B[39;00m \u001B[38;5;129;01mnot\u001B[39;00m \u001B[38;5;28;01mNone\u001B[39;00m \u001B[38;5;28;01melse\u001B[39;00m {}),\n\u001B[1;32m   3834\u001B[0m         \u001B[38;5;241m*\u001B[39m\u001B[38;5;241m*\u001B[39mkwargs,\n\u001B[1;32m   3835\u001B[0m     )\n",
      "File \u001B[0;32m/opt/anaconda3/envs/UpGrad/lib/python3.12/site-packages/matplotlib/axes/_axes.py:1777\u001B[0m, in \u001B[0;36mAxes.plot\u001B[0;34m(self, scalex, scaley, data, *args, **kwargs)\u001B[0m\n\u001B[1;32m   1534\u001B[0m \u001B[38;5;250m\u001B[39m\u001B[38;5;124;03m\"\"\"\u001B[39;00m\n\u001B[1;32m   1535\u001B[0m \u001B[38;5;124;03mPlot y versus x as lines and/or markers.\u001B[39;00m\n\u001B[1;32m   1536\u001B[0m \n\u001B[0;32m   (...)\u001B[0m\n\u001B[1;32m   1774\u001B[0m \u001B[38;5;124;03m(``'green'``) or hex strings (``'#008000'``).\u001B[39;00m\n\u001B[1;32m   1775\u001B[0m \u001B[38;5;124;03m\"\"\"\u001B[39;00m\n\u001B[1;32m   1776\u001B[0m kwargs \u001B[38;5;241m=\u001B[39m cbook\u001B[38;5;241m.\u001B[39mnormalize_kwargs(kwargs, mlines\u001B[38;5;241m.\u001B[39mLine2D)\n\u001B[0;32m-> 1777\u001B[0m lines \u001B[38;5;241m=\u001B[39m [\u001B[38;5;241m*\u001B[39m\u001B[38;5;28mself\u001B[39m\u001B[38;5;241m.\u001B[39m_get_lines(\u001B[38;5;28mself\u001B[39m, \u001B[38;5;241m*\u001B[39margs, data\u001B[38;5;241m=\u001B[39mdata, \u001B[38;5;241m*\u001B[39m\u001B[38;5;241m*\u001B[39mkwargs)]\n\u001B[1;32m   1778\u001B[0m \u001B[38;5;28;01mfor\u001B[39;00m line \u001B[38;5;129;01min\u001B[39;00m lines:\n\u001B[1;32m   1779\u001B[0m     \u001B[38;5;28mself\u001B[39m\u001B[38;5;241m.\u001B[39madd_line(line)\n",
      "File \u001B[0;32m/opt/anaconda3/envs/UpGrad/lib/python3.12/site-packages/matplotlib/axes/_base.py:297\u001B[0m, in \u001B[0;36m_process_plot_var_args.__call__\u001B[0;34m(self, axes, data, return_kwargs, *args, **kwargs)\u001B[0m\n\u001B[1;32m    295\u001B[0m     this \u001B[38;5;241m+\u001B[39m\u001B[38;5;241m=\u001B[39m args[\u001B[38;5;241m0\u001B[39m],\n\u001B[1;32m    296\u001B[0m     args \u001B[38;5;241m=\u001B[39m args[\u001B[38;5;241m1\u001B[39m:]\n\u001B[0;32m--> 297\u001B[0m \u001B[38;5;28;01myield from\u001B[39;00m \u001B[38;5;28mself\u001B[39m\u001B[38;5;241m.\u001B[39m_plot_args(\n\u001B[1;32m    298\u001B[0m     axes, this, kwargs, ambiguous_fmt_datakey\u001B[38;5;241m=\u001B[39mambiguous_fmt_datakey,\n\u001B[1;32m    299\u001B[0m     return_kwargs\u001B[38;5;241m=\u001B[39mreturn_kwargs\n\u001B[1;32m    300\u001B[0m )\n",
      "File \u001B[0;32m/opt/anaconda3/envs/UpGrad/lib/python3.12/site-packages/matplotlib/axes/_base.py:489\u001B[0m, in \u001B[0;36m_process_plot_var_args._plot_args\u001B[0;34m(self, axes, tup, kwargs, return_kwargs, ambiguous_fmt_datakey)\u001B[0m\n\u001B[1;32m    486\u001B[0m     x, y \u001B[38;5;241m=\u001B[39m index_of(xy[\u001B[38;5;241m-\u001B[39m\u001B[38;5;241m1\u001B[39m])\n\u001B[1;32m    488\u001B[0m \u001B[38;5;28;01mif\u001B[39;00m axes\u001B[38;5;241m.\u001B[39mxaxis \u001B[38;5;129;01mis\u001B[39;00m \u001B[38;5;129;01mnot\u001B[39;00m \u001B[38;5;28;01mNone\u001B[39;00m:\n\u001B[0;32m--> 489\u001B[0m     axes\u001B[38;5;241m.\u001B[39mxaxis\u001B[38;5;241m.\u001B[39mupdate_units(x)\n\u001B[1;32m    490\u001B[0m \u001B[38;5;28;01mif\u001B[39;00m axes\u001B[38;5;241m.\u001B[39myaxis \u001B[38;5;129;01mis\u001B[39;00m \u001B[38;5;129;01mnot\u001B[39;00m \u001B[38;5;28;01mNone\u001B[39;00m:\n\u001B[1;32m    491\u001B[0m     axes\u001B[38;5;241m.\u001B[39myaxis\u001B[38;5;241m.\u001B[39mupdate_units(y)\n",
      "File \u001B[0;32m/opt/anaconda3/envs/UpGrad/lib/python3.12/site-packages/matplotlib/axis.py:1765\u001B[0m, in \u001B[0;36mAxis.update_units\u001B[0;34m(self, data)\u001B[0m\n\u001B[1;32m   1763\u001B[0m neednew \u001B[38;5;241m=\u001B[39m \u001B[38;5;28mself\u001B[39m\u001B[38;5;241m.\u001B[39m_converter \u001B[38;5;241m!=\u001B[39m converter\n\u001B[1;32m   1764\u001B[0m \u001B[38;5;28mself\u001B[39m\u001B[38;5;241m.\u001B[39m_set_converter(converter)\n\u001B[0;32m-> 1765\u001B[0m default \u001B[38;5;241m=\u001B[39m \u001B[38;5;28mself\u001B[39m\u001B[38;5;241m.\u001B[39m_converter\u001B[38;5;241m.\u001B[39mdefault_units(data, \u001B[38;5;28mself\u001B[39m)\n\u001B[1;32m   1766\u001B[0m \u001B[38;5;28;01mif\u001B[39;00m default \u001B[38;5;129;01mis\u001B[39;00m \u001B[38;5;129;01mnot\u001B[39;00m \u001B[38;5;28;01mNone\u001B[39;00m \u001B[38;5;129;01mand\u001B[39;00m \u001B[38;5;28mself\u001B[39m\u001B[38;5;241m.\u001B[39munits \u001B[38;5;129;01mis\u001B[39;00m \u001B[38;5;28;01mNone\u001B[39;00m:\n\u001B[1;32m   1767\u001B[0m     \u001B[38;5;28mself\u001B[39m\u001B[38;5;241m.\u001B[39mset_units(default)\n",
      "File \u001B[0;32m/opt/anaconda3/envs/UpGrad/lib/python3.12/site-packages/matplotlib/category.py:106\u001B[0m, in \u001B[0;36mStrCategoryConverter.default_units\u001B[0;34m(data, axis)\u001B[0m\n\u001B[1;32m    104\u001B[0m \u001B[38;5;66;03m# the conversion call stack is default_units -> axis_info -> convert\u001B[39;00m\n\u001B[1;32m    105\u001B[0m \u001B[38;5;28;01mif\u001B[39;00m axis\u001B[38;5;241m.\u001B[39munits \u001B[38;5;129;01mis\u001B[39;00m \u001B[38;5;28;01mNone\u001B[39;00m:\n\u001B[0;32m--> 106\u001B[0m     axis\u001B[38;5;241m.\u001B[39mset_units(UnitData(data))\n\u001B[1;32m    107\u001B[0m \u001B[38;5;28;01melse\u001B[39;00m:\n\u001B[1;32m    108\u001B[0m     axis\u001B[38;5;241m.\u001B[39munits\u001B[38;5;241m.\u001B[39mupdate(data)\n",
      "File \u001B[0;32m/opt/anaconda3/envs/UpGrad/lib/python3.12/site-packages/matplotlib/category.py:182\u001B[0m, in \u001B[0;36mUnitData.__init__\u001B[0;34m(self, data)\u001B[0m\n\u001B[1;32m    180\u001B[0m \u001B[38;5;28mself\u001B[39m\u001B[38;5;241m.\u001B[39m_counter \u001B[38;5;241m=\u001B[39m itertools\u001B[38;5;241m.\u001B[39mcount()\n\u001B[1;32m    181\u001B[0m \u001B[38;5;28;01mif\u001B[39;00m data \u001B[38;5;129;01mis\u001B[39;00m \u001B[38;5;129;01mnot\u001B[39;00m \u001B[38;5;28;01mNone\u001B[39;00m:\n\u001B[0;32m--> 182\u001B[0m     \u001B[38;5;28mself\u001B[39m\u001B[38;5;241m.\u001B[39mupdate(data)\n",
      "File \u001B[0;32m/opt/anaconda3/envs/UpGrad/lib/python3.12/site-packages/matplotlib/category.py:217\u001B[0m, in \u001B[0;36mUnitData.update\u001B[0;34m(self, data)\u001B[0m\n\u001B[1;32m    214\u001B[0m convertible \u001B[38;5;241m=\u001B[39m \u001B[38;5;28;01mTrue\u001B[39;00m\n\u001B[1;32m    215\u001B[0m \u001B[38;5;28;01mfor\u001B[39;00m val \u001B[38;5;129;01min\u001B[39;00m OrderedDict\u001B[38;5;241m.\u001B[39mfromkeys(data):\n\u001B[1;32m    216\u001B[0m     \u001B[38;5;66;03m# OrderedDict just iterates over unique values in data.\u001B[39;00m\n\u001B[0;32m--> 217\u001B[0m     _api\u001B[38;5;241m.\u001B[39mcheck_isinstance((\u001B[38;5;28mstr\u001B[39m, \u001B[38;5;28mbytes\u001B[39m), value\u001B[38;5;241m=\u001B[39mval)\n\u001B[1;32m    218\u001B[0m     \u001B[38;5;28;01mif\u001B[39;00m convertible:\n\u001B[1;32m    219\u001B[0m         \u001B[38;5;66;03m# this will only be called so long as convertible is True.\u001B[39;00m\n\u001B[1;32m    220\u001B[0m         convertible \u001B[38;5;241m=\u001B[39m \u001B[38;5;28mself\u001B[39m\u001B[38;5;241m.\u001B[39m_str_is_convertible(val)\n",
      "File \u001B[0;32m/opt/anaconda3/envs/UpGrad/lib/python3.12/site-packages/matplotlib/_api/__init__.py:92\u001B[0m, in \u001B[0;36mcheck_isinstance\u001B[0;34m(types, **kwargs)\u001B[0m\n\u001B[1;32m     90\u001B[0m     names\u001B[38;5;241m.\u001B[39mremove(\u001B[38;5;124m\"\u001B[39m\u001B[38;5;124mNone\u001B[39m\u001B[38;5;124m\"\u001B[39m)\n\u001B[1;32m     91\u001B[0m     names\u001B[38;5;241m.\u001B[39mappend(\u001B[38;5;124m\"\u001B[39m\u001B[38;5;124mNone\u001B[39m\u001B[38;5;124m\"\u001B[39m)\n\u001B[0;32m---> 92\u001B[0m \u001B[38;5;28;01mraise\u001B[39;00m \u001B[38;5;167;01mTypeError\u001B[39;00m(\n\u001B[1;32m     93\u001B[0m     \u001B[38;5;124m\"\u001B[39m\u001B[38;5;132;01m{!r}\u001B[39;00m\u001B[38;5;124m must be an instance of \u001B[39m\u001B[38;5;132;01m{}\u001B[39;00m\u001B[38;5;124m, not a \u001B[39m\u001B[38;5;132;01m{}\u001B[39;00m\u001B[38;5;124m\"\u001B[39m\u001B[38;5;241m.\u001B[39mformat(\n\u001B[1;32m     94\u001B[0m         k,\n\u001B[1;32m     95\u001B[0m         \u001B[38;5;124m\"\u001B[39m\u001B[38;5;124m, \u001B[39m\u001B[38;5;124m\"\u001B[39m\u001B[38;5;241m.\u001B[39mjoin(names[:\u001B[38;5;241m-\u001B[39m\u001B[38;5;241m1\u001B[39m]) \u001B[38;5;241m+\u001B[39m \u001B[38;5;124m\"\u001B[39m\u001B[38;5;124m or \u001B[39m\u001B[38;5;124m\"\u001B[39m \u001B[38;5;241m+\u001B[39m names[\u001B[38;5;241m-\u001B[39m\u001B[38;5;241m1\u001B[39m]\n\u001B[1;32m     96\u001B[0m         \u001B[38;5;28;01mif\u001B[39;00m \u001B[38;5;28mlen\u001B[39m(names) \u001B[38;5;241m>\u001B[39m \u001B[38;5;241m1\u001B[39m \u001B[38;5;28;01melse\u001B[39;00m names[\u001B[38;5;241m0\u001B[39m],\n\u001B[1;32m     97\u001B[0m         type_name(\u001B[38;5;28mtype\u001B[39m(v))))\n",
      "\u001B[0;31mTypeError\u001B[0m: 'value' must be an instance of str or bytes, not a float"
     ]
    },
    {
     "data": {
      "text/plain": [
       "<Figure size 1200x600 with 1 Axes>"
      ],
      "image/png": "[encoded data removed]"
     },
     "metadata": {},
     "output_type": "display_data"
    }
   ],
   "execution_count": 6
  },
  {
   "metadata": {
    "ExecuteTime": {
     "end_time": "2025-01-29T12:57:38.314371Z",
     "start_time": "2025-01-29T12:57:38.296765Z"
    }
   },
   "cell_type": "code",
   "source": [
    "import pandas as pd\n",
    "\n",
    "# Load the cleaned data\n",
    "csv_path = \"Cleaned_Census_Data.csv\"\n",
    "df_cleaned = pd.read_csv(csv_path)\n",
    "\n",
    "# Convert necessary columns to numeric values\n",
    "df_cleaned[[\"Total_Population_Females\", \"Literate_Females\"]] = df_cleaned[\n",
    "    [\"Total_Population_Females\", \"Literate_Females\"]\n",
    "].apply(pd.to_numeric, errors=\"coerce\")\n",
    "\n",
    "# Group by State and calculate female literacy rate\n",
    "state_literacy = df_cleaned.groupby(\"Area_Name\").agg(\n",
    "    Total_Females=(\"Total_Population_Females\", \"sum\"),\n",
    "    Literate_Females=(\"Literate_Females\", \"sum\")\n",
    ").reset_index()\n",
    "\n",
    "# Calculate female literacy rate\n",
    "state_literacy[\"Female_Literacy_Rate\"] = (state_literacy[\"Literate_Females\"] / state_literacy[\"Total_Females\"]) * 100\n",
    "\n",
    "# Get the state with the highest female literacy rate\n",
    "highest_female_literacy_state = state_literacy.loc[state_literacy[\"Female_Literacy_Rate\"].idxmax()]\n",
    "\n",
    "# Print the result\n",
    "print(f\"State with highest female literacy rate: {highest_female_literacy_state['Area_Name']}\")\n",
    "print(f\"Female Literacy Rate: {highest_female_literacy_state['Female_Literacy_Rate']:.2f}%\")"
   ],
   "id": "fbb01c1c3dd61c17",
   "outputs": [
    {
     "name": "stdout",
     "output_type": "stream",
     "text": [
      "State with highest female literacy rate: State - KERALA\n",
      "Female Literacy Rate: 83.04%\n"
     ]
    }
   ],
   "execution_count": 7
  },
  {
   "metadata": {
    "ExecuteTime": {
     "end_time": "2025-01-29T12:58:53.188871Z",
     "start_time": "2025-01-29T12:58:53.170641Z"
    }
   },
   "cell_type": "code",
   "source": [
    "import pandas as pd\n",
    "\n",
    "# Load the cleaned data\n",
    "csv_path = \"Cleaned_Census_Data.csv\"\n",
    "df_cleaned = pd.read_csv(csv_path)\n",
    "\n",
    "# Convert necessary columns to numeric values\n",
    "df_cleaned[[\"Total_Population_Persons\", \"Literate_Persons\"]] = df_cleaned[\n",
    "    [\"Total_Population_Persons\", \"Literate_Persons\"]\n",
    "].apply(pd.to_numeric, errors=\"coerce\")\n",
    "\n",
    "# Group by State and calculate overall literacy rate\n",
    "state_total_literacy = df_cleaned.groupby(\"Area_Name\").agg(\n",
    "    Total_Population=(\"Total_Population_Persons\", \"sum\"),\n",
    "    Literates=(\"Literate_Persons\", \"sum\")\n",
    ").reset_index()\n",
    "\n",
    "# Calculate overall literacy rate\n",
    "state_total_literacy[\"Total_Literacy_Rate\"] = (state_total_literacy[\"Literates\"] / state_total_literacy[\"Total_Population\"]) * 100\n",
    "\n",
    "# Get the state with the lowest total literacy rate\n",
    "lowest_literacy_state = state_total_literacy.loc[state_total_literacy[\"Total_Literacy_Rate\"].idxmin()]\n",
    "\n",
    "# Print the result\n",
    "print(f\"State with lowest literacy rate: {lowest_literacy_state['Area_Name']}\")\n",
    "print(f\"Total Literacy Rate: {lowest_literacy_state['Total_Literacy_Rate']:.2f}%\")"
   ],
   "id": "102fc4ac884e2bce",
   "outputs": [
    {
     "name": "stdout",
     "output_type": "stream",
     "text": [
      "State with lowest literacy rate: State - BIHAR\n",
      "Total Literacy Rate: 50.44%\n"
     ]
    }
   ],
   "execution_count": 8
  },
  {
   "metadata": {},
   "cell_type": "code",
   "outputs": [],
   "execution_count": null,
   "source": "",
   "id": "fcc90047586c849b"
  }
 ],
 "metadata": {
  "kernelspec": {
   "display_name": "Python 3",
   "language": "python",
   "name": "python3"
  },
  "language_info": {
   "codemirror_mode": {
    "name": "ipython",
    "version": 2
   },
   "file_extension": ".py",
   "mimetype": "text/x-python",
   "name": "python",
   "nbconvert_exporter": "python",
   "pygments_lexer": "ipython2",
   "version": "2.7.6"
  }
 },
 "nbformat": 4,
 "nbformat_minor": 5
}
