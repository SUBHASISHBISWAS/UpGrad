{
 "cells": [
  {
   "cell_type": "code",
   "id": "initial_id",
   "metadata": {
    "collapsed": true,
    "ExecuteTime": {
     "end_time": "2025-01-29T13:24:54.648611Z",
     "start_time": "2025-01-29T13:24:54.639641Z"
    }
   },
   "source": [
    "import pandas as pd\n",
    "\n",
    "# Load the dataset\n",
    "file_path = \"grades.csv\"  # Change this to the correct file path\n",
    "df = pd.read_csv(file_path)\n",
    "\n",
    "# Convert 'submit_time' to a datetime format\n",
    "df['submit_time'] = pd.to_datetime(df['submit_time'], format=\"%m/%d/%y-%H:%M:%S\")\n",
    "\n",
    "# Extract relevant datetime components\n",
    "df['date'] = df['submit_time'].dt.date\n",
    "df['day'] = df['submit_time'].dt.day_name()\n",
    "df['month'] = df['submit_time'].dt.month_name()\n",
    "df['year'] = df['submit_time'].dt.year\n",
    "df['hour'] = df['submit_time'].dt.hour\n",
    "df['minute'] = df['submit_time'].dt.minute\n",
    "\n",
    "# Display the updated DataFrame\n",
    "print(df.head())\n"
   ],
   "outputs": [
    {
     "name": "stdout",
     "output_type": "stream",
     "text": [
      "                                          submission         submit_time  \\\n",
      "0  https://ckd.upgrad.com/UpGrad/73ba5189-94fd-44... 2017-01-03 20:28:52   \n",
      "1  https://ckd.upgrad.com/UpGrad/185242ff-7508-4c... 2017-01-03 20:18:21   \n",
      "2  https://ckd.upgrad.com/UpGrad/a353d129-c100-43... 2017-01-03 22:37:08   \n",
      "3  https://ckd.upgrad.com/UpGrad/002fc912-faa1-49... 2017-01-02 21:43:19   \n",
      "4  https://ckd.upgrad.com/UpGrad/25cbc4a4-6d49-4f... 2017-01-03 15:27:49   \n",
      "\n",
      "         date      day    month  year  hour  minute  \n",
      "0  2017-01-03  Tuesday  January  2017    20      28  \n",
      "1  2017-01-03  Tuesday  January  2017    20      18  \n",
      "2  2017-01-03  Tuesday  January  2017    22      37  \n",
      "3  2017-01-02   Monday  January  2017    21      43  \n",
      "4  2017-01-03  Tuesday  January  2017    15      27  \n"
     ]
    }
   ],
   "execution_count": 1
  },
  {
   "metadata": {
    "ExecuteTime": {
     "end_time": "2025-01-29T13:26:47.535463Z",
     "start_time": "2025-01-29T13:26:47.513338Z"
    }
   },
   "cell_type": "code",
   "source": [
    "import pandas as pd\n",
    "\n",
    "# Load the dataset\n",
    "file_path = \"grades.csv\"  # Change this to the correct file path\n",
    "df = pd.read_csv(file_path)\n",
    "\n",
    "# Convert 'submit_time' to a datetime format\n",
    "df['submit_time'] = pd.to_datetime(df['submit_time'], format=\"%m/%d/%y-%H:%M:%S\")\n",
    "\n",
    "# Extract relevant datetime components\n",
    "df['date'] = df['submit_time'].dt.date\n",
    "df['day'] = df['submit_time'].dt.day_name()\n",
    "df['month'] = df['submit_time'].dt.month_name()\n",
    "df['year'] = df['submit_time'].dt.year\n",
    "df['hour'] = df['submit_time'].dt.hour\n",
    "df['minute'] = df['submit_time'].dt.minute\n",
    "\n",
    "# Extract file extensions from the 'submission' column\n",
    "df['file_extension'] = df['submission'].apply(lambda x: x.split('/')[-1].split('.')[-1])\n",
    "\n",
    "# Calculate the percentage of .zip submissions\n",
    "total_submissions = len(df)\n",
    "zip_submissions = len(df[df['file_extension'] == 'zip'])\n",
    "zip_percentage = (zip_submissions / total_submissions) * 100\n",
    "\n",
    "# Display the percentage of .zip submissions\n",
    "print(f\"Percentage of .zip submissions: {zip_percentage:.2f}%\")\n",
    "\n",
    "# Display the updated DataFrame\n",
    "print(df.head())"
   ],
   "id": "be9b5f840a26c737",
   "outputs": [
    {
     "name": "stdout",
     "output_type": "stream",
     "text": [
      "Percentage of .zip submissions: 95.45%\n",
      "                                          submission         submit_time  \\\n",
      "0  https://ckd.upgrad.com/UpGrad/73ba5189-94fd-44... 2017-01-03 20:28:52   \n",
      "1  https://ckd.upgrad.com/UpGrad/185242ff-7508-4c... 2017-01-03 20:18:21   \n",
      "2  https://ckd.upgrad.com/UpGrad/a353d129-c100-43... 2017-01-03 22:37:08   \n",
      "3  https://ckd.upgrad.com/UpGrad/002fc912-faa1-49... 2017-01-02 21:43:19   \n",
      "4  https://ckd.upgrad.com/UpGrad/25cbc4a4-6d49-4f... 2017-01-03 15:27:49   \n",
      "\n",
      "         date      day    month  year  hour  minute file_extension  \n",
      "0  2017-01-03  Tuesday  January  2017    20      28            zip  \n",
      "1  2017-01-03  Tuesday  January  2017    20      18            zip  \n",
      "2  2017-01-03  Tuesday  January  2017    22      37            zip  \n",
      "3  2017-01-02   Monday  January  2017    21      43            zip  \n",
      "4  2017-01-03  Tuesday  January  2017    15      27            zip  \n"
     ]
    }
   ],
   "execution_count": 2
  },
  {
   "metadata": {
    "ExecuteTime": {
     "end_time": "2025-01-29T13:28:27.754151Z",
     "start_time": "2025-01-29T13:28:27.732445Z"
    }
   },
   "cell_type": "code",
   "source": [
    "import pandas as pd\n",
    "\n",
    "# Load the dataset\n",
    "file_path = \"grades.csv\"  # Change this to the correct file path\n",
    "df = pd.read_csv(file_path)\n",
    "\n",
    "# Convert 'submit_time' to a datetime format\n",
    "df['submit_time'] = pd.to_datetime(df['submit_time'], format=\"%m/%d/%y-%H:%M:%S\")\n",
    "\n",
    "# Extract relevant datetime components\n",
    "df['date'] = df['submit_time'].dt.date\n",
    "df['day'] = df['submit_time'].dt.day_name()\n",
    "df['month'] = df['submit_time'].dt.month_name()\n",
    "df['year'] = df['submit_time'].dt.year\n",
    "df['hour'] = df['submit_time'].dt.hour\n",
    "df['minute'] = df['submit_time'].dt.minute\n",
    "\n",
    "# Extract file extensions from the 'submission' column\n",
    "df['file_extension'] = df['submission'].apply(lambda x: x.split('/')[-1].split('.')[-1])\n",
    "\n",
    "# Calculate the percentage of .zip submissions\n",
    "total_submissions = len(df)\n",
    "zip_submissions = len(df[df['file_extension'] == 'zip'])\n",
    "zip_percentage = (zip_submissions / total_submissions) * 100\n",
    "\n",
    "# Define the first and second deadlines\n",
    "first_deadline = pd.Timestamp(\"2017-01-03 23:59:59\")\n",
    "second_deadline = pd.Timestamp(\"2017-01-09 23:59:59\")\n",
    "\n",
    "# Count the number of submissions after the first deadline\n",
    "late_submissions = df[df['submit_time'] > first_deadline]\n",
    "num_late_submissions = len(late_submissions)\n",
    "\n",
    "# Display results\n",
    "print(f\"Percentage of .zip submissions: {zip_percentage:.2f}%\")\n",
    "print(f\"Number of students who submitted after the first deadline: {num_late_submissions}\")\n",
    "\n",
    "# Display the updated DataFrame\n",
    "print(df.head())\n"
   ],
   "id": "6b420f602e39121b",
   "outputs": [
    {
     "name": "stdout",
     "output_type": "stream",
     "text": [
      "Percentage of .zip submissions: 95.45%\n",
      "Number of students who submitted after the first deadline: 44\n",
      "                                          submission         submit_time  \\\n",
      "0  https://ckd.upgrad.com/UpGrad/73ba5189-94fd-44... 2017-01-03 20:28:52   \n",
      "1  https://ckd.upgrad.com/UpGrad/185242ff-7508-4c... 2017-01-03 20:18:21   \n",
      "2  https://ckd.upgrad.com/UpGrad/a353d129-c100-43... 2017-01-03 22:37:08   \n",
      "3  https://ckd.upgrad.com/UpGrad/002fc912-faa1-49... 2017-01-02 21:43:19   \n",
      "4  https://ckd.upgrad.com/UpGrad/25cbc4a4-6d49-4f... 2017-01-03 15:27:49   \n",
      "\n",
      "         date      day    month  year  hour  minute file_extension  \n",
      "0  2017-01-03  Tuesday  January  2017    20      28            zip  \n",
      "1  2017-01-03  Tuesday  January  2017    20      18            zip  \n",
      "2  2017-01-03  Tuesday  January  2017    22      37            zip  \n",
      "3  2017-01-02   Monday  January  2017    21      43            zip  \n",
      "4  2017-01-03  Tuesday  January  2017    15      27            zip  \n"
     ]
    }
   ],
   "execution_count": 3
  },
  {
   "metadata": {
    "ExecuteTime": {
     "end_time": "2025-01-29T13:30:16.586385Z",
     "start_time": "2025-01-29T13:30:16.556914Z"
    }
   },
   "cell_type": "code",
   "source": [
    "import pandas as pd\n",
    "\n",
    "# Load the dataset\n",
    "file_path = \"grades.csv\"  # Change this to the correct file path\n",
    "df = pd.read_csv(file_path)\n",
    "\n",
    "# Convert 'submit_time' to a datetime format\n",
    "df['submit_time'] = pd.to_datetime(df['submit_time'], format=\"%m/%d/%y-%H:%M:%S\")\n",
    "\n",
    "# Extract relevant datetime components\n",
    "df['date'] = df['submit_time'].dt.date\n",
    "df['day'] = df['submit_time'].dt.day_name()\n",
    "df['month'] = df['submit_time'].dt.month_name()\n",
    "df['year'] = df['submit_time'].dt.year\n",
    "df['hour'] = df['submit_time'].dt.hour\n",
    "df['minute'] = df['submit_time'].dt.minute\n",
    "\n",
    "# Extract file extensions from the 'submission' column\n",
    "df['file_extension'] = df['submission'].apply(lambda x: x.split('/')[-1].split('.')[-1])\n",
    "\n",
    "# Calculate the percentage of .zip submissions\n",
    "total_submissions = len(df)\n",
    "zip_submissions = len(df[df['file_extension'] == 'zip'])\n",
    "zip_percentage = (zip_submissions / total_submissions) * 100\n",
    "\n",
    "# Define the first and second deadlines\n",
    "first_deadline = pd.Timestamp(\"2017-01-03 23:59:59\")\n",
    "second_deadline = pd.Timestamp(\"2017-01-09 23:59:59\")\n",
    "\n",
    "# Count the number of submissions after the first deadline\n",
    "late_submissions = df[df['submit_time'] > first_deadline]\n",
    "num_late_submissions = len(late_submissions)\n",
    "\n",
    "# Find the date with the most submissions\n",
    "most_common_submission_date = df['date'].value_counts().idxmax()\n",
    "most_common_submission_count = df['date'].value_counts().max()\n",
    "\n",
    "# Display results\n",
    "print(f\"Percentage of .zip submissions: {zip_percentage:.2f}%\")\n",
    "print(f\"Number of students who submitted after the first deadline: {num_late_submissions}\")\n",
    "print(f\"Date with the most submissions: {most_common_submission_date} ({most_common_submission_count} submissions)\")\n",
    "\n",
    "# Display the updated DataFrame\n",
    "print(df.head())\n"
   ],
   "id": "e291f733a1169c56",
   "outputs": [
    {
     "name": "stdout",
     "output_type": "stream",
     "text": [
      "Percentage of .zip submissions: 95.45%\n",
      "Number of students who submitted after the first deadline: 44\n",
      "Date with the most submissions: 2017-01-03 (120 submissions)\n",
      "                                          submission         submit_time  \\\n",
      "0  https://ckd.upgrad.com/UpGrad/73ba5189-94fd-44... 2017-01-03 20:28:52   \n",
      "1  https://ckd.upgrad.com/UpGrad/185242ff-7508-4c... 2017-01-03 20:18:21   \n",
      "2  https://ckd.upgrad.com/UpGrad/a353d129-c100-43... 2017-01-03 22:37:08   \n",
      "3  https://ckd.upgrad.com/UpGrad/002fc912-faa1-49... 2017-01-02 21:43:19   \n",
      "4  https://ckd.upgrad.com/UpGrad/25cbc4a4-6d49-4f... 2017-01-03 15:27:49   \n",
      "\n",
      "         date      day    month  year  hour  minute file_extension  \n",
      "0  2017-01-03  Tuesday  January  2017    20      28            zip  \n",
      "1  2017-01-03  Tuesday  January  2017    20      18            zip  \n",
      "2  2017-01-03  Tuesday  January  2017    22      37            zip  \n",
      "3  2017-01-02   Monday  January  2017    21      43            zip  \n",
      "4  2017-01-03  Tuesday  January  2017    15      27            zip  \n"
     ]
    }
   ],
   "execution_count": 4
  },
  {
   "metadata": {
    "ExecuteTime": {
     "end_time": "2025-01-29T13:31:46.328059Z",
     "start_time": "2025-01-29T13:31:46.307029Z"
    }
   },
   "cell_type": "code",
   "source": [
    "import pandas as pd\n",
    "\n",
    "# Load the dataset\n",
    "file_path = \"grades.csv\"  # Change this to the correct file path\n",
    "df = pd.read_csv(file_path)\n",
    "\n",
    "# Convert 'submit_time' to a datetime format\n",
    "df['submit_time'] = pd.to_datetime(df['submit_time'], format=\"%m/%d/%y-%H:%M:%S\")\n",
    "\n",
    "# Extract relevant datetime components\n",
    "df['date'] = df['submit_time'].dt.date\n",
    "df['day'] = df['submit_time'].dt.day_name()\n",
    "df['month'] = df['submit_time'].dt.month_name()\n",
    "df['year'] = df['submit_time'].dt.year\n",
    "df['hour'] = df['submit_time'].dt.hour\n",
    "df['minute'] = df['submit_time'].dt.minute\n",
    "\n",
    "# Extract file extensions from the 'submission' column\n",
    "df['file_extension'] = df['submission'].apply(lambda x: x.split('/')[-1].split('.')[-1])\n",
    "\n",
    "# Calculate the percentage of .zip submissions\n",
    "total_submissions = len(df)\n",
    "zip_submissions = len(df[df['file_extension'] == 'zip'])\n",
    "zip_percentage = (zip_submissions / total_submissions) * 100\n",
    "\n",
    "# Define the first and second deadlines\n",
    "first_deadline = pd.Timestamp(\"2017-01-03 23:59:59\")\n",
    "second_deadline = pd.Timestamp(\"2017-01-09 23:59:59\")\n",
    "\n",
    "# Count the number of submissions after the first deadline\n",
    "late_submissions = df[df['submit_time'] > first_deadline]\n",
    "num_late_submissions = len(late_submissions)\n",
    "\n",
    "# Find the date with the most submissions\n",
    "most_common_submission_date = df['date'].value_counts().idxmax()\n",
    "most_common_submission_count = df['date'].value_counts().max()\n",
    "\n",
    "# Find the hour with the most submissions\n",
    "most_common_submission_hour = df['hour'].value_counts().idxmax()\n",
    "most_common_submission_hour_count = df['hour'].value_counts().max()\n",
    "\n",
    "# Display results\n",
    "print(f\"Percentage of .zip submissions: {zip_percentage:.2f}%\")\n",
    "print(f\"Number of students who submitted after the first deadline: {num_late_submissions}\")\n",
    "print(f\"Date with the most submissions: {most_common_submission_date} ({most_common_submission_count} submissions)\")\n",
    "print(f\"Hour with the most submissions: {most_common_submission_hour}:00 ({most_common_submission_hour_count} submissions)\")\n",
    "\n",
    "# Display the updated DataFrame\n",
    "print(df.head())"
   ],
   "id": "52dc1982cdcff1b0",
   "outputs": [
    {
     "name": "stdout",
     "output_type": "stream",
     "text": [
      "Percentage of .zip submissions: 95.45%\n",
      "Number of students who submitted after the first deadline: 44\n",
      "Date with the most submissions: 2017-01-03 (120 submissions)\n",
      "Hour with the most submissions: 23:00 (66 submissions)\n",
      "                                          submission         submit_time  \\\n",
      "0  https://ckd.upgrad.com/UpGrad/73ba5189-94fd-44... 2017-01-03 20:28:52   \n",
      "1  https://ckd.upgrad.com/UpGrad/185242ff-7508-4c... 2017-01-03 20:18:21   \n",
      "2  https://ckd.upgrad.com/UpGrad/a353d129-c100-43... 2017-01-03 22:37:08   \n",
      "3  https://ckd.upgrad.com/UpGrad/002fc912-faa1-49... 2017-01-02 21:43:19   \n",
      "4  https://ckd.upgrad.com/UpGrad/25cbc4a4-6d49-4f... 2017-01-03 15:27:49   \n",
      "\n",
      "         date      day    month  year  hour  minute file_extension  \n",
      "0  2017-01-03  Tuesday  January  2017    20      28            zip  \n",
      "1  2017-01-03  Tuesday  January  2017    20      18            zip  \n",
      "2  2017-01-03  Tuesday  January  2017    22      37            zip  \n",
      "3  2017-01-02   Monday  January  2017    21      43            zip  \n",
      "4  2017-01-03  Tuesday  January  2017    15      27            zip  \n"
     ]
    }
   ],
   "execution_count": 5
  },
  {
   "metadata": {
    "ExecuteTime": {
     "end_time": "2025-01-29T13:34:08.873918Z",
     "start_time": "2025-01-29T13:34:08.769778Z"
    }
   },
   "cell_type": "code",
   "source": [
    "import pandas as pd\n",
    "import matplotlib.pyplot as plt\n",
    "\n",
    "# Load the dataset\n",
    "file_path = \"grades.csv\"  # Change this to the correct file path\n",
    "df = pd.read_csv(file_path)\n",
    "\n",
    "# Convert 'submit_time' to a datetime format\n",
    "df['submit_time'] = pd.to_datetime(df['submit_time'], format=\"%m/%d/%y-%H:%M:%S\")\n",
    "\n",
    "# Extract relevant datetime components\n",
    "df['date'] = df['submit_time'].dt.date\n",
    "df['day'] = df['submit_time'].dt.day_name()\n",
    "df['month'] = df['submit_time'].dt.month_name()\n",
    "df['year'] = df['submit_time'].dt.year\n",
    "df['hour'] = df['submit_time'].dt.hour\n",
    "df['minute'] = df['submit_time'].dt.minute\n",
    "\n",
    "# Extract file extensions from the 'submission' column\n",
    "df['file_extension'] = df['submission'].apply(lambda x: x.split('/')[-1].split('.')[-1])\n",
    "\n",
    "# Calculate the percentage of .zip submissions\n",
    "total_submissions = len(df)\n",
    "zip_submissions = len(df[df['file_extension'] == 'zip'])\n",
    "zip_percentage = (zip_submissions / total_submissions) * 100\n",
    "\n",
    "# Define the first and second deadlines\n",
    "first_deadline = pd.Timestamp(\"2017-01-03 23:59:59\")\n",
    "second_deadline = pd.Timestamp(\"2017-01-09 23:59:59\")\n",
    "\n",
    "# Count the number of submissions after the first deadline\n",
    "late_submissions = df[df['submit_time'] > first_deadline]\n",
    "num_late_submissions = len(late_submissions)\n",
    "\n",
    "# Find the date with the most submissions\n",
    "most_common_submission_date = df['date'].value_counts().idxmax()\n",
    "most_common_submission_count = df['date'].value_counts().max()\n",
    "\n",
    "# Find the hour with the most submissions\n",
    "most_common_submission_hour = df['hour'].value_counts().idxmax()\n",
    "most_common_submission_hour_count = df['hour'].value_counts().max()\n",
    "\n",
    "# Plot the distribution of submissions by hour\n",
    "plt.figure(figsize=(10, 5))\n",
    "df['hour'].value_counts().sort_index().plot(kind='bar', edgecolor='black')\n",
    "\n",
    "# Formatting the plot\n",
    "plt.xlabel('Hour of the Day')\n",
    "plt.ylabel('Number of Submissions')\n",
    "plt.title('Distribution of Submissions by Hour')\n",
    "plt.xticks(rotation=0)\n",
    "plt.grid(axis='y', linestyle='--', alpha=0.7)\n",
    "\n",
    "# Show the plot\n",
    "plt.show()\n",
    "\n",
    "# Display results\n",
    "print(f\"Percentage of .zip submissions: {zip_percentage:.2f}%\")\n",
    "print(f\"Number of students who submitted after the first deadline: {num_late_submissions}\")\n",
    "print(f\"Date with the most submissions: {most_common_submission_date} ({most_common_submission_count} submissions)\")\n",
    "print(f\"Hour with the most submissions: {most_common_submission_hour}:00 ({most_common_submission_hour_count} submissions)\")\n",
    "\n",
    "# Display the updated DataFrame\n",
    "print(df.head())\n"
   ],
   "id": "64a2bf7fe77cf2cc",
   "outputs": [
    {
     "data": {
      "text/plain": [
       "<Figure size 1000x500 with 1 Axes>"
      ],
      "image/png": "[encoded data removed]"
     },
     "metadata": {},
     "output_type": "display_data"
    },
    {
     "name": "stdout",
     "output_type": "stream",
     "text": [
      "Percentage of .zip submissions: 95.45%\n",
      "Number of students who submitted after the first deadline: 44\n",
      "Date with the most submissions: 2017-01-03 (120 submissions)\n",
      "Hour with the most submissions: 23:00 (66 submissions)\n",
      "                                          submission         submit_time  \\\n",
      "0  https://ckd.upgrad.com/UpGrad/73ba5189-94fd-44... 2017-01-03 20:28:52   \n",
      "1  https://ckd.upgrad.com/UpGrad/185242ff-7508-4c... 2017-01-03 20:18:21   \n",
      "2  https://ckd.upgrad.com/UpGrad/a353d129-c100-43... 2017-01-03 22:37:08   \n",
      "3  https://ckd.upgrad.com/UpGrad/002fc912-faa1-49... 2017-01-02 21:43:19   \n",
      "4  https://ckd.upgrad.com/UpGrad/25cbc4a4-6d49-4f... 2017-01-03 15:27:49   \n",
      "\n",
      "         date      day    month  year  hour  minute file_extension  \n",
      "0  2017-01-03  Tuesday  January  2017    20      28            zip  \n",
      "1  2017-01-03  Tuesday  January  2017    20      18            zip  \n",
      "2  2017-01-03  Tuesday  January  2017    22      37            zip  \n",
      "3  2017-01-02   Monday  January  2017    21      43            zip  \n",
      "4  2017-01-03  Tuesday  January  2017    15      27            zip  \n"
     ]
    }
   ],
   "execution_count": 6
  },
  {
   "metadata": {},
   "cell_type": "code",
   "outputs": [],
   "execution_count": null,
   "source": "",
   "id": "32df0ed1510f1c0a"
  }
 ],
 "metadata": {
  "kernelspec": {
   "display_name": "Python 3",
   "language": "python",
   "name": "python3"
  },
  "language_info": {
   "codemirror_mode": {
    "name": "ipython",
    "version": 2
   },
   "file_extension": ".py",
   "mimetype": "text/x-python",
   "name": "python",
   "nbconvert_exporter": "python",
   "pygments_lexer": "ipython2",
   "version": "2.7.6"
  }
 },
 "nbformat": 4,
 "nbformat_minor": 5
}
