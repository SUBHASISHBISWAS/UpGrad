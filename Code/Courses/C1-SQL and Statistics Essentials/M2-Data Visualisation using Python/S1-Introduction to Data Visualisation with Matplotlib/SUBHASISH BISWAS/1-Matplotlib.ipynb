{
 "cells": [
  {
   "metadata": {},
   "cell_type": "code",
   "outputs": [],
   "execution_count": null,
   "source": [
    "import numpy as np\n",
    "import matplotlib.pyplot as plt"
   ],
   "id": "d2134d5274516a94"
  }
 ],
 "metadata": {},
 "nbformat": 5,
 "nbformat_minor": 9
}
