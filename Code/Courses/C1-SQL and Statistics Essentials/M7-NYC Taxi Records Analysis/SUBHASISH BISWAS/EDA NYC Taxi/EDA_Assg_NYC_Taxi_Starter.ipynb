{
 "cells": [
  {
   "cell_type": "markdown",
   "metadata": {
    "id": "ZQl5n2IOuafL"
   },
   "source": [
    "# **New York City Yellow Taxi Data**"
   ]
  },
  {
   "cell_type": "markdown",
   "metadata": {
    "id": "DGQVIB4mEFrZ"
   },
   "source": [
    "## Objective\n",
    "In this case study you will be learning exploratory data analysis (EDA) with the help of a dataset on yellow taxi rides in New York City. This will enable you to understand why EDA is an important step in the process of data science and machine learning."
   ]
  },
  {
   "cell_type": "markdown",
   "metadata": {
    "id": "YJVMenVllLUL"
   },
   "source": [
    "## **Problem Statement**\n",
    "As an analyst at an upcoming taxi operation in NYC, you are tasked to use the 2023 taxi trip data to uncover insights that could help optimise taxi operations. The goal is to analyse patterns in the data that can inform strategic decisions to improve service efficiency, maximise revenue, and enhance passenger experience."
   ]
  },
  {
   "cell_type": "markdown",
   "metadata": {
    "id": "-OVfUMlHFkZD"
   },
   "source": [
    "## Tasks\n",
    "You need to perform the following steps for successfully completing this assignment:\n",
    "1. Data Loading\n",
    "2. Data Cleaning\n",
    "3. Exploratory Analysis: Bivariate and Multivariate\n",
    "4. Creating Visualisations to Support the Analysis\n",
    "5. Deriving Insights and Stating Conclusions"
   ]
  },
  {
   "cell_type": "markdown",
   "metadata": {
    "id": "gTxV-3GJUhWm"
   },
   "source": [
    "---"
   ]
  },
  {
   "cell_type": "markdown",
   "metadata": {
    "id": "ofebI8ITG-Li"
   },
   "source": [
    "**NOTE:** The marks given along with headings and sub-headings are cumulative marks for those particular headings/sub-headings.<br>\n",
    "\n",
    "The actual marks for each task are specified within the tasks themselves.\n",
    "\n",
    "For example, marks given with heading *2* or sub-heading *2.1* are the cumulative marks, for your reference only. <br>\n",
    "\n",
    "The marks you will receive for completing tasks are given with the tasks.\n",
    "\n",
    "Suppose the marks for two tasks are: 3 marks for 2.1.1 and 2 marks for 3.2.2, or\n",
    "* 2.1.1 [3 marks]\n",
    "* 3.2.2 [2 marks]\n",
    "\n",
    "then, you will earn 3 marks for completing task 2.1.1 and 2 marks for completing task 3.2.2.\n"
   ]
  },
  {
   "cell_type": "markdown",
   "metadata": {
    "id": "YdQjht7dUiHt"
   },
   "source": [
    "---"
   ]
  },
  {
   "cell_type": "markdown",
   "metadata": {
    "id": "0eaCZjHIvfuI"
   },
   "source": [
    "## Data Understanding\n",
    "The yellow taxi trip records include fields capturing pick-up and drop-off dates/times, pick-up and drop-off locations, trip distances, itemized fares, rate types, payment types, and driver-reported passenger counts.\n",
    "\n",
    "The data is stored in Parquet format (*.parquet*). The dataset is from 2009 to 2024. However, for this assignment, we will only be using the data from 2023.\n",
    "\n",
    "The data for each month is present in a different parquet file. You will get twelve files for each of the months in 2023.\n",
    "\n",
    "The data was collected and provided to the NYC Taxi and Limousine Commission (TLC) by technology providers like vendors and taxi hailing apps. <br>\n",
    "\n",
    "You can find the link to the TLC trip records page here: https://www.nyc.gov/site/tlc/about/tlc-trip-record-data.page"
   ]
  },
  {
   "cell_type": "markdown",
   "metadata": {
    "id": "LI6qC5IDxZU1"
   },
   "source": [
    "###  Data Description\n",
    "You can find the data description here: [Data Dictionary](https://www.nyc.gov/assets/tlc/downloads/pdf/data_dictionary_trip_records_yellow.pdf)"
   ]
  },
  {
   "cell_type": "markdown",
   "metadata": {
    "id": "FafCzrDuxHg2"
   },
   "source": [
    "**Trip Records**\n",
    "\n",
    "\n",
    "\n",
    "|Field Name       |description |\n",
    "|:----------------|:-----------|\n",
    "| VendorID | A code indicating the TPEP provider that provided the record. <br> 1= Creative Mobile Technologies, LLC; <br> 2= VeriFone Inc. |\n",
    "| tpep_pickup_datetime | The date and time when the meter was engaged.  |\n",
    "| tpep_dropoff_datetime | The date and time when the meter was disengaged.   |\n",
    "| Passenger_count | The number of passengers in the vehicle. <br> This is a driver-entered value. |\n",
    "| Trip_distance | The elapsed trip distance in miles reported by the taximeter. |\n",
    "| PULocationID | TLC Taxi Zone in which the taximeter was engaged |\n",
    "| DOLocationID | TLC Taxi Zone in which the taximeter was disengaged |\n",
    "|RateCodeID |The final rate code in effect at the end of the trip.<br> 1 = Standard rate <br> 2 = JFK <br> 3 = Newark <br>4 = Nassau or Westchester <br>5 = Negotiated fare <br>6 = Group ride |\n",
    "|Store_and_fwd_flag |This flag indicates whether the trip record was held in vehicle memory before sending to the vendor, aka “store and forward,” because the vehicle did not have a connection to the server.  <br>Y= store and forward trip <br>N= not a store and forward trip |\n",
    "|Payment_type| A numeric code signifying how the passenger paid for the trip. <br> 1 = Credit card <br>2 = Cash <br>3 = No charge <br>4 = Dispute <br>5 = Unknown <br>6 = Voided trip |\n",
    "|Fare_amount| The time-and-distance fare calculated by the meter. <br>Extra Miscellaneous extras and surcharges.  Currently, this only includes the 0.50 and 1 USD rush hour and overnight charges. |\n",
    "|MTA_tax |0.50 USD MTA tax that is automatically triggered based on the metered rate in use. |\n",
    "|Improvement_surcharge | 0.30 USD improvement surcharge assessed trips at the flag drop. The improvement surcharge began being levied in 2015. |\n",
    "|Tip_amount |Tip amount – This field is automatically populated for credit card tips. Cash tips are not included. |\n",
    "| Tolls_amount | Total amount of all tolls paid in trip.  |\n",
    "| total_amount | The total amount charged to passengers. Does not include cash tips. |\n",
    "|Congestion_Surcharge |Total amount collected in trip for NYS congestion surcharge. |\n",
    "| Airport_fee | 1.25 USD for pick up only at LaGuardia and John F. Kennedy Airports|\n",
    "\n",
    "Although the amounts of extra charges and taxes applied are specified in the data dictionary, you will see that some cases have different values of these charges in the actual data."
   ]
  },
  {
   "cell_type": "markdown",
   "metadata": {
    "id": "mL-FWYFnVEdE"
   },
   "source": [
    "**Taxi Zones**\n",
    "\n",
    "Each of the trip records contains a field corresponding to the location of the pickup or drop-off of the trip, populated by numbers ranging from 1-263.\n",
    "\n",
    "These numbers correspond to taxi zones, which may be downloaded as a table or map/shapefile and matched to the trip records using a join.\n",
    "\n",
    "This is covered in more detail in later sections."
   ]
  },
  {
   "cell_type": "markdown",
   "metadata": {
    "id": "z66W3s51U0gF"
   },
   "source": [
    "---"
   ]
  },
  {
   "cell_type": "markdown",
   "metadata": {
    "id": "Kw-WRzBfyS7j"
   },
   "source": [
    "## **1** Data Preparation\n",
    "\n",
    "<font color = red>[5 marks]</font> <br>"
   ]
  },
  {
   "cell_type": "markdown",
   "metadata": {
    "id": "nM2X-s6lycvQ"
   },
   "source": [
    "### Import Libraries"
   ]
  },
  {
   "cell_type": "code",
   "metadata": {
    "id": "juReqsAzEdW3",
    "ExecuteTime": {
     "end_time": "2025-02-25T18:54:15.207032Z",
     "start_time": "2025-02-25T18:54:15.205066Z"
    }
   },
   "source": [
    "# Import warnings\n",
    "\n"
   ],
   "outputs": [],
   "execution_count": 240
  },
  {
   "cell_type": "code",
   "metadata": {
    "id": "3XZjOlJiy1dr",
    "ExecuteTime": {
     "end_time": "2025-02-25T18:54:15.232288Z",
     "start_time": "2025-02-25T18:54:15.230593Z"
    }
   },
   "source": [
    "# Import the libraries you will be using for analysis\n",
    "import numpy as np\n",
    "import pandas as pd\n",
    "import matplotlib.pyplot as plt\n",
    "import seaborn as sns\n",
    "import tabulate\n",
    "import os\n",
    "\n"
   ],
   "outputs": [],
   "execution_count": 241
  },
  {
   "cell_type": "code",
   "metadata": {
    "id": "NsH5LNrSgW9q",
    "ExecuteTime": {
     "end_time": "2025-02-25T18:54:15.239332Z",
     "start_time": "2025-02-25T18:54:15.237586Z"
    }
   },
   "source": [
    "# Recommended versions\n",
    "# numpy version: 1.26.4\n",
    "# pandas version: 2.2.2\n",
    "# matplotlib version: 3.10.0\n",
    "# seaborn version: 0.13.2\n",
    "\n",
    "# Check versions\n",
    "print(\"numpy version:\", np.__version__)\n",
    "print(\"pandas version:\", pd.__version__)\n",
    "print(\"matplotlib version:\", plt.matplotlib.__version__)\n",
    "print(\"seaborn version:\", sns.__version__)"
   ],
   "outputs": [
    {
     "name": "stdout",
     "output_type": "stream",
     "text": [
      "numpy version: 2.0.1\n",
      "pandas version: 2.2.3\n",
      "matplotlib version: 3.10.0\n",
      "seaborn version: 0.13.2\n"
     ]
    }
   ],
   "execution_count": 242
  },
  {
   "cell_type": "markdown",
   "metadata": {
    "id": "NgHgbPIepaYl"
   },
   "source": [
    "### **1.1** Load the dataset\n",
    "<font color = red>[5 marks]</font> <br>"
   ]
  },
  {
   "cell_type": "markdown",
   "metadata": {
    "id": "KrGluF_gpeHs"
   },
   "source": [
    "You will see twelve files, one for each month.\n",
    "\n",
    "To read parquet files with Pandas, you have to follow a similar syntax as that for CSV files.\n",
    "\n",
    "`df = pd.read_parquet('file.parquet')`"
   ]
  },
  {
   "cell_type": "code",
   "metadata": {
    "id": "kIpIsuSSzCp9",
    "ExecuteTime": {
     "end_time": "2025-02-25T18:54:15.261401Z",
     "start_time": "2025-02-25T18:54:15.259769Z"
    }
   },
   "source": [
    "# Try loading one file\n",
    "\n",
    "# df = pd.read_parquet('2023-1.parquet')\n",
    "# df.info()"
   ],
   "outputs": [],
   "execution_count": 243
  },
  {
   "cell_type": "markdown",
   "metadata": {
    "id": "eh-keWIyqcyr"
   },
   "source": [
    "How many rows are there? Do you think handling such a large number of rows is computationally feasible when we have to combine the data for all twelve months into one?\n",
    "\n",
    "To handle this, we need to sample a fraction of data from each of the files. How to go about that? Think of a way to select only some portion of the data from each month's file that accurately represents the trends."
   ]
  },
  {
   "cell_type": "markdown",
   "metadata": {
    "id": "zHx7lh_3QGmj"
   },
   "source": [
    "#### Sampling the Data\n",
    "> One way is to take a small percentage of entries for pickup in every hour of a date. So, for all the days in a month, we can iterate through the hours and select 5% values randomly from those. Use `tpep_pickup_datetime` for this. Separate date and hour from the datetime values and then for each date, select some fraction of trips for each of the 24 hours.\n",
    "\n",
    "To sample data, you can use the `sample()` method. Follow this syntax:\n",
    "\n",
    "```Python\n",
    "# sampled_data is an empty DF to keep appending sampled data of each hour\n",
    "# hour_data is the DF of entries for an hour 'X' on a date 'Y'\n",
    "\n",
    "sample = hour_data.sample(frac = 0.05, random_state = 42)\n",
    "# sample 0.05 of the hour_data\n",
    "# random_state is just a seed for sampling, you can define it yourself\n",
    "\n",
    "sampled_data = pd.concat([sampled_data, sample]) # adding data for this hour to the DF\n",
    "```\n",
    "\n",
    "This *sampled_data* will contain 5% values selected at random from each hour.\n",
    "\n",
    "Note that the code given above is only the part that will be used for sampling and not the complete code required for sampling and combining the data files.\n",
    "\n",
    "Keep in mind that you sample by date AND hour, not just hour. (Why?)"
   ]
  },
  {
   "cell_type": "markdown",
   "metadata": {
    "id": "3zog80nsqvKp"
   },
   "source": [
    "---"
   ]
  },
  {
   "cell_type": "markdown",
   "metadata": {
    "id": "Fp24-wpQrlC5"
   },
   "source": [
    "**1.1.1** <font color = red>[5 marks]</font> <br>\n",
    "Figure out how to sample and combine the files."
   ]
  },
  {
   "cell_type": "markdown",
   "metadata": {
    "id": "vRGOnciGOvq0"
   },
   "source": [
    "**Note:** It is not mandatory to use the method specified above. While sampling, you only need to make sure that your sampled data represents the overall data of all the months accurately."
   ]
  },
  {
   "cell_type": "code",
   "metadata": {
    "id": "3cpuzPFvP2iC",
    "ExecuteTime": {
     "end_time": "2025-02-25T18:54:15.284454Z",
     "start_time": "2025-02-25T18:54:15.283147Z"
    }
   },
   "source": [
    "# Sample the data\n",
    "# It is recommmended to not load all the files at once to avoid memory overload"
   ],
   "outputs": [],
   "execution_count": 244
  },
  {
   "cell_type": "code",
   "metadata": {
    "id": "h3x5bCWmarTO",
    "ExecuteTime": {
     "end_time": "2025-02-25T18:54:15.288337Z",
     "start_time": "2025-02-25T18:54:15.286977Z"
    }
   },
   "source": [
    "# from google.colab import drive\n",
    "# drive.mount('/content/drive')"
   ],
   "outputs": [],
   "execution_count": 245
  },
  {
   "metadata": {
    "ExecuteTime": {
     "end_time": "2025-02-25T18:54:15.302611Z",
     "start_time": "2025-02-25T18:54:15.300147Z"
    }
   },
   "cell_type": "code",
   "source": [
    "# Select the folder having data files\n",
    "os.chdir('/Users/subhasishbiswas/GIT/Interstellar/UpGrad/Code/Courses/C1-SQL and Statistics Essentials/M7-NYC Taxi Records Analysis/SUBHASISH BISWAS/EDA NYC Taxi/Datasets and Dictionary/trip_records')\n",
    "# Create a list of all the twelve files to read\n",
    "\n",
    "# initialise an empty dataframe\n",
    "df = pd.DataFrame()\n",
    "\n",
    "file_list = os.listdir()\n",
    "print(file_list)\n",
    "\n",
    "\n"
   ],
   "outputs": [
    {
     "name": "stdout",
     "output_type": "stream",
     "text": [
      "['2023-12.parquet', '2023-6.parquet', '2023-7.parquet', '.DS_Store', '2023-5.parquet', '2023-11.parquet', '2023-10.parquet', '2023-4.parquet', '2023-1.parquet', '2023-8.parquet', '2023-9.parquet', '2023-2.parquet', '2023-3.parquet']\n"
     ]
    }
   ],
   "execution_count": 246
  },
  {
   "cell_type": "code",
   "metadata": {
    "id": "t1EXP0PHzPs0",
    "ExecuteTime": {
     "end_time": "2025-02-25T19:05:47.154523Z",
     "start_time": "2025-02-25T18:54:15.313640Z"
    }
   },
   "source": [
    "# Take a small percentage of entries from each hour of every date.\n",
    "# Iterating through the monthly data:\n",
    "#   read a month file -> day -> hour: append sampled data -> move to next hour -> move to next day after 24 hours -> move to next month file\n",
    "# Create a single dataframe for the year combining all the monthly data\n",
    "\n",
    "\n",
    "\n",
    "\n",
    "# iterate through the list of files and sample one by one:\n",
    "for file_name in file_list:\n",
    "    try:\n",
    "        # file path for the current file\n",
    "        file_path = os.path.join(os.getcwd(), file_name)\n",
    "        print(f\"Reading file: {file_name}\")\n",
    "        # Reading the current file\n",
    "\n",
    "        # We will store the sampled data for the current date in this df by appending the sampled data from each hour to this\n",
    "        # After completing iteration through each date, we will append this data to the final dataframe.\n",
    "        sampled_data = pd.DataFrame()\n",
    "        df_month = pd.read_parquet(file_path)\n",
    "        df_month['date'] = df_month['tpep_pickup_datetime'].dt.date\n",
    "        df_month['hour'] = df_month['tpep_pickup_datetime'].dt.hour\n",
    "\n",
    "        # Loop through dates and then loop through every hour of each date\n",
    "        # Sample 5% of the hourly data randomly\n",
    "        # add data of this hour to the dataframe\n",
    "        for date in df_month['date'].unique():\n",
    "            for hour in range(24):\n",
    "                # Filter data for the current date and hour\n",
    "                hour_data = df_month[(df_month['date'] == date) & (df_month['hour'] == hour)]\n",
    "                # Sample 5% of the hourly data randomly\n",
    "                if len(hour_data) > 0:\n",
    "                    sample = hour_data.sample(frac=0.05, random_state=42)\n",
    "                    sampled_data = pd.concat([sampled_data, sample])\n",
    "\n",
    "        # Concatenate the sampled data of all the dates to a single dataframe\n",
    "        df = pd.concat([df, sampled_data])\n",
    "\n",
    "    except Exception as e:\n",
    "        print(f\"Error reading file {file_name}: {e}\")\n",
    "\n",
    "# Store the df in csv/parquet\n",
    "df.to_parquet('Sampled_NYC_Taxi_Data.parquet')\n",
    "df\n"
   ],
   "outputs": [
    {
     "name": "stdout",
     "output_type": "stream",
     "text": [
      "Reading file: 2023-12.parquet\n",
      "Reading file: 2023-6.parquet\n",
      "Reading file: 2023-7.parquet\n",
      "Reading file: .DS_Store\n",
      "Error reading file .DS_Store: Could not open Parquet input source '<Buffer>': Parquet magic bytes not found in footer. Either the file is corrupted or this is not a parquet file.\n",
      "Reading file: 2023-5.parquet\n",
      "Reading file: 2023-11.parquet\n",
      "Reading file: 2023-10.parquet\n",
      "Reading file: 2023-4.parquet\n",
      "Reading file: 2023-1.parquet\n",
      "Reading file: 2023-8.parquet\n",
      "Reading file: 2023-9.parquet\n",
      "Reading file: 2023-2.parquet\n",
      "Reading file: 2023-3.parquet\n"
     ]
    },
    {
     "data": {
      "text/plain": [
       "         VendorID tpep_pickup_datetime tpep_dropoff_datetime  passenger_count  \\\n",
       "1788            2  2023-12-01 00:27:51   2023-12-01 00:50:12              1.0   \n",
       "3196699         2  2023-12-01 00:38:48   2023-12-01 01:01:55              NaN   \n",
       "1408            2  2023-12-01 00:06:19   2023-12-01 00:16:57              1.0   \n",
       "3196663         2  2023-12-01 00:00:50   2023-12-01 00:14:37              NaN   \n",
       "3613            2  2023-12-01 00:16:07   2023-12-01 00:19:17              1.0   \n",
       "...           ...                  ...                   ...              ...   \n",
       "3203004         2  2023-06-30 23:53:10   2023-07-01 00:05:55              1.0   \n",
       "3203122         1  2023-06-30 23:22:42   2023-06-30 23:39:06              1.0   \n",
       "3206515         1  2023-06-30 23:50:42   2023-07-01 00:20:00              2.0   \n",
       "3206491         1  2023-06-30 23:05:31   2023-06-30 23:15:52              1.0   \n",
       "3202916         2  2023-07-01 00:00:51   2023-07-01 00:24:19              1.0   \n",
       "\n",
       "         trip_distance  RatecodeID store_and_fwd_flag  PULocationID  \\\n",
       "1788              3.99         1.0                  N           148   \n",
       "3196699           4.79         NaN               None           231   \n",
       "1408              1.05         1.0                  N           161   \n",
       "3196663           2.08         NaN               None           137   \n",
       "3613              0.40         1.0                  N            68   \n",
       "...                ...         ...                ...           ...   \n",
       "3203004           2.63         1.0                  N           170   \n",
       "3203122           0.00        99.0                  N            90   \n",
       "3206515           5.40         1.0                  N            87   \n",
       "3206491           1.00         1.0                  N            87   \n",
       "3202916           5.04         1.0                  N           209   \n",
       "\n",
       "         DOLocationID  payment_type  ...  mta_tax  tip_amount  tolls_amount  \\\n",
       "1788               50             1  ...      0.5        5.66           0.0   \n",
       "3196699            61             0  ...      0.5        3.00           0.0   \n",
       "1408              161             1  ...      0.5        3.14           0.0   \n",
       "3196663           144             0  ...      0.5        0.00           0.0   \n",
       "3613               68             1  ...      0.5        0.00           0.0   \n",
       "...               ...           ...  ...      ...         ...           ...   \n",
       "3203004           143             1  ...      0.5        4.80           0.0   \n",
       "3203122           232             1  ...      0.5        0.00           0.0   \n",
       "3206515           161             1  ...      0.5        2.00           0.0   \n",
       "3206491           231             2  ...      0.5        0.00           0.0   \n",
       "3202916           225             1  ...      0.5        4.56           0.0   \n",
       "\n",
       "         improvement_surcharge  total_amount  congestion_surcharge  \\\n",
       "1788                       1.0         33.96                   2.5   \n",
       "3196699                    1.0         29.43                   NaN   \n",
       "1408                       1.0         18.84                   2.5   \n",
       "3196663                    1.0         21.22                   NaN   \n",
       "3613                       1.0         10.10                   2.5   \n",
       "...                        ...           ...                   ...   \n",
       "3203004                    1.0         24.00                   2.5   \n",
       "3203122                    1.0         19.70                   0.0   \n",
       "3206515                    1.0         39.40                   2.5   \n",
       "3206491                    1.0         15.70                   2.5   \n",
       "3202916                    1.0         34.96                   2.5   \n",
       "\n",
       "         Airport_fee        date  hour airport_fee  \n",
       "1788             0.0  2023-12-01     0         NaN  \n",
       "3196699          NaN  2023-12-01     0         NaN  \n",
       "1408             0.0  2023-12-01     0         NaN  \n",
       "3196663          NaN  2023-12-01     0         NaN  \n",
       "3613             0.0  2023-12-01     0         NaN  \n",
       "...              ...         ...   ...         ...  \n",
       "3203004          0.0  2023-06-30    23         NaN  \n",
       "3203122          0.0  2023-06-30    23         NaN  \n",
       "3206515          0.0  2023-06-30    23         NaN  \n",
       "3206491          0.0  2023-06-30    23         NaN  \n",
       "3202916          0.0  2023-07-01     0         NaN  \n",
       "\n",
       "[1896400 rows x 22 columns]"
      ],
      "text/html": [
       "<div>\n",
       "<style scoped>\n",
       "    .dataframe tbody tr th:only-of-type {\n",
       "        vertical-align: middle;\n",
       "    }\n",
       "\n",
       "    .dataframe tbody tr th {\n",
       "        vertical-align: top;\n",
       "    }\n",
       "\n",
       "    .dataframe thead th {\n",
       "        text-align: right;\n",
       "    }\n",
       "</style>\n",
       "<table border=\"1\" class=\"dataframe\">\n",
       "  <thead>\n",
       "    <tr style=\"text-align: right;\">\n",
       "      <th></th>\n",
       "      <th>VendorID</th>\n",
       "      <th>tpep_pickup_datetime</th>\n",
       "      <th>tpep_dropoff_datetime</th>\n",
       "      <th>passenger_count</th>\n",
       "      <th>trip_distance</th>\n",
       "      <th>RatecodeID</th>\n",
       "      <th>store_and_fwd_flag</th>\n",
       "      <th>PULocationID</th>\n",
       "      <th>DOLocationID</th>\n",
       "      <th>payment_type</th>\n",
       "      <th>...</th>\n",
       "      <th>mta_tax</th>\n",
       "      <th>tip_amount</th>\n",
       "      <th>tolls_amount</th>\n",
       "      <th>improvement_surcharge</th>\n",
       "      <th>total_amount</th>\n",
       "      <th>congestion_surcharge</th>\n",
       "      <th>Airport_fee</th>\n",
       "      <th>date</th>\n",
       "      <th>hour</th>\n",
       "      <th>airport_fee</th>\n",
       "    </tr>\n",
       "  </thead>\n",
       "  <tbody>\n",
       "    <tr>\n",
       "      <th>1788</th>\n",
       "      <td>2</td>\n",
       "      <td>2023-12-01 00:27:51</td>\n",
       "      <td>2023-12-01 00:50:12</td>\n",
       "      <td>1.0</td>\n",
       "      <td>3.99</td>\n",
       "      <td>1.0</td>\n",
       "      <td>N</td>\n",
       "      <td>148</td>\n",
       "      <td>50</td>\n",
       "      <td>1</td>\n",
       "      <td>...</td>\n",
       "      <td>0.5</td>\n",
       "      <td>5.66</td>\n",
       "      <td>0.0</td>\n",
       "      <td>1.0</td>\n",
       "      <td>33.96</td>\n",
       "      <td>2.5</td>\n",
       "      <td>0.0</td>\n",
       "      <td>2023-12-01</td>\n",
       "      <td>0</td>\n",
       "      <td>NaN</td>\n",
       "    </tr>\n",
       "    <tr>\n",
       "      <th>3196699</th>\n",
       "      <td>2</td>\n",
       "      <td>2023-12-01 00:38:48</td>\n",
       "      <td>2023-12-01 01:01:55</td>\n",
       "      <td>NaN</td>\n",
       "      <td>4.79</td>\n",
       "      <td>NaN</td>\n",
       "      <td>None</td>\n",
       "      <td>231</td>\n",
       "      <td>61</td>\n",
       "      <td>0</td>\n",
       "      <td>...</td>\n",
       "      <td>0.5</td>\n",
       "      <td>3.00</td>\n",
       "      <td>0.0</td>\n",
       "      <td>1.0</td>\n",
       "      <td>29.43</td>\n",
       "      <td>NaN</td>\n",
       "      <td>NaN</td>\n",
       "      <td>2023-12-01</td>\n",
       "      <td>0</td>\n",
       "      <td>NaN</td>\n",
       "    </tr>\n",
       "    <tr>\n",
       "      <th>1408</th>\n",
       "      <td>2</td>\n",
       "      <td>2023-12-01 00:06:19</td>\n",
       "      <td>2023-12-01 00:16:57</td>\n",
       "      <td>1.0</td>\n",
       "      <td>1.05</td>\n",
       "      <td>1.0</td>\n",
       "      <td>N</td>\n",
       "      <td>161</td>\n",
       "      <td>161</td>\n",
       "      <td>1</td>\n",
       "      <td>...</td>\n",
       "      <td>0.5</td>\n",
       "      <td>3.14</td>\n",
       "      <td>0.0</td>\n",
       "      <td>1.0</td>\n",
       "      <td>18.84</td>\n",
       "      <td>2.5</td>\n",
       "      <td>0.0</td>\n",
       "      <td>2023-12-01</td>\n",
       "      <td>0</td>\n",
       "      <td>NaN</td>\n",
       "    </tr>\n",
       "    <tr>\n",
       "      <th>3196663</th>\n",
       "      <td>2</td>\n",
       "      <td>2023-12-01 00:00:50</td>\n",
       "      <td>2023-12-01 00:14:37</td>\n",
       "      <td>NaN</td>\n",
       "      <td>2.08</td>\n",
       "      <td>NaN</td>\n",
       "      <td>None</td>\n",
       "      <td>137</td>\n",
       "      <td>144</td>\n",
       "      <td>0</td>\n",
       "      <td>...</td>\n",
       "      <td>0.5</td>\n",
       "      <td>0.00</td>\n",
       "      <td>0.0</td>\n",
       "      <td>1.0</td>\n",
       "      <td>21.22</td>\n",
       "      <td>NaN</td>\n",
       "      <td>NaN</td>\n",
       "      <td>2023-12-01</td>\n",
       "      <td>0</td>\n",
       "      <td>NaN</td>\n",
       "    </tr>\n",
       "    <tr>\n",
       "      <th>3613</th>\n",
       "      <td>2</td>\n",
       "      <td>2023-12-01 00:16:07</td>\n",
       "      <td>2023-12-01 00:19:17</td>\n",
       "      <td>1.0</td>\n",
       "      <td>0.40</td>\n",
       "      <td>1.0</td>\n",
       "      <td>N</td>\n",
       "      <td>68</td>\n",
       "      <td>68</td>\n",
       "      <td>1</td>\n",
       "      <td>...</td>\n",
       "      <td>0.5</td>\n",
       "      <td>0.00</td>\n",
       "      <td>0.0</td>\n",
       "      <td>1.0</td>\n",
       "      <td>10.10</td>\n",
       "      <td>2.5</td>\n",
       "      <td>0.0</td>\n",
       "      <td>2023-12-01</td>\n",
       "      <td>0</td>\n",
       "      <td>NaN</td>\n",
       "    </tr>\n",
       "    <tr>\n",
       "      <th>...</th>\n",
       "      <td>...</td>\n",
       "      <td>...</td>\n",
       "      <td>...</td>\n",
       "      <td>...</td>\n",
       "      <td>...</td>\n",
       "      <td>...</td>\n",
       "      <td>...</td>\n",
       "      <td>...</td>\n",
       "      <td>...</td>\n",
       "      <td>...</td>\n",
       "      <td>...</td>\n",
       "      <td>...</td>\n",
       "      <td>...</td>\n",
       "      <td>...</td>\n",
       "      <td>...</td>\n",
       "      <td>...</td>\n",
       "      <td>...</td>\n",
       "      <td>...</td>\n",
       "      <td>...</td>\n",
       "      <td>...</td>\n",
       "      <td>...</td>\n",
       "    </tr>\n",
       "    <tr>\n",
       "      <th>3203004</th>\n",
       "      <td>2</td>\n",
       "      <td>2023-06-30 23:53:10</td>\n",
       "      <td>2023-07-01 00:05:55</td>\n",
       "      <td>1.0</td>\n",
       "      <td>2.63</td>\n",
       "      <td>1.0</td>\n",
       "      <td>N</td>\n",
       "      <td>170</td>\n",
       "      <td>143</td>\n",
       "      <td>1</td>\n",
       "      <td>...</td>\n",
       "      <td>0.5</td>\n",
       "      <td>4.80</td>\n",
       "      <td>0.0</td>\n",
       "      <td>1.0</td>\n",
       "      <td>24.00</td>\n",
       "      <td>2.5</td>\n",
       "      <td>0.0</td>\n",
       "      <td>2023-06-30</td>\n",
       "      <td>23</td>\n",
       "      <td>NaN</td>\n",
       "    </tr>\n",
       "    <tr>\n",
       "      <th>3203122</th>\n",
       "      <td>1</td>\n",
       "      <td>2023-06-30 23:22:42</td>\n",
       "      <td>2023-06-30 23:39:06</td>\n",
       "      <td>1.0</td>\n",
       "      <td>0.00</td>\n",
       "      <td>99.0</td>\n",
       "      <td>N</td>\n",
       "      <td>90</td>\n",
       "      <td>232</td>\n",
       "      <td>1</td>\n",
       "      <td>...</td>\n",
       "      <td>0.5</td>\n",
       "      <td>0.00</td>\n",
       "      <td>0.0</td>\n",
       "      <td>1.0</td>\n",
       "      <td>19.70</td>\n",
       "      <td>0.0</td>\n",
       "      <td>0.0</td>\n",
       "      <td>2023-06-30</td>\n",
       "      <td>23</td>\n",
       "      <td>NaN</td>\n",
       "    </tr>\n",
       "    <tr>\n",
       "      <th>3206515</th>\n",
       "      <td>1</td>\n",
       "      <td>2023-06-30 23:50:42</td>\n",
       "      <td>2023-07-01 00:20:00</td>\n",
       "      <td>2.0</td>\n",
       "      <td>5.40</td>\n",
       "      <td>1.0</td>\n",
       "      <td>N</td>\n",
       "      <td>87</td>\n",
       "      <td>161</td>\n",
       "      <td>1</td>\n",
       "      <td>...</td>\n",
       "      <td>0.5</td>\n",
       "      <td>2.00</td>\n",
       "      <td>0.0</td>\n",
       "      <td>1.0</td>\n",
       "      <td>39.40</td>\n",
       "      <td>2.5</td>\n",
       "      <td>0.0</td>\n",
       "      <td>2023-06-30</td>\n",
       "      <td>23</td>\n",
       "      <td>NaN</td>\n",
       "    </tr>\n",
       "    <tr>\n",
       "      <th>3206491</th>\n",
       "      <td>1</td>\n",
       "      <td>2023-06-30 23:05:31</td>\n",
       "      <td>2023-06-30 23:15:52</td>\n",
       "      <td>1.0</td>\n",
       "      <td>1.00</td>\n",
       "      <td>1.0</td>\n",
       "      <td>N</td>\n",
       "      <td>87</td>\n",
       "      <td>231</td>\n",
       "      <td>2</td>\n",
       "      <td>...</td>\n",
       "      <td>0.5</td>\n",
       "      <td>0.00</td>\n",
       "      <td>0.0</td>\n",
       "      <td>1.0</td>\n",
       "      <td>15.70</td>\n",
       "      <td>2.5</td>\n",
       "      <td>0.0</td>\n",
       "      <td>2023-06-30</td>\n",
       "      <td>23</td>\n",
       "      <td>NaN</td>\n",
       "    </tr>\n",
       "    <tr>\n",
       "      <th>3202916</th>\n",
       "      <td>2</td>\n",
       "      <td>2023-07-01 00:00:51</td>\n",
       "      <td>2023-07-01 00:24:19</td>\n",
       "      <td>1.0</td>\n",
       "      <td>5.04</td>\n",
       "      <td>1.0</td>\n",
       "      <td>N</td>\n",
       "      <td>209</td>\n",
       "      <td>225</td>\n",
       "      <td>1</td>\n",
       "      <td>...</td>\n",
       "      <td>0.5</td>\n",
       "      <td>4.56</td>\n",
       "      <td>0.0</td>\n",
       "      <td>1.0</td>\n",
       "      <td>34.96</td>\n",
       "      <td>2.5</td>\n",
       "      <td>0.0</td>\n",
       "      <td>2023-07-01</td>\n",
       "      <td>0</td>\n",
       "      <td>NaN</td>\n",
       "    </tr>\n",
       "  </tbody>\n",
       "</table>\n",
       "<p>1896400 rows × 22 columns</p>\n",
       "</div>"
      ]
     },
     "execution_count": 247,
     "metadata": {},
     "output_type": "execute_result"
    }
   ],
   "execution_count": 247
  },
  {
   "cell_type": "markdown",
   "metadata": {
    "id": "Sej6pZkzw2AK"
   },
   "source": [
    "After combining the data files into one DataFrame, convert the new DataFrame to a CSV or parquet file and store it to use directly.\n",
    "\n",
    "Ideally, you can try keeping the total entries to around 250,000 to 300,000."
   ]
  },
  {
   "cell_type": "markdown",
   "metadata": {
    "id": "QaOS3H9izZ0N"
   },
   "source": [
    "## **2** Data Cleaning\n",
    "<font color = red>[30 marks]</font> <br>"
   ]
  },
  {
   "cell_type": "markdown",
   "metadata": {
    "id": "5y3PKWqhxRA9"
   },
   "source": [
    "Now we can load the new data directly."
   ]
  },
  {
   "cell_type": "code",
   "metadata": {
    "id": "FOuOL0SDxQHd",
    "ExecuteTime": {
     "end_time": "2025-02-25T19:05:47.567399Z",
     "start_time": "2025-02-25T19:05:47.415412Z"
    }
   },
   "source": [
    "# Load the new data file\n",
    "\n",
    "try:\n",
    "    df = pd.read_parquet('Sampled_NYC_Taxi_Data.parquet')\n",
    "except FileNotFoundError:\n",
    "    print(\"Error: 'Sampled_NYC_Taxi_Data.parquet' DataFrame not found or saved file not found. Please make sure you have sampled and saved the data first.\")\n",
    "print(df.count().sum())"
   ],
   "outputs": [
    {
     "name": "stdout",
     "output_type": "stream",
     "text": [
      "39500030\n"
     ]
    }
   ],
   "execution_count": 248
  },
  {
   "cell_type": "code",
   "metadata": {
    "id": "fbzmFKyn1780",
    "ExecuteTime": {
     "end_time": "2025-02-25T19:05:47.663597Z",
     "start_time": "2025-02-25T19:05:47.656494Z"
    }
   },
   "source": "df.head()",
   "outputs": [
    {
     "data": {
      "text/plain": [
       "         VendorID tpep_pickup_datetime tpep_dropoff_datetime  passenger_count  \\\n",
       "1788            2  2023-12-01 00:27:51   2023-12-01 00:50:12              1.0   \n",
       "3196699         2  2023-12-01 00:38:48   2023-12-01 01:01:55              NaN   \n",
       "1408            2  2023-12-01 00:06:19   2023-12-01 00:16:57              1.0   \n",
       "3196663         2  2023-12-01 00:00:50   2023-12-01 00:14:37              NaN   \n",
       "3613            2  2023-12-01 00:16:07   2023-12-01 00:19:17              1.0   \n",
       "\n",
       "         trip_distance  RatecodeID store_and_fwd_flag  PULocationID  \\\n",
       "1788              3.99         1.0                  N           148   \n",
       "3196699           4.79         NaN               None           231   \n",
       "1408              1.05         1.0                  N           161   \n",
       "3196663           2.08         NaN               None           137   \n",
       "3613              0.40         1.0                  N            68   \n",
       "\n",
       "         DOLocationID  payment_type  ...  mta_tax  tip_amount  tolls_amount  \\\n",
       "1788               50             1  ...      0.5        5.66           0.0   \n",
       "3196699            61             0  ...      0.5        3.00           0.0   \n",
       "1408              161             1  ...      0.5        3.14           0.0   \n",
       "3196663           144             0  ...      0.5        0.00           0.0   \n",
       "3613               68             1  ...      0.5        0.00           0.0   \n",
       "\n",
       "         improvement_surcharge  total_amount  congestion_surcharge  \\\n",
       "1788                       1.0         33.96                   2.5   \n",
       "3196699                    1.0         29.43                   NaN   \n",
       "1408                       1.0         18.84                   2.5   \n",
       "3196663                    1.0         21.22                   NaN   \n",
       "3613                       1.0         10.10                   2.5   \n",
       "\n",
       "         Airport_fee        date  hour airport_fee  \n",
       "1788             0.0  2023-12-01     0         NaN  \n",
       "3196699          NaN  2023-12-01     0         NaN  \n",
       "1408             0.0  2023-12-01     0         NaN  \n",
       "3196663          NaN  2023-12-01     0         NaN  \n",
       "3613             0.0  2023-12-01     0         NaN  \n",
       "\n",
       "[5 rows x 22 columns]"
      ],
      "text/html": [
       "<div>\n",
       "<style scoped>\n",
       "    .dataframe tbody tr th:only-of-type {\n",
       "        vertical-align: middle;\n",
       "    }\n",
       "\n",
       "    .dataframe tbody tr th {\n",
       "        vertical-align: top;\n",
       "    }\n",
       "\n",
       "    .dataframe thead th {\n",
       "        text-align: right;\n",
       "    }\n",
       "</style>\n",
       "<table border=\"1\" class=\"dataframe\">\n",
       "  <thead>\n",
       "    <tr style=\"text-align: right;\">\n",
       "      <th></th>\n",
       "      <th>VendorID</th>\n",
       "      <th>tpep_pickup_datetime</th>\n",
       "      <th>tpep_dropoff_datetime</th>\n",
       "      <th>passenger_count</th>\n",
       "      <th>trip_distance</th>\n",
       "      <th>RatecodeID</th>\n",
       "      <th>store_and_fwd_flag</th>\n",
       "      <th>PULocationID</th>\n",
       "      <th>DOLocationID</th>\n",
       "      <th>payment_type</th>\n",
       "      <th>...</th>\n",
       "      <th>mta_tax</th>\n",
       "      <th>tip_amount</th>\n",
       "      <th>tolls_amount</th>\n",
       "      <th>improvement_surcharge</th>\n",
       "      <th>total_amount</th>\n",
       "      <th>congestion_surcharge</th>\n",
       "      <th>Airport_fee</th>\n",
       "      <th>date</th>\n",
       "      <th>hour</th>\n",
       "      <th>airport_fee</th>\n",
       "    </tr>\n",
       "  </thead>\n",
       "  <tbody>\n",
       "    <tr>\n",
       "      <th>1788</th>\n",
       "      <td>2</td>\n",
       "      <td>2023-12-01 00:27:51</td>\n",
       "      <td>2023-12-01 00:50:12</td>\n",
       "      <td>1.0</td>\n",
       "      <td>3.99</td>\n",
       "      <td>1.0</td>\n",
       "      <td>N</td>\n",
       "      <td>148</td>\n",
       "      <td>50</td>\n",
       "      <td>1</td>\n",
       "      <td>...</td>\n",
       "      <td>0.5</td>\n",
       "      <td>5.66</td>\n",
       "      <td>0.0</td>\n",
       "      <td>1.0</td>\n",
       "      <td>33.96</td>\n",
       "      <td>2.5</td>\n",
       "      <td>0.0</td>\n",
       "      <td>2023-12-01</td>\n",
       "      <td>0</td>\n",
       "      <td>NaN</td>\n",
       "    </tr>\n",
       "    <tr>\n",
       "      <th>3196699</th>\n",
       "      <td>2</td>\n",
       "      <td>2023-12-01 00:38:48</td>\n",
       "      <td>2023-12-01 01:01:55</td>\n",
       "      <td>NaN</td>\n",
       "      <td>4.79</td>\n",
       "      <td>NaN</td>\n",
       "      <td>None</td>\n",
       "      <td>231</td>\n",
       "      <td>61</td>\n",
       "      <td>0</td>\n",
       "      <td>...</td>\n",
       "      <td>0.5</td>\n",
       "      <td>3.00</td>\n",
       "      <td>0.0</td>\n",
       "      <td>1.0</td>\n",
       "      <td>29.43</td>\n",
       "      <td>NaN</td>\n",
       "      <td>NaN</td>\n",
       "      <td>2023-12-01</td>\n",
       "      <td>0</td>\n",
       "      <td>NaN</td>\n",
       "    </tr>\n",
       "    <tr>\n",
       "      <th>1408</th>\n",
       "      <td>2</td>\n",
       "      <td>2023-12-01 00:06:19</td>\n",
       "      <td>2023-12-01 00:16:57</td>\n",
       "      <td>1.0</td>\n",
       "      <td>1.05</td>\n",
       "      <td>1.0</td>\n",
       "      <td>N</td>\n",
       "      <td>161</td>\n",
       "      <td>161</td>\n",
       "      <td>1</td>\n",
       "      <td>...</td>\n",
       "      <td>0.5</td>\n",
       "      <td>3.14</td>\n",
       "      <td>0.0</td>\n",
       "      <td>1.0</td>\n",
       "      <td>18.84</td>\n",
       "      <td>2.5</td>\n",
       "      <td>0.0</td>\n",
       "      <td>2023-12-01</td>\n",
       "      <td>0</td>\n",
       "      <td>NaN</td>\n",
       "    </tr>\n",
       "    <tr>\n",
       "      <th>3196663</th>\n",
       "      <td>2</td>\n",
       "      <td>2023-12-01 00:00:50</td>\n",
       "      <td>2023-12-01 00:14:37</td>\n",
       "      <td>NaN</td>\n",
       "      <td>2.08</td>\n",
       "      <td>NaN</td>\n",
       "      <td>None</td>\n",
       "      <td>137</td>\n",
       "      <td>144</td>\n",
       "      <td>0</td>\n",
       "      <td>...</td>\n",
       "      <td>0.5</td>\n",
       "      <td>0.00</td>\n",
       "      <td>0.0</td>\n",
       "      <td>1.0</td>\n",
       "      <td>21.22</td>\n",
       "      <td>NaN</td>\n",
       "      <td>NaN</td>\n",
       "      <td>2023-12-01</td>\n",
       "      <td>0</td>\n",
       "      <td>NaN</td>\n",
       "    </tr>\n",
       "    <tr>\n",
       "      <th>3613</th>\n",
       "      <td>2</td>\n",
       "      <td>2023-12-01 00:16:07</td>\n",
       "      <td>2023-12-01 00:19:17</td>\n",
       "      <td>1.0</td>\n",
       "      <td>0.40</td>\n",
       "      <td>1.0</td>\n",
       "      <td>N</td>\n",
       "      <td>68</td>\n",
       "      <td>68</td>\n",
       "      <td>1</td>\n",
       "      <td>...</td>\n",
       "      <td>0.5</td>\n",
       "      <td>0.00</td>\n",
       "      <td>0.0</td>\n",
       "      <td>1.0</td>\n",
       "      <td>10.10</td>\n",
       "      <td>2.5</td>\n",
       "      <td>0.0</td>\n",
       "      <td>2023-12-01</td>\n",
       "      <td>0</td>\n",
       "      <td>NaN</td>\n",
       "    </tr>\n",
       "  </tbody>\n",
       "</table>\n",
       "<p>5 rows × 22 columns</p>\n",
       "</div>"
      ]
     },
     "execution_count": 249,
     "metadata": {},
     "output_type": "execute_result"
    }
   ],
   "execution_count": 249
  },
  {
   "cell_type": "code",
   "metadata": {
    "id": "FH83U4A49ErC",
    "ExecuteTime": {
     "end_time": "2025-02-25T19:05:48.101892Z",
     "start_time": "2025-02-25T19:05:48.096539Z"
    }
   },
   "source": "df.info()",
   "outputs": [
    {
     "name": "stdout",
     "output_type": "stream",
     "text": [
      "<class 'pandas.core.frame.DataFrame'>\n",
      "Index: 1896400 entries, 1788 to 3202916\n",
      "Data columns (total 22 columns):\n",
      " #   Column                 Dtype         \n",
      "---  ------                 -----         \n",
      " 0   VendorID               int64         \n",
      " 1   tpep_pickup_datetime   datetime64[us]\n",
      " 2   tpep_dropoff_datetime  datetime64[us]\n",
      " 3   passenger_count        float64       \n",
      " 4   trip_distance          float64       \n",
      " 5   RatecodeID             float64       \n",
      " 6   store_and_fwd_flag     object        \n",
      " 7   PULocationID           int64         \n",
      " 8   DOLocationID           int64         \n",
      " 9   payment_type           int64         \n",
      " 10  fare_amount            float64       \n",
      " 11  extra                  float64       \n",
      " 12  mta_tax                float64       \n",
      " 13  tip_amount             float64       \n",
      " 14  tolls_amount           float64       \n",
      " 15  improvement_surcharge  float64       \n",
      " 16  total_amount           float64       \n",
      " 17  congestion_surcharge   float64       \n",
      " 18  Airport_fee            float64       \n",
      " 19  date                   object        \n",
      " 20  hour                   int32         \n",
      " 21  airport_fee            float64       \n",
      "dtypes: datetime64[us](2), float64(13), int32(1), int64(4), object(2)\n",
      "memory usage: 325.5+ MB\n"
     ]
    }
   ],
   "execution_count": 250
  },
  {
   "cell_type": "markdown",
   "metadata": {
    "id": "HZvPSwJx0S3K"
   },
   "source": [
    "#### **2.1** Fixing Columns\n",
    "<font color = red>[10 marks]</font> <br>\n",
    "\n",
    "Fix/drop any columns as you seem necessary in the below sections"
   ]
  },
  {
   "cell_type": "markdown",
   "metadata": {
    "id": "358takCd2FiM"
   },
   "source": [
    "**2.1.1** <font color = red>[2 marks]</font> <br>\n",
    "\n",
    "Fix the index and drop unnecessary columns"
   ]
  },
  {
   "cell_type": "code",
   "metadata": {
    "id": "KHHFyZxa2PEM",
    "ExecuteTime": {
     "end_time": "2025-02-25T19:05:49.236246Z",
     "start_time": "2025-02-25T19:05:48.497397Z"
    }
   },
   "source": [
    "# Reset the index\n",
    "df = df.reset_index(drop=True)\n",
    "\n",
    "'''\n",
    "I'm dropping the columns VendorID, store_and_fwd_flag, payment_ type,\n",
    "tpep_pickup_datetime, and tpep_dropoff _datetime because they are not directly relevant to\n",
    "the analysis and can be dropped. The goal of the analysis is to uncover insights that could help\n",
    "optimize taxi operations, and these columns do not provide any direct information about taxi\n",
    "operations. For example, the Vendor ID column indicates the provider that provided the record,\n",
    "which is not relevant to the analysis. Similarly, the store_and_fwd_flag column indicates\n",
    "whether the trip record was held in vehicle memory before sending to the vendor, which is also\n",
    "not relevant to the analvsis.\n",
    "'''\n",
    "# Drop unnecessary columns\n",
    "df = df.drop(columns=['VendorID', 'store_and_fwd_flag'])\n",
    "\n",
    "df.describe()\n"
   ],
   "outputs": [
    {
     "data": {
      "text/plain": [
       "             tpep_pickup_datetime       tpep_dropoff_datetime  \\\n",
       "count                     1896400                     1896400   \n",
       "mean   2023-07-02 19:59:52.930795  2023-07-02 20:17:18.919564   \n",
       "min           2022-12-31 23:51:30         2022-12-31 23:56:06   \n",
       "25%    2023-04-02 16:10:08.750000  2023-04-02 16:27:43.500000   \n",
       "50%    2023-06-27 15:44:22.500000         2023-06-27 16:01:15   \n",
       "75%           2023-10-06 19:37:45         2023-10-06 19:53:39   \n",
       "max           2023-12-31 23:57:51         2024-01-01 20:50:55   \n",
       "std                           NaN                         NaN   \n",
       "\n",
       "       passenger_count  trip_distance    RatecodeID  PULocationID  \\\n",
       "count     1.831526e+06   1.896400e+06  1.831526e+06  1.896400e+06   \n",
       "mean      1.369215e+00   3.858293e+00  1.634694e+00  1.652814e+02   \n",
       "min       0.000000e+00   0.000000e+00  1.000000e+00  1.000000e+00   \n",
       "25%       1.000000e+00   1.050000e+00  1.000000e+00  1.320000e+02   \n",
       "50%       1.000000e+00   1.790000e+00  1.000000e+00  1.620000e+02   \n",
       "75%       1.000000e+00   3.400000e+00  1.000000e+00  2.340000e+02   \n",
       "max       9.000000e+00   1.263605e+05  9.900000e+01  2.650000e+02   \n",
       "std       8.927560e-01   1.294085e+02  7.393915e+00  6.400038e+01   \n",
       "\n",
       "       DOLocationID  payment_type   fare_amount         extra       mta_tax  \\\n",
       "count  1.896400e+06  1.896400e+06  1.896400e+06  1.896400e+06  1.896400e+06   \n",
       "mean   1.640515e+02  1.163817e+00  1.991935e+01  1.588018e+00  4.952796e-01   \n",
       "min    1.000000e+00  0.000000e+00  0.000000e+00 -2.500000e+00 -5.000000e-01   \n",
       "25%    1.140000e+02  1.000000e+00  9.300000e+00  0.000000e+00  5.000000e-01   \n",
       "50%    1.620000e+02  1.000000e+00  1.350000e+01  1.000000e+00  5.000000e-01   \n",
       "75%    2.340000e+02  1.000000e+00  2.190000e+01  2.500000e+00  5.000000e-01   \n",
       "max    2.650000e+02  4.000000e+00  1.431635e+05  2.080000e+01  4.000000e+00   \n",
       "std    6.980207e+01  5.081384e-01  1.055371e+02  1.829200e+00  4.885128e-02   \n",
       "\n",
       "         tip_amount  tolls_amount  improvement_surcharge  total_amount  \\\n",
       "count  1.896400e+06  1.896400e+06           1.896400e+06  1.896400e+06   \n",
       "mean   3.547011e+00  5.965338e-01           9.989706e-01  2.898186e+01   \n",
       "min    0.000000e+00  0.000000e+00          -1.000000e+00 -5.750000e+00   \n",
       "25%    1.000000e+00  0.000000e+00           1.000000e+00  1.596000e+01   \n",
       "50%    2.850000e+00  0.000000e+00           1.000000e+00  2.100000e+01   \n",
       "75%    4.420000e+00  0.000000e+00           1.000000e+00  3.094000e+01   \n",
       "max    2.230800e+02  1.430000e+02           1.000000e+00  1.431675e+05   \n",
       "std    4.054882e+00  2.187878e+00           3.112072e-02  1.064162e+02   \n",
       "\n",
       "       congestion_surcharge   Airport_fee          hour    airport_fee  \n",
       "count          1.831526e+06  1.683043e+06  1.896400e+06  148483.000000  \n",
       "mean           2.307524e+00  1.458850e-01  1.426504e+01       0.109036  \n",
       "min           -2.500000e+00 -1.750000e+00  0.000000e+00      -1.250000  \n",
       "25%            2.500000e+00  0.000000e+00  1.100000e+01       0.000000  \n",
       "50%            2.500000e+00  0.000000e+00  1.500000e+01       0.000000  \n",
       "75%            2.500000e+00  0.000000e+00  1.900000e+01       0.000000  \n",
       "max            2.500000e+00  1.750000e+00  2.300000e+01       1.250000  \n",
       "std            6.667267e-01  4.733757e-01  5.807381e+00       0.352744  "
      ],
      "text/html": [
       "<div>\n",
       "<style scoped>\n",
       "    .dataframe tbody tr th:only-of-type {\n",
       "        vertical-align: middle;\n",
       "    }\n",
       "\n",
       "    .dataframe tbody tr th {\n",
       "        vertical-align: top;\n",
       "    }\n",
       "\n",
       "    .dataframe thead th {\n",
       "        text-align: right;\n",
       "    }\n",
       "</style>\n",
       "<table border=\"1\" class=\"dataframe\">\n",
       "  <thead>\n",
       "    <tr style=\"text-align: right;\">\n",
       "      <th></th>\n",
       "      <th>tpep_pickup_datetime</th>\n",
       "      <th>tpep_dropoff_datetime</th>\n",
       "      <th>passenger_count</th>\n",
       "      <th>trip_distance</th>\n",
       "      <th>RatecodeID</th>\n",
       "      <th>PULocationID</th>\n",
       "      <th>DOLocationID</th>\n",
       "      <th>payment_type</th>\n",
       "      <th>fare_amount</th>\n",
       "      <th>extra</th>\n",
       "      <th>mta_tax</th>\n",
       "      <th>tip_amount</th>\n",
       "      <th>tolls_amount</th>\n",
       "      <th>improvement_surcharge</th>\n",
       "      <th>total_amount</th>\n",
       "      <th>congestion_surcharge</th>\n",
       "      <th>Airport_fee</th>\n",
       "      <th>hour</th>\n",
       "      <th>airport_fee</th>\n",
       "    </tr>\n",
       "  </thead>\n",
       "  <tbody>\n",
       "    <tr>\n",
       "      <th>count</th>\n",
       "      <td>1896400</td>\n",
       "      <td>1896400</td>\n",
       "      <td>1.831526e+06</td>\n",
       "      <td>1.896400e+06</td>\n",
       "      <td>1.831526e+06</td>\n",
       "      <td>1.896400e+06</td>\n",
       "      <td>1.896400e+06</td>\n",
       "      <td>1.896400e+06</td>\n",
       "      <td>1.896400e+06</td>\n",
       "      <td>1.896400e+06</td>\n",
       "      <td>1.896400e+06</td>\n",
       "      <td>1.896400e+06</td>\n",
       "      <td>1.896400e+06</td>\n",
       "      <td>1.896400e+06</td>\n",
       "      <td>1.896400e+06</td>\n",
       "      <td>1.831526e+06</td>\n",
       "      <td>1.683043e+06</td>\n",
       "      <td>1.896400e+06</td>\n",
       "      <td>148483.000000</td>\n",
       "    </tr>\n",
       "    <tr>\n",
       "      <th>mean</th>\n",
       "      <td>2023-07-02 19:59:52.930795</td>\n",
       "      <td>2023-07-02 20:17:18.919564</td>\n",
       "      <td>1.369215e+00</td>\n",
       "      <td>3.858293e+00</td>\n",
       "      <td>1.634694e+00</td>\n",
       "      <td>1.652814e+02</td>\n",
       "      <td>1.640515e+02</td>\n",
       "      <td>1.163817e+00</td>\n",
       "      <td>1.991935e+01</td>\n",
       "      <td>1.588018e+00</td>\n",
       "      <td>4.952796e-01</td>\n",
       "      <td>3.547011e+00</td>\n",
       "      <td>5.965338e-01</td>\n",
       "      <td>9.989706e-01</td>\n",
       "      <td>2.898186e+01</td>\n",
       "      <td>2.307524e+00</td>\n",
       "      <td>1.458850e-01</td>\n",
       "      <td>1.426504e+01</td>\n",
       "      <td>0.109036</td>\n",
       "    </tr>\n",
       "    <tr>\n",
       "      <th>min</th>\n",
       "      <td>2022-12-31 23:51:30</td>\n",
       "      <td>2022-12-31 23:56:06</td>\n",
       "      <td>0.000000e+00</td>\n",
       "      <td>0.000000e+00</td>\n",
       "      <td>1.000000e+00</td>\n",
       "      <td>1.000000e+00</td>\n",
       "      <td>1.000000e+00</td>\n",
       "      <td>0.000000e+00</td>\n",
       "      <td>0.000000e+00</td>\n",
       "      <td>-2.500000e+00</td>\n",
       "      <td>-5.000000e-01</td>\n",
       "      <td>0.000000e+00</td>\n",
       "      <td>0.000000e+00</td>\n",
       "      <td>-1.000000e+00</td>\n",
       "      <td>-5.750000e+00</td>\n",
       "      <td>-2.500000e+00</td>\n",
       "      <td>-1.750000e+00</td>\n",
       "      <td>0.000000e+00</td>\n",
       "      <td>-1.250000</td>\n",
       "    </tr>\n",
       "    <tr>\n",
       "      <th>25%</th>\n",
       "      <td>2023-04-02 16:10:08.750000</td>\n",
       "      <td>2023-04-02 16:27:43.500000</td>\n",
       "      <td>1.000000e+00</td>\n",
       "      <td>1.050000e+00</td>\n",
       "      <td>1.000000e+00</td>\n",
       "      <td>1.320000e+02</td>\n",
       "      <td>1.140000e+02</td>\n",
       "      <td>1.000000e+00</td>\n",
       "      <td>9.300000e+00</td>\n",
       "      <td>0.000000e+00</td>\n",
       "      <td>5.000000e-01</td>\n",
       "      <td>1.000000e+00</td>\n",
       "      <td>0.000000e+00</td>\n",
       "      <td>1.000000e+00</td>\n",
       "      <td>1.596000e+01</td>\n",
       "      <td>2.500000e+00</td>\n",
       "      <td>0.000000e+00</td>\n",
       "      <td>1.100000e+01</td>\n",
       "      <td>0.000000</td>\n",
       "    </tr>\n",
       "    <tr>\n",
       "      <th>50%</th>\n",
       "      <td>2023-06-27 15:44:22.500000</td>\n",
       "      <td>2023-06-27 16:01:15</td>\n",
       "      <td>1.000000e+00</td>\n",
       "      <td>1.790000e+00</td>\n",
       "      <td>1.000000e+00</td>\n",
       "      <td>1.620000e+02</td>\n",
       "      <td>1.620000e+02</td>\n",
       "      <td>1.000000e+00</td>\n",
       "      <td>1.350000e+01</td>\n",
       "      <td>1.000000e+00</td>\n",
       "      <td>5.000000e-01</td>\n",
       "      <td>2.850000e+00</td>\n",
       "      <td>0.000000e+00</td>\n",
       "      <td>1.000000e+00</td>\n",
       "      <td>2.100000e+01</td>\n",
       "      <td>2.500000e+00</td>\n",
       "      <td>0.000000e+00</td>\n",
       "      <td>1.500000e+01</td>\n",
       "      <td>0.000000</td>\n",
       "    </tr>\n",
       "    <tr>\n",
       "      <th>75%</th>\n",
       "      <td>2023-10-06 19:37:45</td>\n",
       "      <td>2023-10-06 19:53:39</td>\n",
       "      <td>1.000000e+00</td>\n",
       "      <td>3.400000e+00</td>\n",
       "      <td>1.000000e+00</td>\n",
       "      <td>2.340000e+02</td>\n",
       "      <td>2.340000e+02</td>\n",
       "      <td>1.000000e+00</td>\n",
       "      <td>2.190000e+01</td>\n",
       "      <td>2.500000e+00</td>\n",
       "      <td>5.000000e-01</td>\n",
       "      <td>4.420000e+00</td>\n",
       "      <td>0.000000e+00</td>\n",
       "      <td>1.000000e+00</td>\n",
       "      <td>3.094000e+01</td>\n",
       "      <td>2.500000e+00</td>\n",
       "      <td>0.000000e+00</td>\n",
       "      <td>1.900000e+01</td>\n",
       "      <td>0.000000</td>\n",
       "    </tr>\n",
       "    <tr>\n",
       "      <th>max</th>\n",
       "      <td>2023-12-31 23:57:51</td>\n",
       "      <td>2024-01-01 20:50:55</td>\n",
       "      <td>9.000000e+00</td>\n",
       "      <td>1.263605e+05</td>\n",
       "      <td>9.900000e+01</td>\n",
       "      <td>2.650000e+02</td>\n",
       "      <td>2.650000e+02</td>\n",
       "      <td>4.000000e+00</td>\n",
       "      <td>1.431635e+05</td>\n",
       "      <td>2.080000e+01</td>\n",
       "      <td>4.000000e+00</td>\n",
       "      <td>2.230800e+02</td>\n",
       "      <td>1.430000e+02</td>\n",
       "      <td>1.000000e+00</td>\n",
       "      <td>1.431675e+05</td>\n",
       "      <td>2.500000e+00</td>\n",
       "      <td>1.750000e+00</td>\n",
       "      <td>2.300000e+01</td>\n",
       "      <td>1.250000</td>\n",
       "    </tr>\n",
       "    <tr>\n",
       "      <th>std</th>\n",
       "      <td>NaN</td>\n",
       "      <td>NaN</td>\n",
       "      <td>8.927560e-01</td>\n",
       "      <td>1.294085e+02</td>\n",
       "      <td>7.393915e+00</td>\n",
       "      <td>6.400038e+01</td>\n",
       "      <td>6.980207e+01</td>\n",
       "      <td>5.081384e-01</td>\n",
       "      <td>1.055371e+02</td>\n",
       "      <td>1.829200e+00</td>\n",
       "      <td>4.885128e-02</td>\n",
       "      <td>4.054882e+00</td>\n",
       "      <td>2.187878e+00</td>\n",
       "      <td>3.112072e-02</td>\n",
       "      <td>1.064162e+02</td>\n",
       "      <td>6.667267e-01</td>\n",
       "      <td>4.733757e-01</td>\n",
       "      <td>5.807381e+00</td>\n",
       "      <td>0.352744</td>\n",
       "    </tr>\n",
       "  </tbody>\n",
       "</table>\n",
       "</div>"
      ]
     },
     "execution_count": 251,
     "metadata": {},
     "output_type": "execute_result"
    }
   ],
   "execution_count": 251
  },
  {
   "cell_type": "markdown",
   "metadata": {
    "id": "TIFmxvIT2wsn"
   },
   "source": [
    "  **2.1.2** <font color = red>[3 marks]</font> <br>\n",
    "There are two airport fee columns. This is possibly an error in naming columns. Let's see whether these can be combined into a single column."
   ]
  },
  {
   "cell_type": "code",
   "metadata": {
    "id": "rmtgnb1x6TrV",
    "ExecuteTime": {
     "end_time": "2025-02-25T19:05:57.347534Z",
     "start_time": "2025-02-25T19:05:49.375690Z"
    }
   },
   "source": [
    "# Combine the two airport fee columns\n",
    "\n",
    "print(df[['airport_fee', 'Airport_fee']].head())\n",
    "# Rename the columns\n",
    "df.rename(columns={'airport_fee': 'airport_fee1', 'Airport_fee': 'airport_fee2'}, inplace=True)\n",
    "\n",
    "# Fill null values with 0\n",
    "df['airport_fee1'] = df['airport_fee1'].fillna(0)\n",
    "df['airport_fee2'] = df['airport_fee2'].fillna(0)\n",
    "\n",
    "# Combine the two columns\n",
    "df['airport_fee'] = df['airport_fee1'] + df['airport_fee2']\n",
    "\n",
    "# Drop the original columns\n",
    "df = df.drop(columns=['airport_fee1', 'airport_fee2'])\n",
    "\n",
    "# Save the updated DataFrame\n",
    "df.to_csv('1_Cleaned_Sampled_NYC_Taxi_Data.csv', index=False)"
   ],
   "outputs": [
    {
     "name": "stdout",
     "output_type": "stream",
     "text": [
      "   airport_fee  Airport_fee\n",
      "0          NaN          0.0\n",
      "1          NaN          NaN\n",
      "2          NaN          0.0\n",
      "3          NaN          NaN\n",
      "4          NaN          0.0\n"
     ]
    }
   ],
   "execution_count": 252
  },
  {
   "cell_type": "markdown",
   "metadata": {
    "id": "1g4AHG7mOYgP"
   },
   "source": [
    "**2.1.4** <font color = red>[5 marks]</font> <br>\n",
    "Fix columns with negative (monetary) values"
   ]
  },
  {
   "cell_type": "code",
   "metadata": {
    "id": "nBsMT2MII1Hv",
    "ExecuteTime": {
     "end_time": "2025-02-25T19:06:05.215419Z",
     "start_time": "2025-02-25T19:05:57.359981Z"
    }
   },
   "source": [
    "# check where values of fare amount are negative\n",
    "# Filter the DataFrame to show only rows where `fare_amount` is negative\n",
    "#negative_fare_amount = df[df['fare_amount'] < 0]\n",
    "#num_negative_fares = len(negative_fare_amount)  # Get the count of rows\n",
    "#print(f\"Number of negative fare_amount values: {num_negative_fares}\")\n",
    "\n",
    "# 2. Remove negative values from specified columns\n",
    "columns_to_check = ['fare_amount', 'tip_amount', 'total_amount', 'trip_distance']\n",
    "\n",
    "for col in columns_to_check:\n",
    "    # Count negative values before removal\n",
    "    num_negatives_before = (df[col] < 0).sum()\n",
    "\n",
    "    # Remove negative values\n",
    "    df = df[df[col] >= 0]\n",
    "\n",
    "    # Count negative values after removal (should be 0)\n",
    "    num_negatives_after = (df[col] < 0).sum()\n",
    "\n",
    "    print(f\"\\nColumn '{col}':\")\n",
    "    print(f\"  - Number of negative values before removal: {num_negatives_before}\")\n",
    "    print(f\"  - Number of negative values after removal: {num_negatives_after}\")\n",
    "\n",
    "df.to_csv(\"2_Cleaned_Sampled_NYC_Taxi_Data.csv\", index=False)\n",
    "print(\"Cleaned data saved to '2_Cleaned_Sampled_NYC_Taxi_Data.csv'\")"
   ],
   "outputs": [
    {
     "name": "stdout",
     "output_type": "stream",
     "text": [
      "\n",
      "Column 'fare_amount':\n",
      "  - Number of negative values before removal: 0\n",
      "  - Number of negative values after removal: 0\n",
      "\n",
      "Column 'tip_amount':\n",
      "  - Number of negative values before removal: 0\n",
      "  - Number of negative values after removal: 0\n",
      "\n",
      "Column 'total_amount':\n",
      "  - Number of negative values before removal: 78\n",
      "  - Number of negative values after removal: 0\n",
      "\n",
      "Column 'trip_distance':\n",
      "  - Number of negative values before removal: 0\n",
      "  - Number of negative values after removal: 0\n",
      "Cleaned data saved to '2_Cleaned_Sampled_NYC_Taxi_Data.csv'\n"
     ]
    }
   ],
   "execution_count": 253
  },
  {
   "metadata": {
    "ExecuteTime": {
     "end_time": "2025-02-25T19:06:05.232604Z",
     "start_time": "2025-02-25T19:06:05.224006Z"
    }
   },
   "cell_type": "code",
   "source": [
    "# Analyse the above parameters\n",
    "columns_to_check = ['fare_amount', 'tip_amount', 'total_amount', 'trip_distance']\n",
    "\n",
    "for col in columns_to_check:\n",
    "    num_zeros = (df[col] == 0).sum()\n",
    "    num_negatives = (df[col] < 0).sum()\n",
    "    print(f\"\\nColumn '{col}':\")\n",
    "    print(f\"  - Number of zero values: {num_zeros}\")\n",
    "    print(f\"  - Number of negative values: {num_negatives}\")"
   ],
   "outputs": [
    {
     "name": "stdout",
     "output_type": "stream",
     "text": [
      "\n",
      "Column 'fare_amount':\n",
      "  - Number of zero values: 573\n",
      "  - Number of negative values: 0\n",
      "\n",
      "Column 'tip_amount':\n",
      "  - Number of zero values: 435880\n",
      "  - Number of negative values: 0\n",
      "\n",
      "Column 'total_amount':\n",
      "  - Number of zero values: 310\n",
      "  - Number of negative values: 0\n",
      "\n",
      "Column 'trip_distance':\n",
      "  - Number of zero values: 37712\n",
      "  - Number of negative values: 0\n"
     ]
    }
   ],
   "execution_count": 254
  },
  {
   "cell_type": "markdown",
   "metadata": {
    "id": "JNKpDtTh8awi"
   },
   "source": [
    "Did you notice something different in the `RatecodeID` column for above records?"
   ]
  },
  {
   "cell_type": "code",
   "metadata": {
    "id": "9eVrrj7c3kjq",
    "ExecuteTime": {
     "end_time": "2025-02-25T19:06:07.211499Z",
     "start_time": "2025-02-25T19:06:05.293292Z"
    }
   },
   "source": [
    "# Analyse RatecodeID for the negative fare amounts\n",
    "'''\n",
    "Looking at the data dictionary, the RateCodeID column has values ranging from 1 to 6,\n",
    "with each number representing a specific rate type.\n",
    "\n",
    "However, in the records where fare_amount\n",
    "is negative, there are instances of RateCodeID being 99, which is not a defined code in the data\n",
    "dictionary.\n",
    "\n",
    "This discrepancy suggests that there might be errors or inconsistencies in the data, specifically\n",
    "related to the RateCodeID column. It's possible that the code 99 was used to represent a special\n",
    "type of fare or that it was an error during data entry.\n",
    "'''\n",
    "\n",
    "try:\n",
    "    df = pd.read_csv('2_Cleaned_Sampled_NYC_Taxi_Data.csv')\n",
    "except FileNotFoundError:\n",
    "    print(\"Error: 'Sampled_NYC_Taxi_Data.parquet' DataFrame not found or saved file not found. Please make sure you have sampled and saved the data first.\")\n",
    "print(df.count().sum())\n",
    "\n",
    "# Count the frequency of each unique value in `RateCodeID`\n",
    "ratecode_counts = df['RatecodeID'].value_counts()\n",
    "# Display the counts\n",
    "print(ratecode_counts.to_markdown(numalign=\"left\", stralign=\"left\"))\n",
    "\n",
    "# Display rows with negative `fare_amount` and `RateCodeID` other than 99\n",
    "other_ratecodes = df[df['RatecodeID']!= 99]\n",
    "other_ratecodes.head()"
   ],
   "outputs": [
    {
     "name": "stdout",
     "output_type": "stream",
     "text": [
      "35835496\n",
      "| RatecodeID   | count       |\n",
      "|:-------------|:------------|\n",
      "| 1            | 1.72921e+06 |\n",
      "| 2            | 71646       |\n",
      "| 99           | 10472       |\n",
      "| 5            | 10272       |\n",
      "| 3            | 6123        |\n",
      "| 4            | 3722        |\n",
      "| 6            | 3           |\n"
     ]
    },
    {
     "data": {
      "text/plain": [
       "  tpep_pickup_datetime tpep_dropoff_datetime  passenger_count  trip_distance  \\\n",
       "0  2023-12-01 00:27:51   2023-12-01 00:50:12              1.0           3.99   \n",
       "1  2023-12-01 00:38:48   2023-12-01 01:01:55              NaN           4.79   \n",
       "2  2023-12-01 00:06:19   2023-12-01 00:16:57              1.0           1.05   \n",
       "3  2023-12-01 00:00:50   2023-12-01 00:14:37              NaN           2.08   \n",
       "4  2023-12-01 00:16:07   2023-12-01 00:19:17              1.0           0.40   \n",
       "\n",
       "   RatecodeID  PULocationID  DOLocationID  payment_type  fare_amount  extra  \\\n",
       "0         1.0           148            50             1        23.30    1.0   \n",
       "1         NaN           231            61             0        22.43    0.0   \n",
       "2         1.0           161           161             1        10.70    1.0   \n",
       "3         NaN           137           144             0        17.22    0.0   \n",
       "4         1.0            68            68             1         5.10    1.0   \n",
       "\n",
       "   mta_tax  tip_amount  tolls_amount  improvement_surcharge  total_amount  \\\n",
       "0      0.5        5.66           0.0                    1.0         33.96   \n",
       "1      0.5        3.00           0.0                    1.0         29.43   \n",
       "2      0.5        3.14           0.0                    1.0         18.84   \n",
       "3      0.5        0.00           0.0                    1.0         21.22   \n",
       "4      0.5        0.00           0.0                    1.0         10.10   \n",
       "\n",
       "   congestion_surcharge        date  hour  airport_fee  \n",
       "0                   2.5  2023-12-01     0          0.0  \n",
       "1                   NaN  2023-12-01     0          0.0  \n",
       "2                   2.5  2023-12-01     0          0.0  \n",
       "3                   NaN  2023-12-01     0          0.0  \n",
       "4                   2.5  2023-12-01     0          0.0  "
      ],
      "text/html": [
       "<div>\n",
       "<style scoped>\n",
       "    .dataframe tbody tr th:only-of-type {\n",
       "        vertical-align: middle;\n",
       "    }\n",
       "\n",
       "    .dataframe tbody tr th {\n",
       "        vertical-align: top;\n",
       "    }\n",
       "\n",
       "    .dataframe thead th {\n",
       "        text-align: right;\n",
       "    }\n",
       "</style>\n",
       "<table border=\"1\" class=\"dataframe\">\n",
       "  <thead>\n",
       "    <tr style=\"text-align: right;\">\n",
       "      <th></th>\n",
       "      <th>tpep_pickup_datetime</th>\n",
       "      <th>tpep_dropoff_datetime</th>\n",
       "      <th>passenger_count</th>\n",
       "      <th>trip_distance</th>\n",
       "      <th>RatecodeID</th>\n",
       "      <th>PULocationID</th>\n",
       "      <th>DOLocationID</th>\n",
       "      <th>payment_type</th>\n",
       "      <th>fare_amount</th>\n",
       "      <th>extra</th>\n",
       "      <th>mta_tax</th>\n",
       "      <th>tip_amount</th>\n",
       "      <th>tolls_amount</th>\n",
       "      <th>improvement_surcharge</th>\n",
       "      <th>total_amount</th>\n",
       "      <th>congestion_surcharge</th>\n",
       "      <th>date</th>\n",
       "      <th>hour</th>\n",
       "      <th>airport_fee</th>\n",
       "    </tr>\n",
       "  </thead>\n",
       "  <tbody>\n",
       "    <tr>\n",
       "      <th>0</th>\n",
       "      <td>2023-12-01 00:27:51</td>\n",
       "      <td>2023-12-01 00:50:12</td>\n",
       "      <td>1.0</td>\n",
       "      <td>3.99</td>\n",
       "      <td>1.0</td>\n",
       "      <td>148</td>\n",
       "      <td>50</td>\n",
       "      <td>1</td>\n",
       "      <td>23.30</td>\n",
       "      <td>1.0</td>\n",
       "      <td>0.5</td>\n",
       "      <td>5.66</td>\n",
       "      <td>0.0</td>\n",
       "      <td>1.0</td>\n",
       "      <td>33.96</td>\n",
       "      <td>2.5</td>\n",
       "      <td>2023-12-01</td>\n",
       "      <td>0</td>\n",
       "      <td>0.0</td>\n",
       "    </tr>\n",
       "    <tr>\n",
       "      <th>1</th>\n",
       "      <td>2023-12-01 00:38:48</td>\n",
       "      <td>2023-12-01 01:01:55</td>\n",
       "      <td>NaN</td>\n",
       "      <td>4.79</td>\n",
       "      <td>NaN</td>\n",
       "      <td>231</td>\n",
       "      <td>61</td>\n",
       "      <td>0</td>\n",
       "      <td>22.43</td>\n",
       "      <td>0.0</td>\n",
       "      <td>0.5</td>\n",
       "      <td>3.00</td>\n",
       "      <td>0.0</td>\n",
       "      <td>1.0</td>\n",
       "      <td>29.43</td>\n",
       "      <td>NaN</td>\n",
       "      <td>2023-12-01</td>\n",
       "      <td>0</td>\n",
       "      <td>0.0</td>\n",
       "    </tr>\n",
       "    <tr>\n",
       "      <th>2</th>\n",
       "      <td>2023-12-01 00:06:19</td>\n",
       "      <td>2023-12-01 00:16:57</td>\n",
       "      <td>1.0</td>\n",
       "      <td>1.05</td>\n",
       "      <td>1.0</td>\n",
       "      <td>161</td>\n",
       "      <td>161</td>\n",
       "      <td>1</td>\n",
       "      <td>10.70</td>\n",
       "      <td>1.0</td>\n",
       "      <td>0.5</td>\n",
       "      <td>3.14</td>\n",
       "      <td>0.0</td>\n",
       "      <td>1.0</td>\n",
       "      <td>18.84</td>\n",
       "      <td>2.5</td>\n",
       "      <td>2023-12-01</td>\n",
       "      <td>0</td>\n",
       "      <td>0.0</td>\n",
       "    </tr>\n",
       "    <tr>\n",
       "      <th>3</th>\n",
       "      <td>2023-12-01 00:00:50</td>\n",
       "      <td>2023-12-01 00:14:37</td>\n",
       "      <td>NaN</td>\n",
       "      <td>2.08</td>\n",
       "      <td>NaN</td>\n",
       "      <td>137</td>\n",
       "      <td>144</td>\n",
       "      <td>0</td>\n",
       "      <td>17.22</td>\n",
       "      <td>0.0</td>\n",
       "      <td>0.5</td>\n",
       "      <td>0.00</td>\n",
       "      <td>0.0</td>\n",
       "      <td>1.0</td>\n",
       "      <td>21.22</td>\n",
       "      <td>NaN</td>\n",
       "      <td>2023-12-01</td>\n",
       "      <td>0</td>\n",
       "      <td>0.0</td>\n",
       "    </tr>\n",
       "    <tr>\n",
       "      <th>4</th>\n",
       "      <td>2023-12-01 00:16:07</td>\n",
       "      <td>2023-12-01 00:19:17</td>\n",
       "      <td>1.0</td>\n",
       "      <td>0.40</td>\n",
       "      <td>1.0</td>\n",
       "      <td>68</td>\n",
       "      <td>68</td>\n",
       "      <td>1</td>\n",
       "      <td>5.10</td>\n",
       "      <td>1.0</td>\n",
       "      <td>0.5</td>\n",
       "      <td>0.00</td>\n",
       "      <td>0.0</td>\n",
       "      <td>1.0</td>\n",
       "      <td>10.10</td>\n",
       "      <td>2.5</td>\n",
       "      <td>2023-12-01</td>\n",
       "      <td>0</td>\n",
       "      <td>0.0</td>\n",
       "    </tr>\n",
       "  </tbody>\n",
       "</table>\n",
       "</div>"
      ]
     },
     "execution_count": 255,
     "metadata": {},
     "output_type": "execute_result"
    }
   ],
   "execution_count": 255
  },
  {
   "cell_type": "code",
   "metadata": {
    "id": "Ruyh2vaCRNxr",
    "ExecuteTime": {
     "end_time": "2025-02-25T19:06:07.249843Z",
     "start_time": "2025-02-25T19:06:07.242706Z"
    }
   },
   "source": [
    "# Find which columns have negative values\n",
    "for col in df.columns:\n",
    "    if pd.api.types.is_numeric_dtype(df[col]):\n",
    "        if (df[col] < 0).any():\n",
    "            print(f\"Column '{col}' has {len(df[df[col] < 0])} negative values\")\n"
   ],
   "outputs": [
    {
     "name": "stdout",
     "output_type": "stream",
     "text": [
      "Column 'extra' has 1 negative values\n"
     ]
    }
   ],
   "execution_count": 256
  },
  {
   "cell_type": "code",
   "metadata": {
    "id": "mPehZ6PJg3_J",
    "ExecuteTime": {
     "end_time": "2025-02-25T19:06:13.083453Z",
     "start_time": "2025-02-25T19:06:07.489122Z"
    }
   },
   "source": [
    "# fix these negative values\n",
    "\n",
    "# Convert negative values to positive values\n",
    "for col in df.columns:\n",
    "    if pd.api.types.is_numeric_dtype(df[col]):\n",
    "        df[col] = df[col].abs()\n",
    "\n",
    "# Save the updated DataFrame\n",
    "df.to_csv('2_Cleaned_Sampled_NYC_Taxi_Data.csv', index=False)"
   ],
   "outputs": [],
   "execution_count": 257
  },
  {
   "metadata": {
    "ExecuteTime": {
     "end_time": "2025-02-25T19:06:14.657509Z",
     "start_time": "2025-02-25T19:06:13.103627Z"
    }
   },
   "cell_type": "code",
   "source": [
    "try:\n",
    "   df=pd.read_csv('2_Cleaned_Sampled_NYC_Taxi_Data.csv')\n",
    "except FileNotFoundError:\n",
    "    print(\"Error: DataFrame not found or saved file not found. Please make sure you have sampled and saved the data first.\")"
   ],
   "outputs": [],
   "execution_count": 258
  },
  {
   "cell_type": "markdown",
   "metadata": {
    "id": "x2hakCCy6wXI"
   },
   "source": [
    "### **2.2** Handling Missing Values\n",
    "<font color = red>[10 marks]</font> <br>"
   ]
  },
  {
   "cell_type": "markdown",
   "metadata": {
    "id": "-K-QNPDVVhzR"
   },
   "source": [
    "**2.2.1**  <font color = red>[2 marks]</font> <br>\n",
    "Find the proportion of missing values in each column\n",
    "\n",
    "\n"
   ]
  },
  {
   "cell_type": "code",
   "metadata": {
    "id": "tfTa9cct6Gec",
    "ExecuteTime": {
     "end_time": "2025-02-25T19:06:14.778223Z",
     "start_time": "2025-02-25T19:06:14.672086Z"
    }
   },
   "source": [
    "# Find the proportion of missing values in each column\n",
    "missing_prop = df.isnull().mean()\n",
    "missing_prop"
   ],
   "outputs": [
    {
     "data": {
      "text/plain": [
       "tpep_pickup_datetime     0.00000\n",
       "tpep_dropoff_datetime    0.00000\n",
       "passenger_count          0.03421\n",
       "trip_distance            0.00000\n",
       "RatecodeID               0.03421\n",
       "PULocationID             0.00000\n",
       "DOLocationID             0.00000\n",
       "payment_type             0.00000\n",
       "fare_amount              0.00000\n",
       "extra                    0.00000\n",
       "mta_tax                  0.00000\n",
       "tip_amount               0.00000\n",
       "tolls_amount             0.00000\n",
       "improvement_surcharge    0.00000\n",
       "total_amount             0.00000\n",
       "congestion_surcharge     0.03421\n",
       "date                     0.00000\n",
       "hour                     0.00000\n",
       "airport_fee              0.00000\n",
       "dtype: float64"
      ]
     },
     "execution_count": 259,
     "metadata": {},
     "output_type": "execute_result"
    }
   ],
   "execution_count": 259
  },
  {
   "cell_type": "markdown",
   "metadata": {
    "id": "-UdUl6AL_-E_"
   },
   "source": [
    "**2.2.2**  <font color = red>[3 marks]</font> <br>\n",
    "Handling missing values in `passenger_count`"
   ]
  },
  {
   "cell_type": "code",
   "metadata": {
    "id": "JmNmhr4q8Xys",
    "ExecuteTime": {
     "end_time": "2025-02-25T19:06:14.960906Z",
     "start_time": "2025-02-25T19:06:14.868899Z"
    }
   },
   "source": [
    "# Display the rows with null values\n",
    "null_rows = df[df.isnull().any(axis=1)]\n",
    "null_rows"
   ],
   "outputs": [
    {
     "data": {
      "text/plain": [
       "        tpep_pickup_datetime tpep_dropoff_datetime  passenger_count  \\\n",
       "1        2023-12-01 00:38:48   2023-12-01 01:01:55              NaN   \n",
       "3        2023-12-01 00:00:50   2023-12-01 00:14:37              NaN   \n",
       "27       2023-12-01 00:01:11   2023-12-01 00:15:53              NaN   \n",
       "122      2023-12-01 00:02:18   2023-12-01 00:12:25              NaN   \n",
       "127      2023-12-01 00:04:14   2023-12-01 00:25:16              NaN   \n",
       "...                      ...                   ...              ...   \n",
       "1896215  2023-06-30 23:14:07   2023-06-30 23:25:45              NaN   \n",
       "1896231  2023-06-30 23:40:46   2023-07-01 00:04:37              NaN   \n",
       "1896274  2023-06-30 23:57:33   2023-07-01 00:09:15              NaN   \n",
       "1896295  2023-06-30 23:36:40   2023-06-30 23:53:20              NaN   \n",
       "1896305  2023-06-30 23:34:22   2023-07-01 00:32:59              NaN   \n",
       "\n",
       "         trip_distance  RatecodeID  PULocationID  DOLocationID  payment_type  \\\n",
       "1                 4.79         NaN           231            61             0   \n",
       "3                 2.08         NaN           137           144             0   \n",
       "27                3.49         NaN           164           262             0   \n",
       "122               1.79         NaN           142           239             0   \n",
       "127               0.00         NaN           186            74             0   \n",
       "...                ...         ...           ...           ...           ...   \n",
       "1896215           0.70         NaN           230           186             0   \n",
       "1896231           4.46         NaN           143            79             0   \n",
       "1896274           2.75         NaN           166           142             0   \n",
       "1896295           5.18         NaN           148           237             0   \n",
       "1896305          20.20         NaN           132            74             0   \n",
       "\n",
       "         fare_amount  extra  mta_tax  tip_amount  tolls_amount  \\\n",
       "1              22.43   0.00      0.5        3.00          0.00   \n",
       "3              17.22   0.00      0.5        0.00          0.00   \n",
       "27             17.83   0.00      0.5        0.00          0.00   \n",
       "122             9.88   0.00      0.5        0.00          0.00   \n",
       "127            30.31   0.00      0.5        0.00          0.00   \n",
       "...              ...    ...      ...         ...           ...   \n",
       "1896215        11.40   1.00      0.5        2.46          0.00   \n",
       "1896231        23.26   0.00      0.5        0.00          0.00   \n",
       "1896274        16.14   0.00      0.5        0.00          0.00   \n",
       "1896295        26.09   0.00      0.5        3.01          0.00   \n",
       "1896305        70.00   1.75      0.5       11.97          6.55   \n",
       "\n",
       "         improvement_surcharge  total_amount  congestion_surcharge  \\\n",
       "1                          1.0         29.43                   NaN   \n",
       "3                          1.0         21.22                   NaN   \n",
       "27                         1.0         21.83                   NaN   \n",
       "122                        1.0         13.88                   NaN   \n",
       "127                        1.0         34.31                   NaN   \n",
       "...                        ...           ...                   ...   \n",
       "1896215                    1.0         18.86                   NaN   \n",
       "1896231                    1.0         27.26                   NaN   \n",
       "1896274                    1.0         20.14                   NaN   \n",
       "1896295                    1.0         33.10                   NaN   \n",
       "1896305                    1.0         91.77                   NaN   \n",
       "\n",
       "               date  hour  airport_fee  \n",
       "1        2023-12-01     0          0.0  \n",
       "3        2023-12-01     0          0.0  \n",
       "27       2023-12-01     0          0.0  \n",
       "122      2023-12-01     0          0.0  \n",
       "127      2023-12-01     0          0.0  \n",
       "...             ...   ...          ...  \n",
       "1896215  2023-06-30    23          0.0  \n",
       "1896231  2023-06-30    23          0.0  \n",
       "1896274  2023-06-30    23          0.0  \n",
       "1896295  2023-06-30    23          0.0  \n",
       "1896305  2023-06-30    23          0.0  \n",
       "\n",
       "[64874 rows x 19 columns]"
      ],
      "text/html": [
       "<div>\n",
       "<style scoped>\n",
       "    .dataframe tbody tr th:only-of-type {\n",
       "        vertical-align: middle;\n",
       "    }\n",
       "\n",
       "    .dataframe tbody tr th {\n",
       "        vertical-align: top;\n",
       "    }\n",
       "\n",
       "    .dataframe thead th {\n",
       "        text-align: right;\n",
       "    }\n",
       "</style>\n",
       "<table border=\"1\" class=\"dataframe\">\n",
       "  <thead>\n",
       "    <tr style=\"text-align: right;\">\n",
       "      <th></th>\n",
       "      <th>tpep_pickup_datetime</th>\n",
       "      <th>tpep_dropoff_datetime</th>\n",
       "      <th>passenger_count</th>\n",
       "      <th>trip_distance</th>\n",
       "      <th>RatecodeID</th>\n",
       "      <th>PULocationID</th>\n",
       "      <th>DOLocationID</th>\n",
       "      <th>payment_type</th>\n",
       "      <th>fare_amount</th>\n",
       "      <th>extra</th>\n",
       "      <th>mta_tax</th>\n",
       "      <th>tip_amount</th>\n",
       "      <th>tolls_amount</th>\n",
       "      <th>improvement_surcharge</th>\n",
       "      <th>total_amount</th>\n",
       "      <th>congestion_surcharge</th>\n",
       "      <th>date</th>\n",
       "      <th>hour</th>\n",
       "      <th>airport_fee</th>\n",
       "    </tr>\n",
       "  </thead>\n",
       "  <tbody>\n",
       "    <tr>\n",
       "      <th>1</th>\n",
       "      <td>2023-12-01 00:38:48</td>\n",
       "      <td>2023-12-01 01:01:55</td>\n",
       "      <td>NaN</td>\n",
       "      <td>4.79</td>\n",
       "      <td>NaN</td>\n",
       "      <td>231</td>\n",
       "      <td>61</td>\n",
       "      <td>0</td>\n",
       "      <td>22.43</td>\n",
       "      <td>0.00</td>\n",
       "      <td>0.5</td>\n",
       "      <td>3.00</td>\n",
       "      <td>0.00</td>\n",
       "      <td>1.0</td>\n",
       "      <td>29.43</td>\n",
       "      <td>NaN</td>\n",
       "      <td>2023-12-01</td>\n",
       "      <td>0</td>\n",
       "      <td>0.0</td>\n",
       "    </tr>\n",
       "    <tr>\n",
       "      <th>3</th>\n",
       "      <td>2023-12-01 00:00:50</td>\n",
       "      <td>2023-12-01 00:14:37</td>\n",
       "      <td>NaN</td>\n",
       "      <td>2.08</td>\n",
       "      <td>NaN</td>\n",
       "      <td>137</td>\n",
       "      <td>144</td>\n",
       "      <td>0</td>\n",
       "      <td>17.22</td>\n",
       "      <td>0.00</td>\n",
       "      <td>0.5</td>\n",
       "      <td>0.00</td>\n",
       "      <td>0.00</td>\n",
       "      <td>1.0</td>\n",
       "      <td>21.22</td>\n",
       "      <td>NaN</td>\n",
       "      <td>2023-12-01</td>\n",
       "      <td>0</td>\n",
       "      <td>0.0</td>\n",
       "    </tr>\n",
       "    <tr>\n",
       "      <th>27</th>\n",
       "      <td>2023-12-01 00:01:11</td>\n",
       "      <td>2023-12-01 00:15:53</td>\n",
       "      <td>NaN</td>\n",
       "      <td>3.49</td>\n",
       "      <td>NaN</td>\n",
       "      <td>164</td>\n",
       "      <td>262</td>\n",
       "      <td>0</td>\n",
       "      <td>17.83</td>\n",
       "      <td>0.00</td>\n",
       "      <td>0.5</td>\n",
       "      <td>0.00</td>\n",
       "      <td>0.00</td>\n",
       "      <td>1.0</td>\n",
       "      <td>21.83</td>\n",
       "      <td>NaN</td>\n",
       "      <td>2023-12-01</td>\n",
       "      <td>0</td>\n",
       "      <td>0.0</td>\n",
       "    </tr>\n",
       "    <tr>\n",
       "      <th>122</th>\n",
       "      <td>2023-12-01 00:02:18</td>\n",
       "      <td>2023-12-01 00:12:25</td>\n",
       "      <td>NaN</td>\n",
       "      <td>1.79</td>\n",
       "      <td>NaN</td>\n",
       "      <td>142</td>\n",
       "      <td>239</td>\n",
       "      <td>0</td>\n",
       "      <td>9.88</td>\n",
       "      <td>0.00</td>\n",
       "      <td>0.5</td>\n",
       "      <td>0.00</td>\n",
       "      <td>0.00</td>\n",
       "      <td>1.0</td>\n",
       "      <td>13.88</td>\n",
       "      <td>NaN</td>\n",
       "      <td>2023-12-01</td>\n",
       "      <td>0</td>\n",
       "      <td>0.0</td>\n",
       "    </tr>\n",
       "    <tr>\n",
       "      <th>127</th>\n",
       "      <td>2023-12-01 00:04:14</td>\n",
       "      <td>2023-12-01 00:25:16</td>\n",
       "      <td>NaN</td>\n",
       "      <td>0.00</td>\n",
       "      <td>NaN</td>\n",
       "      <td>186</td>\n",
       "      <td>74</td>\n",
       "      <td>0</td>\n",
       "      <td>30.31</td>\n",
       "      <td>0.00</td>\n",
       "      <td>0.5</td>\n",
       "      <td>0.00</td>\n",
       "      <td>0.00</td>\n",
       "      <td>1.0</td>\n",
       "      <td>34.31</td>\n",
       "      <td>NaN</td>\n",
       "      <td>2023-12-01</td>\n",
       "      <td>0</td>\n",
       "      <td>0.0</td>\n",
       "    </tr>\n",
       "    <tr>\n",
       "      <th>...</th>\n",
       "      <td>...</td>\n",
       "      <td>...</td>\n",
       "      <td>...</td>\n",
       "      <td>...</td>\n",
       "      <td>...</td>\n",
       "      <td>...</td>\n",
       "      <td>...</td>\n",
       "      <td>...</td>\n",
       "      <td>...</td>\n",
       "      <td>...</td>\n",
       "      <td>...</td>\n",
       "      <td>...</td>\n",
       "      <td>...</td>\n",
       "      <td>...</td>\n",
       "      <td>...</td>\n",
       "      <td>...</td>\n",
       "      <td>...</td>\n",
       "      <td>...</td>\n",
       "      <td>...</td>\n",
       "    </tr>\n",
       "    <tr>\n",
       "      <th>1896215</th>\n",
       "      <td>2023-06-30 23:14:07</td>\n",
       "      <td>2023-06-30 23:25:45</td>\n",
       "      <td>NaN</td>\n",
       "      <td>0.70</td>\n",
       "      <td>NaN</td>\n",
       "      <td>230</td>\n",
       "      <td>186</td>\n",
       "      <td>0</td>\n",
       "      <td>11.40</td>\n",
       "      <td>1.00</td>\n",
       "      <td>0.5</td>\n",
       "      <td>2.46</td>\n",
       "      <td>0.00</td>\n",
       "      <td>1.0</td>\n",
       "      <td>18.86</td>\n",
       "      <td>NaN</td>\n",
       "      <td>2023-06-30</td>\n",
       "      <td>23</td>\n",
       "      <td>0.0</td>\n",
       "    </tr>\n",
       "    <tr>\n",
       "      <th>1896231</th>\n",
       "      <td>2023-06-30 23:40:46</td>\n",
       "      <td>2023-07-01 00:04:37</td>\n",
       "      <td>NaN</td>\n",
       "      <td>4.46</td>\n",
       "      <td>NaN</td>\n",
       "      <td>143</td>\n",
       "      <td>79</td>\n",
       "      <td>0</td>\n",
       "      <td>23.26</td>\n",
       "      <td>0.00</td>\n",
       "      <td>0.5</td>\n",
       "      <td>0.00</td>\n",
       "      <td>0.00</td>\n",
       "      <td>1.0</td>\n",
       "      <td>27.26</td>\n",
       "      <td>NaN</td>\n",
       "      <td>2023-06-30</td>\n",
       "      <td>23</td>\n",
       "      <td>0.0</td>\n",
       "    </tr>\n",
       "    <tr>\n",
       "      <th>1896274</th>\n",
       "      <td>2023-06-30 23:57:33</td>\n",
       "      <td>2023-07-01 00:09:15</td>\n",
       "      <td>NaN</td>\n",
       "      <td>2.75</td>\n",
       "      <td>NaN</td>\n",
       "      <td>166</td>\n",
       "      <td>142</td>\n",
       "      <td>0</td>\n",
       "      <td>16.14</td>\n",
       "      <td>0.00</td>\n",
       "      <td>0.5</td>\n",
       "      <td>0.00</td>\n",
       "      <td>0.00</td>\n",
       "      <td>1.0</td>\n",
       "      <td>20.14</td>\n",
       "      <td>NaN</td>\n",
       "      <td>2023-06-30</td>\n",
       "      <td>23</td>\n",
       "      <td>0.0</td>\n",
       "    </tr>\n",
       "    <tr>\n",
       "      <th>1896295</th>\n",
       "      <td>2023-06-30 23:36:40</td>\n",
       "      <td>2023-06-30 23:53:20</td>\n",
       "      <td>NaN</td>\n",
       "      <td>5.18</td>\n",
       "      <td>NaN</td>\n",
       "      <td>148</td>\n",
       "      <td>237</td>\n",
       "      <td>0</td>\n",
       "      <td>26.09</td>\n",
       "      <td>0.00</td>\n",
       "      <td>0.5</td>\n",
       "      <td>3.01</td>\n",
       "      <td>0.00</td>\n",
       "      <td>1.0</td>\n",
       "      <td>33.10</td>\n",
       "      <td>NaN</td>\n",
       "      <td>2023-06-30</td>\n",
       "      <td>23</td>\n",
       "      <td>0.0</td>\n",
       "    </tr>\n",
       "    <tr>\n",
       "      <th>1896305</th>\n",
       "      <td>2023-06-30 23:34:22</td>\n",
       "      <td>2023-07-01 00:32:59</td>\n",
       "      <td>NaN</td>\n",
       "      <td>20.20</td>\n",
       "      <td>NaN</td>\n",
       "      <td>132</td>\n",
       "      <td>74</td>\n",
       "      <td>0</td>\n",
       "      <td>70.00</td>\n",
       "      <td>1.75</td>\n",
       "      <td>0.5</td>\n",
       "      <td>11.97</td>\n",
       "      <td>6.55</td>\n",
       "      <td>1.0</td>\n",
       "      <td>91.77</td>\n",
       "      <td>NaN</td>\n",
       "      <td>2023-06-30</td>\n",
       "      <td>23</td>\n",
       "      <td>0.0</td>\n",
       "    </tr>\n",
       "  </tbody>\n",
       "</table>\n",
       "<p>64874 rows × 19 columns</p>\n",
       "</div>"
      ]
     },
     "execution_count": 260,
     "metadata": {},
     "output_type": "execute_result"
    }
   ],
   "execution_count": 260
  },
  {
   "metadata": {
    "ExecuteTime": {
     "end_time": "2025-02-25T19:06:15.291419Z",
     "start_time": "2025-02-25T19:06:15.275456Z"
    }
   },
   "cell_type": "code",
   "source": [
    "# Impute NaN values in 'passenger_count'\n",
    "# Impute NaN values in `passenger_count` with the mean\n",
    "print(\"Before removing passenger_count: \" + str(df['passenger_count'].isnull().sum()))\n",
    "df['passenger_count'] = df['passenger_count'].fillna(df['passenger_count'].mean())\n",
    "print(\"After removing passenger_count: \" + str(df['passenger_count'].isnull().sum()))\n"
   ],
   "outputs": [
    {
     "name": "stdout",
     "output_type": "stream",
     "text": [
      "Before removing passenger_count: 64874\n",
      "After removing passenger_count: 0\n"
     ]
    }
   ],
   "execution_count": 261
  },
  {
   "metadata": {
    "ExecuteTime": {
     "end_time": "2025-02-25T19:06:15.459840Z",
     "start_time": "2025-02-25T19:06:15.371177Z"
    }
   },
   "cell_type": "code",
   "source": [
    "# Display the rows with missing values\n",
    "df[df.isnull().any(axis=1)].head()"
   ],
   "outputs": [
    {
     "data": {
      "text/plain": [
       "    tpep_pickup_datetime tpep_dropoff_datetime  passenger_count  \\\n",
       "1    2023-12-01 00:38:48   2023-12-01 01:01:55         1.369209   \n",
       "3    2023-12-01 00:00:50   2023-12-01 00:14:37         1.369209   \n",
       "27   2023-12-01 00:01:11   2023-12-01 00:15:53         1.369209   \n",
       "122  2023-12-01 00:02:18   2023-12-01 00:12:25         1.369209   \n",
       "127  2023-12-01 00:04:14   2023-12-01 00:25:16         1.369209   \n",
       "\n",
       "     trip_distance  RatecodeID  PULocationID  DOLocationID  payment_type  \\\n",
       "1             4.79         NaN           231            61             0   \n",
       "3             2.08         NaN           137           144             0   \n",
       "27            3.49         NaN           164           262             0   \n",
       "122           1.79         NaN           142           239             0   \n",
       "127           0.00         NaN           186            74             0   \n",
       "\n",
       "     fare_amount  extra  mta_tax  tip_amount  tolls_amount  \\\n",
       "1          22.43    0.0      0.5         3.0           0.0   \n",
       "3          17.22    0.0      0.5         0.0           0.0   \n",
       "27         17.83    0.0      0.5         0.0           0.0   \n",
       "122         9.88    0.0      0.5         0.0           0.0   \n",
       "127        30.31    0.0      0.5         0.0           0.0   \n",
       "\n",
       "     improvement_surcharge  total_amount  congestion_surcharge        date  \\\n",
       "1                      1.0         29.43                   NaN  2023-12-01   \n",
       "3                      1.0         21.22                   NaN  2023-12-01   \n",
       "27                     1.0         21.83                   NaN  2023-12-01   \n",
       "122                    1.0         13.88                   NaN  2023-12-01   \n",
       "127                    1.0         34.31                   NaN  2023-12-01   \n",
       "\n",
       "     hour  airport_fee  \n",
       "1       0          0.0  \n",
       "3       0          0.0  \n",
       "27      0          0.0  \n",
       "122     0          0.0  \n",
       "127     0          0.0  "
      ],
      "text/html": [
       "<div>\n",
       "<style scoped>\n",
       "    .dataframe tbody tr th:only-of-type {\n",
       "        vertical-align: middle;\n",
       "    }\n",
       "\n",
       "    .dataframe tbody tr th {\n",
       "        vertical-align: top;\n",
       "    }\n",
       "\n",
       "    .dataframe thead th {\n",
       "        text-align: right;\n",
       "    }\n",
       "</style>\n",
       "<table border=\"1\" class=\"dataframe\">\n",
       "  <thead>\n",
       "    <tr style=\"text-align: right;\">\n",
       "      <th></th>\n",
       "      <th>tpep_pickup_datetime</th>\n",
       "      <th>tpep_dropoff_datetime</th>\n",
       "      <th>passenger_count</th>\n",
       "      <th>trip_distance</th>\n",
       "      <th>RatecodeID</th>\n",
       "      <th>PULocationID</th>\n",
       "      <th>DOLocationID</th>\n",
       "      <th>payment_type</th>\n",
       "      <th>fare_amount</th>\n",
       "      <th>extra</th>\n",
       "      <th>mta_tax</th>\n",
       "      <th>tip_amount</th>\n",
       "      <th>tolls_amount</th>\n",
       "      <th>improvement_surcharge</th>\n",
       "      <th>total_amount</th>\n",
       "      <th>congestion_surcharge</th>\n",
       "      <th>date</th>\n",
       "      <th>hour</th>\n",
       "      <th>airport_fee</th>\n",
       "    </tr>\n",
       "  </thead>\n",
       "  <tbody>\n",
       "    <tr>\n",
       "      <th>1</th>\n",
       "      <td>2023-12-01 00:38:48</td>\n",
       "      <td>2023-12-01 01:01:55</td>\n",
       "      <td>1.369209</td>\n",
       "      <td>4.79</td>\n",
       "      <td>NaN</td>\n",
       "      <td>231</td>\n",
       "      <td>61</td>\n",
       "      <td>0</td>\n",
       "      <td>22.43</td>\n",
       "      <td>0.0</td>\n",
       "      <td>0.5</td>\n",
       "      <td>3.0</td>\n",
       "      <td>0.0</td>\n",
       "      <td>1.0</td>\n",
       "      <td>29.43</td>\n",
       "      <td>NaN</td>\n",
       "      <td>2023-12-01</td>\n",
       "      <td>0</td>\n",
       "      <td>0.0</td>\n",
       "    </tr>\n",
       "    <tr>\n",
       "      <th>3</th>\n",
       "      <td>2023-12-01 00:00:50</td>\n",
       "      <td>2023-12-01 00:14:37</td>\n",
       "      <td>1.369209</td>\n",
       "      <td>2.08</td>\n",
       "      <td>NaN</td>\n",
       "      <td>137</td>\n",
       "      <td>144</td>\n",
       "      <td>0</td>\n",
       "      <td>17.22</td>\n",
       "      <td>0.0</td>\n",
       "      <td>0.5</td>\n",
       "      <td>0.0</td>\n",
       "      <td>0.0</td>\n",
       "      <td>1.0</td>\n",
       "      <td>21.22</td>\n",
       "      <td>NaN</td>\n",
       "      <td>2023-12-01</td>\n",
       "      <td>0</td>\n",
       "      <td>0.0</td>\n",
       "    </tr>\n",
       "    <tr>\n",
       "      <th>27</th>\n",
       "      <td>2023-12-01 00:01:11</td>\n",
       "      <td>2023-12-01 00:15:53</td>\n",
       "      <td>1.369209</td>\n",
       "      <td>3.49</td>\n",
       "      <td>NaN</td>\n",
       "      <td>164</td>\n",
       "      <td>262</td>\n",
       "      <td>0</td>\n",
       "      <td>17.83</td>\n",
       "      <td>0.0</td>\n",
       "      <td>0.5</td>\n",
       "      <td>0.0</td>\n",
       "      <td>0.0</td>\n",
       "      <td>1.0</td>\n",
       "      <td>21.83</td>\n",
       "      <td>NaN</td>\n",
       "      <td>2023-12-01</td>\n",
       "      <td>0</td>\n",
       "      <td>0.0</td>\n",
       "    </tr>\n",
       "    <tr>\n",
       "      <th>122</th>\n",
       "      <td>2023-12-01 00:02:18</td>\n",
       "      <td>2023-12-01 00:12:25</td>\n",
       "      <td>1.369209</td>\n",
       "      <td>1.79</td>\n",
       "      <td>NaN</td>\n",
       "      <td>142</td>\n",
       "      <td>239</td>\n",
       "      <td>0</td>\n",
       "      <td>9.88</td>\n",
       "      <td>0.0</td>\n",
       "      <td>0.5</td>\n",
       "      <td>0.0</td>\n",
       "      <td>0.0</td>\n",
       "      <td>1.0</td>\n",
       "      <td>13.88</td>\n",
       "      <td>NaN</td>\n",
       "      <td>2023-12-01</td>\n",
       "      <td>0</td>\n",
       "      <td>0.0</td>\n",
       "    </tr>\n",
       "    <tr>\n",
       "      <th>127</th>\n",
       "      <td>2023-12-01 00:04:14</td>\n",
       "      <td>2023-12-01 00:25:16</td>\n",
       "      <td>1.369209</td>\n",
       "      <td>0.00</td>\n",
       "      <td>NaN</td>\n",
       "      <td>186</td>\n",
       "      <td>74</td>\n",
       "      <td>0</td>\n",
       "      <td>30.31</td>\n",
       "      <td>0.0</td>\n",
       "      <td>0.5</td>\n",
       "      <td>0.0</td>\n",
       "      <td>0.0</td>\n",
       "      <td>1.0</td>\n",
       "      <td>34.31</td>\n",
       "      <td>NaN</td>\n",
       "      <td>2023-12-01</td>\n",
       "      <td>0</td>\n",
       "      <td>0.0</td>\n",
       "    </tr>\n",
       "  </tbody>\n",
       "</table>\n",
       "</div>"
      ]
     },
     "execution_count": 262,
     "metadata": {},
     "output_type": "execute_result"
    }
   ],
   "execution_count": 262
  },
  {
   "cell_type": "markdown",
   "metadata": {
    "id": "hIPCyR6UCw0c"
   },
   "source": [
    "Did you find zeroes in passenger_count? Handle these."
   ]
  },
  {
   "cell_type": "markdown",
   "metadata": {
    "id": "IUr4fwkjBUTQ"
   },
   "source": [
    "**2.2.3**  <font color = red>[2 marks]</font> <br>\n",
    "Handle missing values in `RatecodeID`"
   ]
  },
  {
   "cell_type": "code",
   "metadata": {
    "id": "qEgFxytzBkrB",
    "ExecuteTime": {
     "end_time": "2025-02-25T19:06:22.091703Z",
     "start_time": "2025-02-25T19:06:16.235609Z"
    }
   },
   "source": [
    "# Fix missing values in 'RatecodeID'\n",
    "\n",
    "\n",
    "# Impute missing values in `RateCodeID` with the mean\n",
    "\n",
    "# Display the count of missing values in `RatecodeID`\n",
    "print(\"Before removing RatecodeID: \" + str(df['RatecodeID'].isnull().sum()))\n",
    "\n",
    "# Impute the missing values in `RatecodeID` with its mean\n",
    "df['RatecodeID'] = df['RatecodeID'].fillna(df['RatecodeID'].mean())\n",
    "\n",
    "# Verify the count of missing values in `RatecodeID` after imputation\n",
    "print(\"Before removing RatecodeID: \" + str(df['RatecodeID'].isnull().sum()))\n",
    "\n",
    "\n",
    "df.to_csv('3_Cleaned_Sampled_NYC_Taxi_Data.csv', index=False)\n",
    "\n"
   ],
   "outputs": [
    {
     "name": "stdout",
     "output_type": "stream",
     "text": [
      "Before removing RatecodeID: 64874\n",
      "Before removing RatecodeID: 0\n"
     ]
    }
   ],
   "execution_count": 263
  },
  {
   "metadata": {
    "ExecuteTime": {
     "end_time": "2025-02-25T19:06:23.696824Z",
     "start_time": "2025-02-25T19:06:22.104946Z"
    }
   },
   "cell_type": "code",
   "source": [
    "try:\n",
    "   df=pd.read_csv('3_Cleaned_Sampled_NYC_Taxi_Data.csv')\n",
    "except FileNotFoundError:\n",
    "    print(\"Error: DataFrame not found or saved file not found. Please make sure you have sampled and saved the data first.\")\n",
    "df"
   ],
   "outputs": [
    {
     "data": {
      "text/plain": [
       "        tpep_pickup_datetime tpep_dropoff_datetime  passenger_count  \\\n",
       "0        2023-12-01 00:27:51   2023-12-01 00:50:12         1.000000   \n",
       "1        2023-12-01 00:38:48   2023-12-01 01:01:55         1.369209   \n",
       "2        2023-12-01 00:06:19   2023-12-01 00:16:57         1.000000   \n",
       "3        2023-12-01 00:00:50   2023-12-01 00:14:37         1.369209   \n",
       "4        2023-12-01 00:16:07   2023-12-01 00:19:17         1.000000   \n",
       "...                      ...                   ...              ...   \n",
       "1896317  2023-06-30 23:53:10   2023-07-01 00:05:55         1.000000   \n",
       "1896318  2023-06-30 23:22:42   2023-06-30 23:39:06         1.000000   \n",
       "1896319  2023-06-30 23:50:42   2023-07-01 00:20:00         2.000000   \n",
       "1896320  2023-06-30 23:05:31   2023-06-30 23:15:52         1.000000   \n",
       "1896321  2023-07-01 00:00:51   2023-07-01 00:24:19         1.000000   \n",
       "\n",
       "         trip_distance  RatecodeID  PULocationID  DOLocationID  payment_type  \\\n",
       "0                 3.99    1.000000           148            50             1   \n",
       "1                 4.79    1.634698           231            61             0   \n",
       "2                 1.05    1.000000           161           161             1   \n",
       "3                 2.08    1.634698           137           144             0   \n",
       "4                 0.40    1.000000            68            68             1   \n",
       "...                ...         ...           ...           ...           ...   \n",
       "1896317           2.63    1.000000           170           143             1   \n",
       "1896318           0.00   99.000000            90           232             1   \n",
       "1896319           5.40    1.000000            87           161             1   \n",
       "1896320           1.00    1.000000            87           231             2   \n",
       "1896321           5.04    1.000000           209           225             1   \n",
       "\n",
       "         fare_amount  extra  mta_tax  tip_amount  tolls_amount  \\\n",
       "0              23.30    1.0      0.5        5.66           0.0   \n",
       "1              22.43    0.0      0.5        3.00           0.0   \n",
       "2              10.70    1.0      0.5        3.14           0.0   \n",
       "3              17.22    0.0      0.5        0.00           0.0   \n",
       "4               5.10    1.0      0.5        0.00           0.0   \n",
       "...              ...    ...      ...         ...           ...   \n",
       "1896317        14.20    1.0      0.5        4.80           0.0   \n",
       "1896318        18.20    0.0      0.5        0.00           0.0   \n",
       "1896319        32.40    3.5      0.5        2.00           0.0   \n",
       "1896320        10.70    3.5      0.5        0.00           0.0   \n",
       "1896321        25.40    1.0      0.5        4.56           0.0   \n",
       "\n",
       "         improvement_surcharge  total_amount  congestion_surcharge  \\\n",
       "0                          1.0         33.96                   2.5   \n",
       "1                          1.0         29.43                   NaN   \n",
       "2                          1.0         18.84                   2.5   \n",
       "3                          1.0         21.22                   NaN   \n",
       "4                          1.0         10.10                   2.5   \n",
       "...                        ...           ...                   ...   \n",
       "1896317                    1.0         24.00                   2.5   \n",
       "1896318                    1.0         19.70                   0.0   \n",
       "1896319                    1.0         39.40                   2.5   \n",
       "1896320                    1.0         15.70                   2.5   \n",
       "1896321                    1.0         34.96                   2.5   \n",
       "\n",
       "               date  hour  airport_fee  \n",
       "0        2023-12-01     0          0.0  \n",
       "1        2023-12-01     0          0.0  \n",
       "2        2023-12-01     0          0.0  \n",
       "3        2023-12-01     0          0.0  \n",
       "4        2023-12-01     0          0.0  \n",
       "...             ...   ...          ...  \n",
       "1896317  2023-06-30    23          0.0  \n",
       "1896318  2023-06-30    23          0.0  \n",
       "1896319  2023-06-30    23          0.0  \n",
       "1896320  2023-06-30    23          0.0  \n",
       "1896321  2023-07-01     0          0.0  \n",
       "\n",
       "[1896322 rows x 19 columns]"
      ],
      "text/html": [
       "<div>\n",
       "<style scoped>\n",
       "    .dataframe tbody tr th:only-of-type {\n",
       "        vertical-align: middle;\n",
       "    }\n",
       "\n",
       "    .dataframe tbody tr th {\n",
       "        vertical-align: top;\n",
       "    }\n",
       "\n",
       "    .dataframe thead th {\n",
       "        text-align: right;\n",
       "    }\n",
       "</style>\n",
       "<table border=\"1\" class=\"dataframe\">\n",
       "  <thead>\n",
       "    <tr style=\"text-align: right;\">\n",
       "      <th></th>\n",
       "      <th>tpep_pickup_datetime</th>\n",
       "      <th>tpep_dropoff_datetime</th>\n",
       "      <th>passenger_count</th>\n",
       "      <th>trip_distance</th>\n",
       "      <th>RatecodeID</th>\n",
       "      <th>PULocationID</th>\n",
       "      <th>DOLocationID</th>\n",
       "      <th>payment_type</th>\n",
       "      <th>fare_amount</th>\n",
       "      <th>extra</th>\n",
       "      <th>mta_tax</th>\n",
       "      <th>tip_amount</th>\n",
       "      <th>tolls_amount</th>\n",
       "      <th>improvement_surcharge</th>\n",
       "      <th>total_amount</th>\n",
       "      <th>congestion_surcharge</th>\n",
       "      <th>date</th>\n",
       "      <th>hour</th>\n",
       "      <th>airport_fee</th>\n",
       "    </tr>\n",
       "  </thead>\n",
       "  <tbody>\n",
       "    <tr>\n",
       "      <th>0</th>\n",
       "      <td>2023-12-01 00:27:51</td>\n",
       "      <td>2023-12-01 00:50:12</td>\n",
       "      <td>1.000000</td>\n",
       "      <td>3.99</td>\n",
       "      <td>1.000000</td>\n",
       "      <td>148</td>\n",
       "      <td>50</td>\n",
       "      <td>1</td>\n",
       "      <td>23.30</td>\n",
       "      <td>1.0</td>\n",
       "      <td>0.5</td>\n",
       "      <td>5.66</td>\n",
       "      <td>0.0</td>\n",
       "      <td>1.0</td>\n",
       "      <td>33.96</td>\n",
       "      <td>2.5</td>\n",
       "      <td>2023-12-01</td>\n",
       "      <td>0</td>\n",
       "      <td>0.0</td>\n",
       "    </tr>\n",
       "    <tr>\n",
       "      <th>1</th>\n",
       "      <td>2023-12-01 00:38:48</td>\n",
       "      <td>2023-12-01 01:01:55</td>\n",
       "      <td>1.369209</td>\n",
       "      <td>4.79</td>\n",
       "      <td>1.634698</td>\n",
       "      <td>231</td>\n",
       "      <td>61</td>\n",
       "      <td>0</td>\n",
       "      <td>22.43</td>\n",
       "      <td>0.0</td>\n",
       "      <td>0.5</td>\n",
       "      <td>3.00</td>\n",
       "      <td>0.0</td>\n",
       "      <td>1.0</td>\n",
       "      <td>29.43</td>\n",
       "      <td>NaN</td>\n",
       "      <td>2023-12-01</td>\n",
       "      <td>0</td>\n",
       "      <td>0.0</td>\n",
       "    </tr>\n",
       "    <tr>\n",
       "      <th>2</th>\n",
       "      <td>2023-12-01 00:06:19</td>\n",
       "      <td>2023-12-01 00:16:57</td>\n",
       "      <td>1.000000</td>\n",
       "      <td>1.05</td>\n",
       "      <td>1.000000</td>\n",
       "      <td>161</td>\n",
       "      <td>161</td>\n",
       "      <td>1</td>\n",
       "      <td>10.70</td>\n",
       "      <td>1.0</td>\n",
       "      <td>0.5</td>\n",
       "      <td>3.14</td>\n",
       "      <td>0.0</td>\n",
       "      <td>1.0</td>\n",
       "      <td>18.84</td>\n",
       "      <td>2.5</td>\n",
       "      <td>2023-12-01</td>\n",
       "      <td>0</td>\n",
       "      <td>0.0</td>\n",
       "    </tr>\n",
       "    <tr>\n",
       "      <th>3</th>\n",
       "      <td>2023-12-01 00:00:50</td>\n",
       "      <td>2023-12-01 00:14:37</td>\n",
       "      <td>1.369209</td>\n",
       "      <td>2.08</td>\n",
       "      <td>1.634698</td>\n",
       "      <td>137</td>\n",
       "      <td>144</td>\n",
       "      <td>0</td>\n",
       "      <td>17.22</td>\n",
       "      <td>0.0</td>\n",
       "      <td>0.5</td>\n",
       "      <td>0.00</td>\n",
       "      <td>0.0</td>\n",
       "      <td>1.0</td>\n",
       "      <td>21.22</td>\n",
       "      <td>NaN</td>\n",
       "      <td>2023-12-01</td>\n",
       "      <td>0</td>\n",
       "      <td>0.0</td>\n",
       "    </tr>\n",
       "    <tr>\n",
       "      <th>4</th>\n",
       "      <td>2023-12-01 00:16:07</td>\n",
       "      <td>2023-12-01 00:19:17</td>\n",
       "      <td>1.000000</td>\n",
       "      <td>0.40</td>\n",
       "      <td>1.000000</td>\n",
       "      <td>68</td>\n",
       "      <td>68</td>\n",
       "      <td>1</td>\n",
       "      <td>5.10</td>\n",
       "      <td>1.0</td>\n",
       "      <td>0.5</td>\n",
       "      <td>0.00</td>\n",
       "      <td>0.0</td>\n",
       "      <td>1.0</td>\n",
       "      <td>10.10</td>\n",
       "      <td>2.5</td>\n",
       "      <td>2023-12-01</td>\n",
       "      <td>0</td>\n",
       "      <td>0.0</td>\n",
       "    </tr>\n",
       "    <tr>\n",
       "      <th>...</th>\n",
       "      <td>...</td>\n",
       "      <td>...</td>\n",
       "      <td>...</td>\n",
       "      <td>...</td>\n",
       "      <td>...</td>\n",
       "      <td>...</td>\n",
       "      <td>...</td>\n",
       "      <td>...</td>\n",
       "      <td>...</td>\n",
       "      <td>...</td>\n",
       "      <td>...</td>\n",
       "      <td>...</td>\n",
       "      <td>...</td>\n",
       "      <td>...</td>\n",
       "      <td>...</td>\n",
       "      <td>...</td>\n",
       "      <td>...</td>\n",
       "      <td>...</td>\n",
       "      <td>...</td>\n",
       "    </tr>\n",
       "    <tr>\n",
       "      <th>1896317</th>\n",
       "      <td>2023-06-30 23:53:10</td>\n",
       "      <td>2023-07-01 00:05:55</td>\n",
       "      <td>1.000000</td>\n",
       "      <td>2.63</td>\n",
       "      <td>1.000000</td>\n",
       "      <td>170</td>\n",
       "      <td>143</td>\n",
       "      <td>1</td>\n",
       "      <td>14.20</td>\n",
       "      <td>1.0</td>\n",
       "      <td>0.5</td>\n",
       "      <td>4.80</td>\n",
       "      <td>0.0</td>\n",
       "      <td>1.0</td>\n",
       "      <td>24.00</td>\n",
       "      <td>2.5</td>\n",
       "      <td>2023-06-30</td>\n",
       "      <td>23</td>\n",
       "      <td>0.0</td>\n",
       "    </tr>\n",
       "    <tr>\n",
       "      <th>1896318</th>\n",
       "      <td>2023-06-30 23:22:42</td>\n",
       "      <td>2023-06-30 23:39:06</td>\n",
       "      <td>1.000000</td>\n",
       "      <td>0.00</td>\n",
       "      <td>99.000000</td>\n",
       "      <td>90</td>\n",
       "      <td>232</td>\n",
       "      <td>1</td>\n",
       "      <td>18.20</td>\n",
       "      <td>0.0</td>\n",
       "      <td>0.5</td>\n",
       "      <td>0.00</td>\n",
       "      <td>0.0</td>\n",
       "      <td>1.0</td>\n",
       "      <td>19.70</td>\n",
       "      <td>0.0</td>\n",
       "      <td>2023-06-30</td>\n",
       "      <td>23</td>\n",
       "      <td>0.0</td>\n",
       "    </tr>\n",
       "    <tr>\n",
       "      <th>1896319</th>\n",
       "      <td>2023-06-30 23:50:42</td>\n",
       "      <td>2023-07-01 00:20:00</td>\n",
       "      <td>2.000000</td>\n",
       "      <td>5.40</td>\n",
       "      <td>1.000000</td>\n",
       "      <td>87</td>\n",
       "      <td>161</td>\n",
       "      <td>1</td>\n",
       "      <td>32.40</td>\n",
       "      <td>3.5</td>\n",
       "      <td>0.5</td>\n",
       "      <td>2.00</td>\n",
       "      <td>0.0</td>\n",
       "      <td>1.0</td>\n",
       "      <td>39.40</td>\n",
       "      <td>2.5</td>\n",
       "      <td>2023-06-30</td>\n",
       "      <td>23</td>\n",
       "      <td>0.0</td>\n",
       "    </tr>\n",
       "    <tr>\n",
       "      <th>1896320</th>\n",
       "      <td>2023-06-30 23:05:31</td>\n",
       "      <td>2023-06-30 23:15:52</td>\n",
       "      <td>1.000000</td>\n",
       "      <td>1.00</td>\n",
       "      <td>1.000000</td>\n",
       "      <td>87</td>\n",
       "      <td>231</td>\n",
       "      <td>2</td>\n",
       "      <td>10.70</td>\n",
       "      <td>3.5</td>\n",
       "      <td>0.5</td>\n",
       "      <td>0.00</td>\n",
       "      <td>0.0</td>\n",
       "      <td>1.0</td>\n",
       "      <td>15.70</td>\n",
       "      <td>2.5</td>\n",
       "      <td>2023-06-30</td>\n",
       "      <td>23</td>\n",
       "      <td>0.0</td>\n",
       "    </tr>\n",
       "    <tr>\n",
       "      <th>1896321</th>\n",
       "      <td>2023-07-01 00:00:51</td>\n",
       "      <td>2023-07-01 00:24:19</td>\n",
       "      <td>1.000000</td>\n",
       "      <td>5.04</td>\n",
       "      <td>1.000000</td>\n",
       "      <td>209</td>\n",
       "      <td>225</td>\n",
       "      <td>1</td>\n",
       "      <td>25.40</td>\n",
       "      <td>1.0</td>\n",
       "      <td>0.5</td>\n",
       "      <td>4.56</td>\n",
       "      <td>0.0</td>\n",
       "      <td>1.0</td>\n",
       "      <td>34.96</td>\n",
       "      <td>2.5</td>\n",
       "      <td>2023-07-01</td>\n",
       "      <td>0</td>\n",
       "      <td>0.0</td>\n",
       "    </tr>\n",
       "  </tbody>\n",
       "</table>\n",
       "<p>1896322 rows × 19 columns</p>\n",
       "</div>"
      ]
     },
     "execution_count": 264,
     "metadata": {},
     "output_type": "execute_result"
    }
   ],
   "execution_count": 264
  },
  {
   "cell_type": "markdown",
   "metadata": {
    "id": "0TjHXzuODCUW"
   },
   "source": [
    "**2.2.4**  <font color = red>[3 marks]</font> <br>\n",
    "Impute NaN in `congestion_surcharge`"
   ]
  },
  {
   "cell_type": "code",
   "metadata": {
    "id": "HqnabUGC3xOA",
    "ExecuteTime": {
     "end_time": "2025-02-25T19:06:29.582950Z",
     "start_time": "2025-02-25T19:06:23.728205Z"
    }
   },
   "source": [
    "# handle null values in congestion_surcharge\n",
    "\n",
    "# Display the rows with missing values\n",
    "df[df.isnull().any(axis=1)].head()\n",
    "print(\"Before removing congestion_surcharge: \" + str(df['congestion_surcharge'].isnull().sum()))\n",
    "# Impute missing values in `congestion_surcharge` with the mode\n",
    "df['congestion_surcharge'] = df['congestion_surcharge'].fillna(df['congestion_surcharge'].mean())\n",
    "df.to_csv('3_Cleaned_Sampled_NYC_Taxi_Data.csv', index=False)\n",
    "print(\"After removing congestion_surcharge: \" + str(df['congestion_surcharge'].isnull().sum()))"
   ],
   "outputs": [
    {
     "name": "stdout",
     "output_type": "stream",
     "text": [
      "Before removing congestion_surcharge: 64874\n",
      "After removing congestion_surcharge: 0\n"
     ]
    }
   ],
   "execution_count": 265
  },
  {
   "cell_type": "markdown",
   "metadata": {
    "id": "4FZEdgAgUbPl"
   },
   "source": [
    "Are there missing values in other columns? Did you find NaN values in some other set of columns? Handle those missing values below."
   ]
  },
  {
   "cell_type": "code",
   "metadata": {
    "id": "iDLpyqCRXa3K",
    "ExecuteTime": {
     "end_time": "2025-02-25T19:06:29.675410Z",
     "start_time": "2025-02-25T19:06:29.595110Z"
    }
   },
   "source": [
    "# Handle any remaining missing values\n",
    "\n",
    "'''\n",
    "    Since there is no missing values in the dataset, there is no need to handle any remaining missing values.\n",
    "'''\n",
    "df[df.isnull().any(axis=1)].head()\n"
   ],
   "outputs": [
    {
     "data": {
      "text/plain": [
       "Empty DataFrame\n",
       "Columns: [tpep_pickup_datetime, tpep_dropoff_datetime, passenger_count, trip_distance, RatecodeID, PULocationID, DOLocationID, payment_type, fare_amount, extra, mta_tax, tip_amount, tolls_amount, improvement_surcharge, total_amount, congestion_surcharge, date, hour, airport_fee]\n",
       "Index: []"
      ],
      "text/html": [
       "<div>\n",
       "<style scoped>\n",
       "    .dataframe tbody tr th:only-of-type {\n",
       "        vertical-align: middle;\n",
       "    }\n",
       "\n",
       "    .dataframe tbody tr th {\n",
       "        vertical-align: top;\n",
       "    }\n",
       "\n",
       "    .dataframe thead th {\n",
       "        text-align: right;\n",
       "    }\n",
       "</style>\n",
       "<table border=\"1\" class=\"dataframe\">\n",
       "  <thead>\n",
       "    <tr style=\"text-align: right;\">\n",
       "      <th></th>\n",
       "      <th>tpep_pickup_datetime</th>\n",
       "      <th>tpep_dropoff_datetime</th>\n",
       "      <th>passenger_count</th>\n",
       "      <th>trip_distance</th>\n",
       "      <th>RatecodeID</th>\n",
       "      <th>PULocationID</th>\n",
       "      <th>DOLocationID</th>\n",
       "      <th>payment_type</th>\n",
       "      <th>fare_amount</th>\n",
       "      <th>extra</th>\n",
       "      <th>mta_tax</th>\n",
       "      <th>tip_amount</th>\n",
       "      <th>tolls_amount</th>\n",
       "      <th>improvement_surcharge</th>\n",
       "      <th>total_amount</th>\n",
       "      <th>congestion_surcharge</th>\n",
       "      <th>date</th>\n",
       "      <th>hour</th>\n",
       "      <th>airport_fee</th>\n",
       "    </tr>\n",
       "  </thead>\n",
       "  <tbody>\n",
       "  </tbody>\n",
       "</table>\n",
       "</div>"
      ]
     },
     "execution_count": 266,
     "metadata": {},
     "output_type": "execute_result"
    }
   ],
   "execution_count": 266
  },
  {
   "cell_type": "markdown",
   "metadata": {
    "id": "2jyQyYIpCztl"
   },
   "source": [
    "### **2.3** Handling Outliers\n",
    "<font color = red>[10 marks]</font> <br>"
   ]
  },
  {
   "cell_type": "markdown",
   "metadata": {
    "id": "ZoVwZzuEMTHB"
   },
   "source": [
    "Before we start fixing outliers, let's perform outlier analysis."
   ]
  },
  {
   "cell_type": "markdown",
   "metadata": {
    "id": "4XDuLkufyJ2g"
   },
   "source": [
    "**2.3.1**  <font color = red>[10 marks]</font> <br>\n",
    "Based on the above analysis, it seems that some of the outliers are present due to errors in registering the trips. Fix the outliers.\n",
    "\n",
    "Some points you can look for:\n",
    "- Entries where `trip_distance` is nearly 0 and `fare_amount` is more than 300\n",
    "- Entries where `trip_distance` and `fare_amount` are 0 but the pickup and dropoff zones are different (both distance and fare should not be zero for different zones)\n",
    "- Entries where `trip_distance` is more than 250  miles.\n",
    "- Entries where `payment_type` is 0 (there is no payment_type 0 defined in the data dictionary)\n",
    "\n",
    "These are just some suggestions. You can handle outliers in any way you wish, using the insights from above outlier analysis."
   ]
  },
  {
   "metadata": {
    "ExecuteTime": {
     "end_time": "2025-02-25T19:06:29.691173Z",
     "start_time": "2025-02-25T19:06:29.689744Z"
    }
   },
   "cell_type": "code",
   "source": [
    "print('''\n",
    "\n",
    "• High Fare, Near-Zero Distance: This could indicate errors in recording the distance or\n",
    "special circumstances like waiting time.\n",
    "\n",
    "• Zero Distance and Fare with Different Zones: This is likely an error, as trips between\n",
    "different zones should always have some distance and fare.\n",
    "\n",
    "• Extremely Long Trips: While possible, trips over 250 miles within NYC are unusual and might\n",
    "warrant further investigation.\n",
    "\n",
    "• Invalid Payment Type: Payment type O is undefined, so these records need correction or\n",
    "removal.\n",
    "\n",
    "''')"
   ],
   "outputs": [
    {
     "name": "stdout",
     "output_type": "stream",
     "text": [
      "\n",
      "\n",
      "• High Fare, Near-Zero Distance: This could indicate errors in recording the distance or\n",
      "special circumstances like waiting time.\n",
      "\n",
      "• Zero Distance and Fare with Different Zones: This is likely an error, as trips between\n",
      "different zones should always have some distance and fare.\n",
      "\n",
      "• Extremely Long Trips: While possible, trips over 250 miles within NYC are unusual and might\n",
      "warrant further investigation.\n",
      "\n",
      "• Invalid Payment Type: Payment type O is undefined, so these records need correction or\n",
      "removal.\n",
      "\n",
      "\n"
     ]
    }
   ],
   "execution_count": 267
  },
  {
   "metadata": {
    "id": "zHK5K6uV8XpU",
    "ExecuteTime": {
     "end_time": "2025-02-25T19:06:33.775626Z",
     "start_time": "2025-02-25T19:06:29.755912Z"
    }
   },
   "cell_type": "code",
   "source": [
    "import matplotlib.pyplot as plt\n",
    "import seaborn as sns\n",
    "\n",
    "#... (your data loading and cleaning code)...\n",
    "\n",
    "# Create a 2x2 grid of subplots\n",
    "fig, axes = plt.subplots(2, 2, figsize=(14, 10))  # 2 rows, 2 columns\n",
    "\n",
    "# a. Trip Distance (top-left)\n",
    "sns.boxplot(y=df['trip_distance'], ax=axes[0, 0])\n",
    "axes[0, 0].set_title('Box Plot of Trip Distance')\n",
    "axes[0, 0].set_ylabel('Trip Distance')\n",
    "\n",
    "# b. Fare Amount (top-right)\n",
    "sns.boxplot(y=df['fare_amount'], ax=axes[0, 1])\n",
    "axes[0, 1].set_title('Box Plot of Fare Amount')\n",
    "axes[0, 1].set_ylabel('Fare Amount')\n",
    "\n",
    "# c. Passenger Count (bottom-left)\n",
    "sns.countplot(x=df['passenger_count'], ax=axes[1, 0])\n",
    "axes[1, 0].set_title('Count Plot of Passenger Count')\n",
    "axes[1, 0].set_xlabel('Passenger Count')\n",
    "axes[1, 0].set_ylabel('Frequency')\n",
    "\n",
    "# d. Total Amount (bottom-right)\n",
    "sns.boxplot(y=df['total_amount'], ax=axes[1, 1])\n",
    "axes[1, 1].set_title('Box Plot of Total Amount')\n",
    "axes[1, 1].set_ylabel('Total Amount')\n",
    "\n",
    "# Adjust spacing between subplots\n",
    "plt.tight_layout()\n",
    "\n",
    "# Show the plot\n",
    "plt.show()\n",
    "\n",
    "# As per the diagram we can see the outliers"
   ],
   "outputs": [
    {
     "data": {
      "text/plain": [
       "<Figure size 1400x1000 with 4 Axes>"
      ],
      "image/png": "[encoded data removed]"
     },
     "metadata": {},
     "output_type": "display_data"
    }
   ],
   "execution_count": 268
  },
  {
   "metadata": {
    "id": "Ap4IfwXO4yZe"
   },
   "cell_type": "markdown",
   "source": "First, let us remove 7+ passenger counts as there are very less instances."
  },
  {
   "metadata": {
    "id": "XfsOFY5y9-fA",
    "ExecuteTime": {
     "end_time": "2025-02-25T19:06:33.850944Z",
     "start_time": "2025-02-25T19:06:33.794505Z"
    }
   },
   "cell_type": "code",
   "source": [
    "# remove passenger_count > 6\n",
    "print(\"Before removing passenger_count: \" + str(df[df['passenger_count'] > 6].count().sum()))\n",
    "df = df[df['passenger_count'] < 7]\n",
    "print(\"After removing passenger_count: \" + str(df[df['passenger_count'] > 7].count().sum()))\n"
   ],
   "outputs": [
    {
     "name": "stdout",
     "output_type": "stream",
     "text": [
      "Before removing passenger_count: 399\n",
      "After removing passenger_count: 0\n"
     ]
    }
   ],
   "execution_count": 269
  },
  {
   "metadata": {
    "ExecuteTime": {
     "end_time": "2025-02-25T19:06:33.996963Z",
     "start_time": "2025-02-25T19:06:33.880526Z"
    }
   },
   "cell_type": "code",
   "source": [
    "'''\n",
    "first addresses the specific outlier issues you mentioned (high fare/near-zero distance, zero distance/fare/different zones,\n",
    "long trips, invalid payment type). This is important because these are likely data entry errors and should be handled directly.\n",
    "'''\n",
    "# a. High Fare, Near-Zero Distance (Likely Errors - Drop)\n",
    "high_fare_near_zero = df[(df['trip_distance'] < 0.01) & (df['fare_amount'] > 300)]\n",
    "print(f\"Found {len(high_fare_near_zero)} entries with high fare and near-zero distance. Dropping.\")\n",
    "df = df.drop(high_fare_near_zero.index)"
   ],
   "outputs": [
    {
     "name": "stdout",
     "output_type": "stream",
     "text": [
      "Found 34 entries with high fare and near-zero distance. Dropping.\n"
     ]
    }
   ],
   "execution_count": 270
  },
  {
   "metadata": {
    "ExecuteTime": {
     "end_time": "2025-02-25T19:06:34.177222Z",
     "start_time": "2025-02-25T19:06:34.051924Z"
    }
   },
   "cell_type": "code",
   "source": [
    "# b. Zero Distance and Fare, Different Zones (Errors - Drop)\n",
    "zero_dist_fare_diff_zones = df[(df['trip_distance'] == 0) & (df['fare_amount'] == 0) & (df['PULocationID'] != df['DOLocationID'])]\n",
    "print(f\"Found {len(zero_dist_fare_diff_zones)} entries with zero distance/fare and different zones. Dropping.\")\n",
    "df = df.drop(zero_dist_fare_diff_zones.index)"
   ],
   "outputs": [
    {
     "name": "stdout",
     "output_type": "stream",
     "text": [
      "Found 59 entries with zero distance/fare and different zones. Dropping.\n"
     ]
    }
   ],
   "execution_count": 271
  },
  {
   "metadata": {
    "ExecuteTime": {
     "end_time": "2025-02-25T19:06:34.343363Z",
     "start_time": "2025-02-25T19:06:34.218946Z"
    }
   },
   "cell_type": "code",
   "source": [
    "# c. Extremely Long Trips (Investigate, then Drop if Invalid)\n",
    "long_trips = df[df['trip_distance'] > 250]\n",
    "print(f\"Found {len(long_trips)} entries with trip distance over 250 miles. Dropping (after investigation).\")  # In a real scenario, investigate!\n",
    "df = df.drop(long_trips.index)"
   ],
   "outputs": [
    {
     "name": "stdout",
     "output_type": "stream",
     "text": [
      "Found 46 entries with trip distance over 250 miles. Dropping (after investigation).\n"
     ]
    }
   ],
   "execution_count": 272
  },
  {
   "metadata": {
    "ExecuteTime": {
     "end_time": "2025-02-25T19:06:34.534855Z",
     "start_time": "2025-02-25T19:06:34.359247Z"
    }
   },
   "cell_type": "code",
   "source": [
    "# d. Invalid Payment Type (0) (Errors - Drop)\n",
    "invalid_payment = df[df['payment_type'] == 0]\n",
    "print(f\"Found {len(invalid_payment)} entries with invalid payment type. Dropping.\")\n",
    "df = df.drop(invalid_payment.index)"
   ],
   "outputs": [
    {
     "name": "stdout",
     "output_type": "stream",
     "text": [
      "Found 64844 entries with invalid payment type. Dropping.\n"
     ]
    }
   ],
   "execution_count": 273
  },
  {
   "metadata": {
    "id": "FCUNe3tu8bie",
    "ExecuteTime": {
     "end_time": "2025-02-25T19:06:34.551584Z",
     "start_time": "2025-02-25T19:06:34.550436Z"
    }
   },
   "cell_type": "code",
   "source": [
    "# Continue with outlier handling\n",
    "\n"
   ],
   "outputs": [],
   "execution_count": 274
  },
  {
   "metadata": {
    "ExecuteTime": {
     "end_time": "2025-02-25T19:06:34.581935Z",
     "start_time": "2025-02-25T19:06:34.580224Z"
    }
   },
   "cell_type": "code",
   "source": [
    "'''\n",
    "The IQR outlier removal is now applied after the specific issues are addressed.\n",
    "This is a better approach because the IQR method is more general and is intended to catch naturally occurring outliers,\n",
    "not necessarily errors.\n",
    "'''\n",
    "\n",
    "def remove_outliers_iqr(df, column):\n",
    "    Q1 = df[column].quantile(0.25)\n",
    "    Q3 = df[column].quantile(0.75)\n",
    "    IQR = Q3 - Q1\n",
    "    upper_bound = Q3 + 1.5 * IQR\n",
    "    lower_bound = Q1 - 1.5 * IQR\n",
    "    df_filtered = df[(df[column] >= lower_bound) & (df[column] <= upper_bound)]\n",
    "    print(f\"Removed {len(df) - len(df_filtered)} outliers from '{column}' using IQR.\")\n",
    "    return df_filtered\n"
   ],
   "outputs": [],
   "execution_count": 275
  },
  {
   "metadata": {
    "ExecuteTime": {
     "end_time": "2025-02-25T19:06:34.712669Z",
     "start_time": "2025-02-25T19:06:34.595036Z"
    }
   },
   "cell_type": "code",
   "source": "df = remove_outliers_iqr(df, 'trip_distance')",
   "outputs": [
    {
     "name": "stdout",
     "output_type": "stream",
     "text": [
      "Removed 242001 outliers from 'trip_distance' using IQR.\n"
     ]
    }
   ],
   "execution_count": 276
  },
  {
   "metadata": {
    "ExecuteTime": {
     "end_time": "2025-02-25T19:06:34.832375Z",
     "start_time": "2025-02-25T19:06:34.728415Z"
    }
   },
   "cell_type": "code",
   "source": "df = remove_outliers_iqr(df, 'fare_amount')",
   "outputs": [
    {
     "name": "stdout",
     "output_type": "stream",
     "text": [
      "Removed 43049 outliers from 'fare_amount' using IQR.\n"
     ]
    }
   ],
   "execution_count": 277
  },
  {
   "metadata": {
    "ExecuteTime": {
     "end_time": "2025-02-25T19:06:34.946559Z",
     "start_time": "2025-02-25T19:06:34.848180Z"
    }
   },
   "cell_type": "code",
   "source": "df = remove_outliers_iqr(df, 'total_amount')",
   "outputs": [
    {
     "name": "stdout",
     "output_type": "stream",
     "text": [
      "Removed 27508 outliers from 'total_amount' using IQR.\n"
     ]
    }
   ],
   "execution_count": 278
  },
  {
   "metadata": {
    "ExecuteTime": {
     "end_time": "2025-02-25T19:06:35.037728Z",
     "start_time": "2025-02-25T19:06:34.962232Z"
    }
   },
   "cell_type": "code",
   "source": [
    "# 5. Further Analysis (on the cleaned data)\n",
    "print(\"\\nCleaned Data Info:\")\n",
    "df.info()"
   ],
   "outputs": [
    {
     "name": "stdout",
     "output_type": "stream",
     "text": [
      "\n",
      "Cleaned Data Info:\n",
      "<class 'pandas.core.frame.DataFrame'>\n",
      "Index: 1518760 entries, 0 to 1896321\n",
      "Data columns (total 19 columns):\n",
      " #   Column                 Non-Null Count    Dtype  \n",
      "---  ------                 --------------    -----  \n",
      " 0   tpep_pickup_datetime   1518760 non-null  object \n",
      " 1   tpep_dropoff_datetime  1518760 non-null  object \n",
      " 2   passenger_count        1518760 non-null  float64\n",
      " 3   trip_distance          1518760 non-null  float64\n",
      " 4   RatecodeID             1518760 non-null  float64\n",
      " 5   PULocationID           1518760 non-null  int64  \n",
      " 6   DOLocationID           1518760 non-null  int64  \n",
      " 7   payment_type           1518760 non-null  int64  \n",
      " 8   fare_amount            1518760 non-null  float64\n",
      " 9   extra                  1518760 non-null  float64\n",
      " 10  mta_tax                1518760 non-null  float64\n",
      " 11  tip_amount             1518760 non-null  float64\n",
      " 12  tolls_amount           1518760 non-null  float64\n",
      " 13  improvement_surcharge  1518760 non-null  float64\n",
      " 14  total_amount           1518760 non-null  float64\n",
      " 15  congestion_surcharge   1518760 non-null  float64\n",
      " 16  date                   1518760 non-null  object \n",
      " 17  hour                   1518760 non-null  int64  \n",
      " 18  airport_fee            1518760 non-null  float64\n",
      "dtypes: float64(12), int64(4), object(3)\n",
      "memory usage: 231.7+ MB\n"
     ]
    }
   ],
   "execution_count": 279
  },
  {
   "metadata": {
    "ExecuteTime": {
     "end_time": "2025-02-25T19:06:35.501333Z",
     "start_time": "2025-02-25T19:06:35.085305Z"
    }
   },
   "cell_type": "code",
   "source": [
    "print(\"\\nCleaned Data Description:\")\n",
    "print(df.describe())"
   ],
   "outputs": [
    {
     "name": "stdout",
     "output_type": "stream",
     "text": [
      "\n",
      "Cleaned Data Description:\n",
      "       passenger_count  trip_distance    RatecodeID  PULocationID  \\\n",
      "count     1.518760e+06   1.518760e+06  1.518760e+06  1.518760e+06   \n",
      "mean      1.357037e+00   1.807882e+00  1.329338e+00  1.690434e+02   \n",
      "std       8.895864e-01   1.176099e+00  5.609096e+00  6.499618e+01   \n",
      "min       0.000000e+00   0.000000e+00  1.000000e+00  1.000000e+00   \n",
      "25%       1.000000e+00   9.600000e-01  1.000000e+00  1.370000e+02   \n",
      "50%       1.000000e+00   1.500000e+00  1.000000e+00  1.630000e+02   \n",
      "75%       1.000000e+00   2.360000e+00  1.000000e+00  2.340000e+02   \n",
      "max       6.000000e+00   6.850000e+00  9.900000e+01  2.650000e+02   \n",
      "\n",
      "       DOLocationID  payment_type   fare_amount         extra       mta_tax  \\\n",
      "count  1.518760e+06  1.518760e+06  1.518760e+06  1.518760e+06  1.518760e+06   \n",
      "mean   1.673792e+02  1.206937e+00  1.304720e+01  1.423394e+00  4.988971e-01   \n",
      "std    6.823739e+01  4.674629e-01  5.812065e+00  1.470988e+00  2.402499e-02   \n",
      "min    1.000000e+00  1.000000e+00  0.000000e+00  0.000000e+00  0.000000e+00   \n",
      "25%    1.250000e+02  1.000000e+00  8.600000e+00  0.000000e+00  5.000000e-01   \n",
      "50%    1.630000e+02  1.000000e+00  1.210000e+01  1.000000e+00  5.000000e-01   \n",
      "75%    2.360000e+02  1.000000e+00  1.630000e+01  2.500000e+00  5.000000e-01   \n",
      "max    2.650000e+02  4.000000e+00  3.130000e+01  1.025000e+01  4.000000e+00   \n",
      "\n",
      "         tip_amount  tolls_amount  improvement_surcharge  total_amount  \\\n",
      "count  1.518760e+06  1.518760e+06           1.518760e+06  1.518760e+06   \n",
      "mean   2.551628e+00  1.049111e-02           9.995332e-01  2.030638e+01   \n",
      "std    1.891801e+00  2.740698e-01           1.920384e-02  6.888660e+00   \n",
      "min    0.000000e+00  0.000000e+00           0.000000e+00  1.000000e+00   \n",
      "25%    1.000000e+00  0.000000e+00           1.000000e+00  1.512000e+01   \n",
      "50%    2.640000e+00  0.000000e+00           1.000000e+00  1.910000e+01   \n",
      "75%    3.780000e+00  0.000000e+00           1.000000e+00  2.450000e+01   \n",
      "max    3.300000e+01  2.735000e+01           1.000000e+00  3.972000e+01   \n",
      "\n",
      "       congestion_surcharge          hour   airport_fee  \n",
      "count          1.518760e+06  1.518760e+06  1.518760e+06  \n",
      "mean           2.402266e+00  1.429041e+01  1.507957e-02  \n",
      "std            4.845437e-01  5.765248e+00  1.567446e-01  \n",
      "min            0.000000e+00  0.000000e+00  0.000000e+00  \n",
      "25%            2.500000e+00  1.100000e+01  0.000000e+00  \n",
      "50%            2.500000e+00  1.500000e+01  0.000000e+00  \n",
      "75%            2.500000e+00  1.900000e+01  0.000000e+00  \n",
      "max            2.500000e+00  2.300000e+01  1.750000e+00  \n"
     ]
    }
   ],
   "execution_count": 280
  },
  {
   "metadata": {
    "ExecuteTime": {
     "end_time": "2025-02-25T19:06:38.648220Z",
     "start_time": "2025-02-25T19:06:35.518011Z"
    }
   },
   "cell_type": "code",
   "source": [
    "import matplotlib.pyplot as plt\n",
    "import seaborn as sns\n",
    "\n",
    "#... (your data loading and cleaning code)...\n",
    "\n",
    "# Create a 2x2 grid of subplots\n",
    "fig, axes = plt.subplots(2, 2, figsize=(14, 10))  # 2 rows, 2 columns\n",
    "\n",
    "# a. Trip Distance (top-left)\n",
    "sns.boxplot(y=df['trip_distance'], ax=axes[0, 0])\n",
    "axes[0, 0].set_title('Box Plot of Trip Distance')\n",
    "axes[0, 0].set_ylabel('Trip Distance')\n",
    "\n",
    "# b. Fare Amount (top-right)\n",
    "sns.boxplot(y=df['fare_amount'], ax=axes[0, 1])\n",
    "axes[0, 1].set_title('Box Plot of Fare Amount')\n",
    "axes[0, 1].set_ylabel('Fare Amount')\n",
    "\n",
    "# c. Passenger Count (bottom-left)\n",
    "sns.countplot(x=df['passenger_count'], ax=axes[1, 0])\n",
    "axes[1, 0].set_title('Count Plot of Passenger Count')\n",
    "axes[1, 0].set_xlabel('Passenger Count')\n",
    "axes[1, 0].set_ylabel('Frequency')\n",
    "\n",
    "# d. Total Amount (bottom-right)\n",
    "sns.boxplot(y=df['total_amount'], ax=axes[1, 1])\n",
    "axes[1, 1].set_title('Box Plot of Total Amount')\n",
    "axes[1, 1].set_ylabel('Total Amount')\n",
    "\n",
    "# Adjust spacing between subplots\n",
    "plt.tight_layout()\n",
    "\n",
    "# Show the plot\n",
    "plt.show()\n",
    "\n",
    "# as we can see the outliers have been removed"
   ],
   "outputs": [
    {
     "data": {
      "text/plain": [
       "<Figure size 1400x1000 with 4 Axes>"
      ],
      "image/png": "[encoded data removed]"
     },
     "metadata": {},
     "output_type": "display_data"
    }
   ],
   "execution_count": 281
  },
  {
   "metadata": {
    "ExecuteTime": {
     "end_time": "2025-02-25T19:06:43.118363Z",
     "start_time": "2025-02-25T19:06:38.664353Z"
    }
   },
   "cell_type": "code",
   "source": [
    "df.to_csv(\"4_Cleaned_Outlier_Removed_Sampled_NYC_Taxi_Data.csv\", index=False)\n",
    "print(\"Cleaned data saved to '4_Cleaned_Outlier_Removed_Sampled_NYC_Taxi_Data.csv'\")"
   ],
   "outputs": [
    {
     "name": "stdout",
     "output_type": "stream",
     "text": [
      "Cleaned data saved to '4_Cleaned_Outlier_Removed_Sampled_NYC_Taxi_Data.csv'\n"
     ]
    }
   ],
   "execution_count": 282
  },
  {
   "metadata": {
    "ExecuteTime": {
     "end_time": "2025-02-25T19:06:43.135707Z",
     "start_time": "2025-02-25T19:06:43.134374Z"
    }
   },
   "cell_type": "code",
   "source": [
    "num_rows = len(df)\n",
    "print(f\"Number of remaining rows: {num_rows}\")"
   ],
   "outputs": [
    {
     "name": "stdout",
     "output_type": "stream",
     "text": [
      "Number of remaining rows: 1518760\n"
     ]
    }
   ],
   "execution_count": 283
  },
  {
   "metadata": {
    "id": "u-YNHI8tea9c"
   },
   "cell_type": "markdown",
   "source": "How will you fix each of these values? Which ones will you drop and which ones will you replace?"
  },
  {
   "metadata": {
    "ExecuteTime": {
     "end_time": "2025-02-25T19:06:43.191770Z",
     "start_time": "2025-02-25T19:06:43.190113Z"
    }
   },
   "cell_type": "code",
   "source": [
    "print('''\n",
    "When dealing with outliers, there's no one-size-fits-all solution. The best approach depends on the nature of your data, the reason for the outliers (errors, natural variation, etc.),\n",
    "\n",
    "Understanding the Outliers:\n",
    "    Visual Inspection\n",
    "    Domain Knowledge\n",
    "    Investigate the Cause\n",
    "\n",
    "Handling Outliers:\n",
    "    1. Drop: If an outlier is due to an error or data entry mistake, it may be best to drop the entry.\n",
    "    2. Replace: If an outlier is valid but extreme, it may be replaced with a more reasonable value.\n",
    "    3. Keep: If an outlier is valid and expected, it may be kept as is.\n",
    "\n",
    "How to do it:\n",
    "    • Identify outliers using visual inspection, IQR, Z-score, or domain knowledge.\n",
    "    • Use boolean indexing or the .drop() method in Pandas to remove the rows containing the outliers.\n",
    "\n",
    "Imputation (Replacing with another value):\n",
    "    • Mean, Median, Mode: Replacing with the mean, median, or mode of the column.\n",
    "    • Custom Value: Replacing with a custom value based on domain knowledge.\n",
    "    • Interpolation: Replacing with a value based on the surrounding data points.\n",
    "\n",
    "Transformation:\n",
    "    • Log Transformation: Applying a log transformation to the data to reduce the impact of outliers.\n",
    "\n",
    "Winsorizing/Clipping:\n",
    "      Replacing extreme values with the nearest less extreme value.\n",
    "\n",
    "Keep the Outliers (Sometimes!):\n",
    "    • If the outliers are valid data points and part of the distribution, they may be kept.\n",
    "''')\n"
   ],
   "outputs": [
    {
     "name": "stdout",
     "output_type": "stream",
     "text": [
      "\n",
      "When dealing with outliers, there's no one-size-fits-all solution. The best approach depends on the nature of your data, the reason for the outliers (errors, natural variation, etc.),\n",
      "\n",
      "Understanding the Outliers:\n",
      "    Visual Inspection\n",
      "    Domain Knowledge\n",
      "    Investigate the Cause\n",
      "\n",
      "Handling Outliers:\n",
      "    1. Drop: If an outlier is due to an error or data entry mistake, it may be best to drop the entry.\n",
      "    2. Replace: If an outlier is valid but extreme, it may be replaced with a more reasonable value.\n",
      "    3. Keep: If an outlier is valid and expected, it may be kept as is.\n",
      "\n",
      "How to do it:\n",
      "    • Identify outliers using visual inspection, IQR, Z-score, or domain knowledge.\n",
      "    • Use boolean indexing or the .drop() method in Pandas to remove the rows containing the outliers.\n",
      "\n",
      "Imputation (Replacing with another value):\n",
      "    • Mean, Median, Mode: Replacing with the mean, median, or mode of the column.\n",
      "    • Custom Value: Replacing with a custom value based on domain knowledge.\n",
      "    • Interpolation: Replacing with a value based on the surrounding data points.\n",
      "\n",
      "Transformation:\n",
      "    • Log Transformation: Applying a log transformation to the data to reduce the impact of outliers.\n",
      "\n",
      "Winsorizing/Clipping:\n",
      "      Replacing extreme values with the nearest less extreme value.\n",
      "\n",
      "Keep the Outliers (Sometimes!):\n",
      "    • If the outliers are valid data points and part of the distribution, they may be kept.\n",
      "\n"
     ]
    }
   ],
   "execution_count": 284
  },
  {
   "cell_type": "code",
   "metadata": {
    "id": "PuzQXfuT8YKV",
    "ExecuteTime": {
     "end_time": "2025-02-25T19:06:43.298808Z",
     "start_time": "2025-02-25T19:06:43.297311Z"
    }
   },
   "source": [
    "# Do any columns need standardising?\n",
    "\n",
    "print('''\n",
    "When to Standardize:\n",
    "\n",
    "1. Machine Learning Algorithms:\n",
    "    Many machine learning algorithms (especially those based on distance calculations or gradient descent) benefit from standardization.\n",
    "        Standardizing features can:\n",
    "            Prevent features with larger scales from dominating the model.\n",
    "            Improve numerical stability.\n",
    "            Speed up convergence in some algorithms.\n",
    "\n",
    "2. Comparing Features with Different Units:\n",
    "        If you have features with different units or scales (e.g., trip_distance in miles and fare_amount in dollars),\n",
    "        standardizing them can make them more comparable.\n",
    "\n",
    "3. Data Visualization:\n",
    "    In some cases, standardizing can make it easier to visualize data with different scales on the same plot.\n",
    "\n",
    "Common Standardization Methods:\n",
    "1. Z-score Standardization:\n",
    "2. Min-Max Scaling:\n",
    "\n",
    "based on this data : trip_distance and fare_amount and total_amount should be standardized as they have different units.\n",
    "''')\n"
   ],
   "outputs": [
    {
     "name": "stdout",
     "output_type": "stream",
     "text": [
      "\n",
      "When to Standardize:\n",
      "\n",
      "1. Machine Learning Algorithms:\n",
      "    Many machine learning algorithms (especially those based on distance calculations or gradient descent) benefit from standardization.\n",
      "        Standardizing features can:\n",
      "            Prevent features with larger scales from dominating the model.\n",
      "            Improve numerical stability.\n",
      "            Speed up convergence in some algorithms.\n",
      "\n",
      "2. Comparing Features with Different Units:\n",
      "        If you have features with different units or scales (e.g., trip_distance in miles and fare_amount in dollars),\n",
      "        standardizing them can make them more comparable.\n",
      "\n",
      "3. Data Visualization:\n",
      "    In some cases, standardizing can make it easier to visualize data with different scales on the same plot.\n",
      "\n",
      "Common Standardization Methods:\n",
      "1. Z-score Standardization:\n",
      "2. Min-Max Scaling:\n",
      "\n",
      "based on this data : trip_distance and fare_amount and total_amount should be standardized as they have different units.\n",
      "\n"
     ]
    }
   ],
   "execution_count": 285
  },
  {
   "metadata": {
    "ExecuteTime": {
     "end_time": "2025-02-25T19:06:44.671276Z",
     "start_time": "2025-02-25T19:06:43.407483Z"
    }
   },
   "cell_type": "code",
   "source": [
    "try:\n",
    "    df = pd.read_csv('4_Cleaned_Outlier_Removed_Sampled_NYC_Taxi_Data.csv')\n",
    "except FileNotFoundError:\n",
    "    print(\"Error: '4_Cleaned_Outlier_Removed_Sampled_NYC_Taxi_Data.csv' DataFrame not found or saved file not found. Please make sure you have sampled and saved the data first.\")"
   ],
   "outputs": [],
   "execution_count": 286
  },
  {
   "metadata": {
    "ExecuteTime": {
     "end_time": "2025-02-25T19:06:44.696081Z",
     "start_time": "2025-02-25T19:06:44.684369Z"
    }
   },
   "cell_type": "code",
   "source": [
    "# Analyse the above parameters\n",
    "columns_to_check = ['fare_amount', 'tip_amount', 'total_amount', 'trip_distance']\n",
    "\n",
    "for col in columns_to_check:\n",
    "    num_zeros = (df[col] == 0).sum()\n",
    "    num_negatives = (df[col] < 0).sum()\n",
    "    print(f\"\\nColumn '{col}':\")\n",
    "    print(f\"  - Number of zero values: {num_zeros}\")\n",
    "    print(f\"  - Number of negative values: {num_negatives}\")\n",
    "\n",
    "'''\n",
    "There is no negative values in the dataset before standardization.\n",
    "'''"
   ],
   "outputs": [
    {
     "name": "stdout",
     "output_type": "stream",
     "text": [
      "\n",
      "Column 'fare_amount':\n",
      "  - Number of zero values: 191\n",
      "  - Number of negative values: 0\n",
      "\n",
      "Column 'tip_amount':\n",
      "  - Number of zero values: 335368\n",
      "  - Number of negative values: 0\n",
      "\n",
      "Column 'total_amount':\n",
      "  - Number of zero values: 0\n",
      "  - Number of negative values: 0\n",
      "\n",
      "Column 'trip_distance':\n",
      "  - Number of zero values: 15541\n",
      "  - Number of negative values: 0\n"
     ]
    },
    {
     "data": {
      "text/plain": [
       "'\\nThere is no negative values in the dataset before standardization.\\n'"
      ]
     },
     "execution_count": 287,
     "metadata": {},
     "output_type": "execute_result"
    }
   ],
   "execution_count": 287
  },
  {
   "metadata": {
    "ExecuteTime": {
     "end_time": "2025-02-25T19:06:45.258354Z",
     "start_time": "2025-02-25T19:06:44.830725Z"
    }
   },
   "cell_type": "code",
   "source": [
    "from sklearn.preprocessing import StandardScaler\n",
    "# Select the columns to standardize\n",
    "cols_to_standardize = ['trip_distance', 'fare_amount', 'total_amount']  # Include relevant columns\n",
    "\n",
    "# Create a StandardScaler object\n",
    "scaler = StandardScaler()\n",
    "\n",
    "# Fit the scaler to the selected columns\n",
    "scaler.fit(df[cols_to_standardize])\n",
    "\n",
    "# Transform the selected columns\n",
    "df[cols_to_standardize] = scaler.transform(df[cols_to_standardize])\n",
    "\n",
    "\n",
    "print(\"\\nStandardized Data Description:\")\n",
    "df.describe() # You'll see that the selected columns now have mean=0 and std=1\n"
   ],
   "outputs": [
    {
     "name": "stdout",
     "output_type": "stream",
     "text": [
      "\n",
      "Standardized Data Description:\n"
     ]
    },
    {
     "data": {
      "text/plain": [
       "       passenger_count  trip_distance    RatecodeID  PULocationID  \\\n",
       "count     1.518760e+06   1.518760e+06  1.518760e+06  1.518760e+06   \n",
       "mean      1.357037e+00  -2.799578e-16  1.329338e+00  1.690434e+02   \n",
       "std       8.895864e-01   1.000000e+00  5.609096e+00  6.499618e+01   \n",
       "min       0.000000e+00  -1.537186e+00  1.000000e+00  1.000000e+00   \n",
       "25%       1.000000e+00  -7.209280e-01  1.000000e+00  1.370000e+02   \n",
       "50%       1.000000e+00  -2.617827e-01  1.000000e+00  1.630000e+02   \n",
       "75%       1.000000e+00   4.694487e-01  1.000000e+00  2.340000e+02   \n",
       "max       6.000000e+00   4.287157e+00  9.900000e+01  2.650000e+02   \n",
       "\n",
       "       DOLocationID  payment_type   fare_amount         extra       mta_tax  \\\n",
       "count  1.518760e+06  1.518760e+06  1.518760e+06  1.518760e+06  1.518760e+06   \n",
       "mean   1.673792e+02  1.206937e+00 -1.758064e-15  1.423394e+00  4.988971e-01   \n",
       "std    6.823739e+01  4.674629e-01  1.000000e+00  1.470988e+00  2.402499e-02   \n",
       "min    1.000000e+00  1.000000e+00 -2.244849e+00  0.000000e+00  0.000000e+00   \n",
       "25%    1.250000e+02  1.000000e+00 -7.651675e-01  0.000000e+00  5.000000e-01   \n",
       "50%    1.630000e+02  1.000000e+00 -1.629718e-01  1.000000e+00  5.000000e-01   \n",
       "75%    2.360000e+02  1.000000e+00  5.596631e-01  2.500000e+00  5.000000e-01   \n",
       "max    2.650000e+02  4.000000e+00  3.140502e+00  1.025000e+01  4.000000e+00   \n",
       "\n",
       "         tip_amount  tolls_amount  improvement_surcharge  total_amount  \\\n",
       "count  1.518760e+06  1.518760e+06           1.518760e+06  1.518760e+06   \n",
       "mean   2.551628e+00  1.049111e-02           9.995332e-01 -7.570277e-16   \n",
       "std    1.891801e+00  2.740698e-01           1.920384e-02  1.000000e+00   \n",
       "min    0.000000e+00  0.000000e+00           0.000000e+00 -2.802633e+00   \n",
       "25%    1.000000e+00  0.000000e+00           1.000000e+00 -7.528868e-01   \n",
       "50%    2.640000e+00  0.000000e+00           1.000000e+00 -1.751255e-01   \n",
       "75%    3.780000e+00  0.000000e+00           1.000000e+00  6.087717e-01   \n",
       "max    3.300000e+01  2.735000e+01           1.000000e+00  2.818201e+00   \n",
       "\n",
       "       congestion_surcharge          hour   airport_fee  \n",
       "count          1.518760e+06  1.518760e+06  1.518760e+06  \n",
       "mean           2.402266e+00  1.429041e+01  1.507957e-02  \n",
       "std            4.845437e-01  5.765248e+00  1.567446e-01  \n",
       "min            0.000000e+00  0.000000e+00  0.000000e+00  \n",
       "25%            2.500000e+00  1.100000e+01  0.000000e+00  \n",
       "50%            2.500000e+00  1.500000e+01  0.000000e+00  \n",
       "75%            2.500000e+00  1.900000e+01  0.000000e+00  \n",
       "max            2.500000e+00  2.300000e+01  1.750000e+00  "
      ],
      "text/html": [
       "<div>\n",
       "<style scoped>\n",
       "    .dataframe tbody tr th:only-of-type {\n",
       "        vertical-align: middle;\n",
       "    }\n",
       "\n",
       "    .dataframe tbody tr th {\n",
       "        vertical-align: top;\n",
       "    }\n",
       "\n",
       "    .dataframe thead th {\n",
       "        text-align: right;\n",
       "    }\n",
       "</style>\n",
       "<table border=\"1\" class=\"dataframe\">\n",
       "  <thead>\n",
       "    <tr style=\"text-align: right;\">\n",
       "      <th></th>\n",
       "      <th>passenger_count</th>\n",
       "      <th>trip_distance</th>\n",
       "      <th>RatecodeID</th>\n",
       "      <th>PULocationID</th>\n",
       "      <th>DOLocationID</th>\n",
       "      <th>payment_type</th>\n",
       "      <th>fare_amount</th>\n",
       "      <th>extra</th>\n",
       "      <th>mta_tax</th>\n",
       "      <th>tip_amount</th>\n",
       "      <th>tolls_amount</th>\n",
       "      <th>improvement_surcharge</th>\n",
       "      <th>total_amount</th>\n",
       "      <th>congestion_surcharge</th>\n",
       "      <th>hour</th>\n",
       "      <th>airport_fee</th>\n",
       "    </tr>\n",
       "  </thead>\n",
       "  <tbody>\n",
       "    <tr>\n",
       "      <th>count</th>\n",
       "      <td>1.518760e+06</td>\n",
       "      <td>1.518760e+06</td>\n",
       "      <td>1.518760e+06</td>\n",
       "      <td>1.518760e+06</td>\n",
       "      <td>1.518760e+06</td>\n",
       "      <td>1.518760e+06</td>\n",
       "      <td>1.518760e+06</td>\n",
       "      <td>1.518760e+06</td>\n",
       "      <td>1.518760e+06</td>\n",
       "      <td>1.518760e+06</td>\n",
       "      <td>1.518760e+06</td>\n",
       "      <td>1.518760e+06</td>\n",
       "      <td>1.518760e+06</td>\n",
       "      <td>1.518760e+06</td>\n",
       "      <td>1.518760e+06</td>\n",
       "      <td>1.518760e+06</td>\n",
       "    </tr>\n",
       "    <tr>\n",
       "      <th>mean</th>\n",
       "      <td>1.357037e+00</td>\n",
       "      <td>-2.799578e-16</td>\n",
       "      <td>1.329338e+00</td>\n",
       "      <td>1.690434e+02</td>\n",
       "      <td>1.673792e+02</td>\n",
       "      <td>1.206937e+00</td>\n",
       "      <td>-1.758064e-15</td>\n",
       "      <td>1.423394e+00</td>\n",
       "      <td>4.988971e-01</td>\n",
       "      <td>2.551628e+00</td>\n",
       "      <td>1.049111e-02</td>\n",
       "      <td>9.995332e-01</td>\n",
       "      <td>-7.570277e-16</td>\n",
       "      <td>2.402266e+00</td>\n",
       "      <td>1.429041e+01</td>\n",
       "      <td>1.507957e-02</td>\n",
       "    </tr>\n",
       "    <tr>\n",
       "      <th>std</th>\n",
       "      <td>8.895864e-01</td>\n",
       "      <td>1.000000e+00</td>\n",
       "      <td>5.609096e+00</td>\n",
       "      <td>6.499618e+01</td>\n",
       "      <td>6.823739e+01</td>\n",
       "      <td>4.674629e-01</td>\n",
       "      <td>1.000000e+00</td>\n",
       "      <td>1.470988e+00</td>\n",
       "      <td>2.402499e-02</td>\n",
       "      <td>1.891801e+00</td>\n",
       "      <td>2.740698e-01</td>\n",
       "      <td>1.920384e-02</td>\n",
       "      <td>1.000000e+00</td>\n",
       "      <td>4.845437e-01</td>\n",
       "      <td>5.765248e+00</td>\n",
       "      <td>1.567446e-01</td>\n",
       "    </tr>\n",
       "    <tr>\n",
       "      <th>min</th>\n",
       "      <td>0.000000e+00</td>\n",
       "      <td>-1.537186e+00</td>\n",
       "      <td>1.000000e+00</td>\n",
       "      <td>1.000000e+00</td>\n",
       "      <td>1.000000e+00</td>\n",
       "      <td>1.000000e+00</td>\n",
       "      <td>-2.244849e+00</td>\n",
       "      <td>0.000000e+00</td>\n",
       "      <td>0.000000e+00</td>\n",
       "      <td>0.000000e+00</td>\n",
       "      <td>0.000000e+00</td>\n",
       "      <td>0.000000e+00</td>\n",
       "      <td>-2.802633e+00</td>\n",
       "      <td>0.000000e+00</td>\n",
       "      <td>0.000000e+00</td>\n",
       "      <td>0.000000e+00</td>\n",
       "    </tr>\n",
       "    <tr>\n",
       "      <th>25%</th>\n",
       "      <td>1.000000e+00</td>\n",
       "      <td>-7.209280e-01</td>\n",
       "      <td>1.000000e+00</td>\n",
       "      <td>1.370000e+02</td>\n",
       "      <td>1.250000e+02</td>\n",
       "      <td>1.000000e+00</td>\n",
       "      <td>-7.651675e-01</td>\n",
       "      <td>0.000000e+00</td>\n",
       "      <td>5.000000e-01</td>\n",
       "      <td>1.000000e+00</td>\n",
       "      <td>0.000000e+00</td>\n",
       "      <td>1.000000e+00</td>\n",
       "      <td>-7.528868e-01</td>\n",
       "      <td>2.500000e+00</td>\n",
       "      <td>1.100000e+01</td>\n",
       "      <td>0.000000e+00</td>\n",
       "    </tr>\n",
       "    <tr>\n",
       "      <th>50%</th>\n",
       "      <td>1.000000e+00</td>\n",
       "      <td>-2.617827e-01</td>\n",
       "      <td>1.000000e+00</td>\n",
       "      <td>1.630000e+02</td>\n",
       "      <td>1.630000e+02</td>\n",
       "      <td>1.000000e+00</td>\n",
       "      <td>-1.629718e-01</td>\n",
       "      <td>1.000000e+00</td>\n",
       "      <td>5.000000e-01</td>\n",
       "      <td>2.640000e+00</td>\n",
       "      <td>0.000000e+00</td>\n",
       "      <td>1.000000e+00</td>\n",
       "      <td>-1.751255e-01</td>\n",
       "      <td>2.500000e+00</td>\n",
       "      <td>1.500000e+01</td>\n",
       "      <td>0.000000e+00</td>\n",
       "    </tr>\n",
       "    <tr>\n",
       "      <th>75%</th>\n",
       "      <td>1.000000e+00</td>\n",
       "      <td>4.694487e-01</td>\n",
       "      <td>1.000000e+00</td>\n",
       "      <td>2.340000e+02</td>\n",
       "      <td>2.360000e+02</td>\n",
       "      <td>1.000000e+00</td>\n",
       "      <td>5.596631e-01</td>\n",
       "      <td>2.500000e+00</td>\n",
       "      <td>5.000000e-01</td>\n",
       "      <td>3.780000e+00</td>\n",
       "      <td>0.000000e+00</td>\n",
       "      <td>1.000000e+00</td>\n",
       "      <td>6.087717e-01</td>\n",
       "      <td>2.500000e+00</td>\n",
       "      <td>1.900000e+01</td>\n",
       "      <td>0.000000e+00</td>\n",
       "    </tr>\n",
       "    <tr>\n",
       "      <th>max</th>\n",
       "      <td>6.000000e+00</td>\n",
       "      <td>4.287157e+00</td>\n",
       "      <td>9.900000e+01</td>\n",
       "      <td>2.650000e+02</td>\n",
       "      <td>2.650000e+02</td>\n",
       "      <td>4.000000e+00</td>\n",
       "      <td>3.140502e+00</td>\n",
       "      <td>1.025000e+01</td>\n",
       "      <td>4.000000e+00</td>\n",
       "      <td>3.300000e+01</td>\n",
       "      <td>2.735000e+01</td>\n",
       "      <td>1.000000e+00</td>\n",
       "      <td>2.818201e+00</td>\n",
       "      <td>2.500000e+00</td>\n",
       "      <td>2.300000e+01</td>\n",
       "      <td>1.750000e+00</td>\n",
       "    </tr>\n",
       "  </tbody>\n",
       "</table>\n",
       "</div>"
      ]
     },
     "execution_count": 288,
     "metadata": {},
     "output_type": "execute_result"
    }
   ],
   "execution_count": 288
  },
  {
   "metadata": {
    "ExecuteTime": {
     "end_time": "2025-02-25T19:06:50.923974Z",
     "start_time": "2025-02-25T19:06:45.293263Z"
    }
   },
   "cell_type": "code",
   "source": [
    "df.to_csv(\"Standard_Sampled_NYC_Taxi_Data.csv\", index=False)\n",
    "print(\"Standardized data saved to 'Standard_Sampled_NYC_Taxi_Data.csv'\")"
   ],
   "outputs": [
    {
     "name": "stdout",
     "output_type": "stream",
     "text": [
      "Standardized data saved to 'Standard_Sampled_NYC_Taxi_Data.csv'\n"
     ]
    }
   ],
   "execution_count": 289
  },
  {
   "cell_type": "markdown",
   "metadata": {
    "id": "gPpJyFFNffcL"
   },
   "source": [
    "## **3** Exploratory Data Analysis\n",
    "<font color = red>[90 marks]</font> <br>"
   ]
  },
  {
   "cell_type": "code",
   "metadata": {
    "id": "cl-0PcYTfkqh",
    "ExecuteTime": {
     "end_time": "2025-02-25T19:06:50.942110Z",
     "start_time": "2025-02-25T19:06:50.939958Z"
    }
   },
   "source": [
    "df.columns.tolist()"
   ],
   "outputs": [
    {
     "data": {
      "text/plain": [
       "['tpep_pickup_datetime',\n",
       " 'tpep_dropoff_datetime',\n",
       " 'passenger_count',\n",
       " 'trip_distance',\n",
       " 'RatecodeID',\n",
       " 'PULocationID',\n",
       " 'DOLocationID',\n",
       " 'payment_type',\n",
       " 'fare_amount',\n",
       " 'extra',\n",
       " 'mta_tax',\n",
       " 'tip_amount',\n",
       " 'tolls_amount',\n",
       " 'improvement_surcharge',\n",
       " 'total_amount',\n",
       " 'congestion_surcharge',\n",
       " 'date',\n",
       " 'hour',\n",
       " 'airport_fee']"
      ]
     },
     "execution_count": 290,
     "metadata": {},
     "output_type": "execute_result"
    }
   ],
   "execution_count": 290
  },
  {
   "cell_type": "markdown",
   "metadata": {
    "id": "a4N3PvkSTwcN"
   },
   "source": [
    "#### **3.1** General EDA: Finding Patterns and Trends\n",
    "<font color = red>[40 marks]</font> <br>"
   ]
  },
  {
   "cell_type": "markdown",
   "metadata": {
    "id": "9hwonDfZTJO6"
   },
   "source": [
    "**3.1.1** <font color = red>[3 marks]</font> <br>\n",
    "Categorise the varaibles into Numerical or Categorical.\n",
    "* `VendorID`:\n",
    "* `tpep_pickup_datetime`:\n",
    "* `tpep_dropoff_datetime`:\n",
    "* `passenger_count`:\n",
    "* `trip_distance`:\n",
    "* `RatecodeID`:\n",
    "* `PULocationID`:\n",
    "* `DOLocationID`:\n",
    "* `payment_type`:\n",
    "* `pickup_hour`:\n",
    "* `trip_duration`:\n",
    "\n",
    "\n",
    "The following monetary parameters belong in the same category, is it categorical or numerical?\n",
    "\n",
    "\n",
    "* `fare_amount`\n",
    "* `extra`\n",
    "* `mta_tax`\n",
    "* `tip_amount`\n",
    "* `tolls_amount`\n",
    "* `improvement_surcharge`\n",
    "* `total_amount`\n",
    "* `congestion_surcharge`\n",
    "* `airport_fee`"
   ]
  },
  {
   "metadata": {
    "ExecuteTime": {
     "end_time": "2025-02-25T19:06:50.973497Z",
     "start_time": "2025-02-25T19:06:50.971887Z"
    }
   },
   "cell_type": "code",
   "source": [
    "print('''\n",
    "Categorical Variables:\n",
    "\n",
    "• VendorID\n",
    "• RatecodeID\n",
    "• PULocationID\n",
    "• DOLocationID\n",
    "• payment_type\n",
    "• pickup_hour\n",
    "\n",
    "Numerical Variables:\n",
    "• tpep_pickup_datetime\n",
    "• tpep_dropoff_datetime\n",
    "• passenger_count\n",
    "• trip_distance\n",
    "• trip_duration\n",
    "\n",
    "Dates and Times: Dates and times can sometimes be treated as both numerical and categorical, depending on the analysis. For example, you might use the numerical values of dates to calculate durations or time intervals, or you might treat dates as categories to analyze trends over time.\n",
    "\n",
    "• fare_amount\n",
    "• extra\n",
    "• mta_tax\n",
    "• tip_amount\n",
    "• tolls_amount\n",
    "• improvement_surcharge\n",
    "• total_amount\n",
    "• congestion_surcharge\n",
    "• airport_fee\n",
    "        These monetary parameters are all numerical variables. They represent amounts of money and can be treated as continuous numerical data.\n",
    "''')"
   ],
   "outputs": [
    {
     "name": "stdout",
     "output_type": "stream",
     "text": [
      "\n",
      "Categorical Variables:\n",
      "\n",
      "• VendorID\n",
      "• RatecodeID\n",
      "• PULocationID\n",
      "• DOLocationID\n",
      "• payment_type\n",
      "• pickup_hour\n",
      "\n",
      "Numerical Variables:\n",
      "• tpep_pickup_datetime\n",
      "• tpep_dropoff_datetime\n",
      "• passenger_count\n",
      "• trip_distance\n",
      "• trip_duration\n",
      "\n",
      "Dates and Times: Dates and times can sometimes be treated as both numerical and categorical, depending on the analysis. For example, you might use the numerical values of dates to calculate durations or time intervals, or you might treat dates as categories to analyze trends over time.\n",
      "\n",
      "• fare_amount\n",
      "• extra\n",
      "• mta_tax\n",
      "• tip_amount\n",
      "• tolls_amount\n",
      "• improvement_surcharge\n",
      "• total_amount\n",
      "• congestion_surcharge\n",
      "• airport_fee\n",
      "        These monetary parameters are all numerical variables. They represent amounts of money and can be treated as continuous numerical data.\n",
      "\n"
     ]
    }
   ],
   "execution_count": 291
  },
  {
   "cell_type": "markdown",
   "metadata": {
    "id": "MbGMjArkiXjL"
   },
   "source": [
    "##### Temporal Analysis"
   ]
  },
  {
   "cell_type": "markdown",
   "metadata": {
    "id": "ZCCbmQ49s2qj"
   },
   "source": [
    "**3.1.2** <font color = red>[5 marks]</font> <br>\n",
    "Analyse the distribution of taxi pickups by hours, days of the week, and months."
   ]
  },
  {
   "cell_type": "code",
   "metadata": {
    "id": "RwgWN_MWg0Au",
    "ExecuteTime": {
     "end_time": "2025-02-25T19:06:52.432287Z",
     "start_time": "2025-02-25T19:06:50.991858Z"
    }
   },
   "source": [
    "\n",
    "try:\n",
    "    df = pd.read_csv(\"Standard_Sampled_NYC_Taxi_Data.csv\")\n",
    "    print(\"Data loaded successfully.\")\n",
    "except FileNotFoundError:\n",
    "    print(\"Error: 'Standard_Sampled_NYC_Taxi_Data.csv' not found. Please provide the correct file path.\")\n",
    "    exit()\n"
   ],
   "outputs": [
    {
     "name": "stdout",
     "output_type": "stream",
     "text": [
      "Data loaded successfully.\n"
     ]
    }
   ],
   "execution_count": 292
  },
  {
   "cell_type": "code",
   "metadata": {
    "id": "R64b8zfkG5OK",
    "ExecuteTime": {
     "end_time": "2025-02-25T19:06:52.895184Z",
     "start_time": "2025-02-25T19:06:52.463832Z"
    }
   },
   "source": [
    "# Find and show the hourly trends in taxi pickups\n",
    "'''\n",
    "Hourly Trends: Identify peak hours when taxi demand is highest (e.g., rush hours, late nights).\n",
    "'''\n",
    "\n",
    "# 2. Convert pickup and dropoff datetime columns to datetime objects\n",
    "df['tpep_pickup_datetime'] = pd.to_datetime(df['tpep_pickup_datetime'])\n",
    "df['tpep_dropoff_datetime'] = pd.to_datetime(df['tpep_dropoff_datetime'])\n",
    "\n",
    "# 3. Extract hour, day of the week, and month from pickup datetime\n",
    "df['pickup_hour'] = df['tpep_pickup_datetime'].dt.hour\n",
    "df['pickup_dayofweek'] = df['tpep_pickup_datetime'].dt.dayofweek  # Monday=0, Sunday=6\n",
    "df['pickup_month'] = df['tpep_pickup_datetime'].dt.month\n",
    "\n",
    "# a. Hourly Distribution\n",
    "'''\n",
    "Hourly Distribution: Calculates the number of pickups for each hour of the day using value_counts()\n",
    "and plots a bar chart using sns.barplot().\n",
    "'''\n",
    "import matplotlib.pyplot as plt\n",
    "import seaborn as sns\n",
    "\n",
    "# Assuming `df` contains a column named 'pickup_hour' (integer 0-23)\n",
    "# Group data to get hourly pickup counts\n",
    "hourly_pickups = df['pickup_hour'].value_counts().sort_index()\n",
    "\n",
    "# Group by pickup hour and count occurrences\n",
    "hourly_trends = df.groupby('pickup_hour')['pickup_hour'].count()\n",
    "\n",
    "# Create a 2-row, 1-column grid for subplots\n",
    "fig, axes = plt.subplots(2, 1, figsize=(12, 10))\n",
    "\n",
    "# (a) Bar Plot: Hourly Distribution of Taxi Pickups\n",
    "sns.barplot(x=hourly_pickups.index, y=hourly_pickups.values, ax=axes[0])\n",
    "axes[0].set_title('Hourly Distribution of Taxi Pickups')\n",
    "axes[0].set_xlabel('Hour of the Day')\n",
    "axes[0].set_ylabel('Number of Pickups')\n",
    "\n",
    "# (b) Line Plot: Hourly Trends\n",
    "axes[1].plot(hourly_trends.index, hourly_trends.values, marker='o', linestyle='-')\n",
    "axes[1].set_title('Hourly Trends in Taxi Pickups')\n",
    "axes[1].set_xlabel('Hour of the Day')\n",
    "axes[1].set_ylabel('Number of Pickups')\n",
    "axes[1].grid(True)\n",
    "\n",
    "# Adjust layout to prevent overlap\n",
    "plt.tight_layout()\n",
    "\n",
    "# Show the combined plots\n",
    "plt.show()\n"
   ],
   "outputs": [
    {
     "data": {
      "text/plain": [
       "<Figure size 1200x1000 with 2 Axes>"
      ],
      "image/png": "[encoded data removed]"
     },
     "metadata": {},
     "output_type": "display_data"
    }
   ],
   "execution_count": 293
  },
  {
   "metadata": {
    "ExecuteTime": {
     "end_time": "2025-02-25T20:24:26.253546Z",
     "start_time": "2025-02-25T20:24:26.037948Z"
    }
   },
   "cell_type": "code",
   "source": [
    "# Assuming `df` contains a column named 'pickup_dayofweek' (integer 0-6, where Monday=0 and Sunday=6)\n",
    "\n",
    "# 2. Convert pickup and dropoff datetime columns to datetime objects\n",
    "df['tpep_pickup_datetime'] = pd.to_datetime(df['tpep_pickup_datetime'])\n",
    "df['tpep_dropoff_datetime'] = pd.to_datetime(df['tpep_dropoff_datetime'])\n",
    "\n",
    "# 3. Extract hour, day of the week, and month from pickup datetime\n",
    "df['pickup_dayofweek'] = df['tpep_pickup_datetime'].dt.dayofweek  # Monday=0, Sunday=6\n",
    "\n",
    "\n",
    "# Define day labels\n",
    "day_labels = ['Monday', 'Tuesday', 'Wednesday', 'Thursday', 'Friday', 'Saturday', 'Sunday']\n",
    "\n",
    "# Count pickups per day of the week, ensuring all days (0-6) are present\n",
    "daily_pickups = df['pickup_dayofweek'].value_counts().reindex(range(7), fill_value=1)  # Avoid log(0) issue\n",
    "\n",
    "# Compute daily trends\n",
    "daily_trends = df.groupby('pickup_dayofweek')['pickup_dayofweek'].count().reindex(range(7), fill_value=1)  # Avoid log(0) issue\n",
    "\n",
    "# Create a 2-row, 1-column grid for subplots\n",
    "fig, axes = plt.subplots(2, 1, figsize=(12, 10))\n",
    "\n",
    "# (a) Bar Plot: Daily Distribution of Taxi Pickups (Log Scale)\n",
    "sns.barplot(x=day_labels, y=daily_pickups.values, ax=axes[0])\n",
    "axes[0].set_title('Daily Distribution of Taxi Pickups (Log Scale)')\n",
    "axes[0].set_xlabel('Day of the Week')\n",
    "axes[0].set_ylabel('Number of Pickups')\n",
    "axes[0].set_yscale('log')  # Set y-axis to log scale\n",
    "\n",
    "# (b) Line Plot: Daily Trends (Log Scale)\n",
    "axes[1].plot(day_labels, daily_trends.values, marker='o', linestyle='-')\n",
    "axes[1].set_title('Daily Trends in Taxi Pickups (Log Scale)')\n",
    "axes[1].set_xlabel('Day of the Week')\n",
    "axes[1].set_ylabel('Number of Pickups')\n",
    "axes[1].set_yscale('log')  # Set y-axis to log scale\n",
    "axes[1].grid(True, which=\"both\", linestyle=\"--\", linewidth=0.5)  # Improve log-scale grid\n",
    "\n",
    "# Adjust layout to prevent overlap\n",
    "plt.tight_layout()\n",
    "\n",
    "# Show the combined plots\n",
    "plt.show()\n"
   ],
   "outputs": [
    {
     "data": {
      "text/plain": [
       "<Figure size 1200x1000 with 2 Axes>"
      ],
      "image/png": "[encoded data removed]"
     },
     "metadata": {},
     "output_type": "display_data"
    }
   ],
   "execution_count": 332
  },
  {
   "cell_type": "code",
   "metadata": {
    "id": "H7V-jmRQG5hJ",
    "ExecuteTime": {
     "end_time": "2025-02-25T19:06:53.007835Z",
     "start_time": "2025-02-25T19:06:52.914618Z"
    }
   },
   "source": [
    "# Show the monthly trends in pickups\n",
    "'''\n",
    "Monthly Distribution: Counts the number of pickups for each month using value_counts() and plots a bar chart using sns.barplot().\n",
    "'''\n",
    "# c. Monthly Distribution\n",
    "monthly_pickups = df['pickup_month'].value_counts().sort_index()\n",
    "\n",
    "plt.figure(figsize=(10, 5))\n",
    "sns.barplot(x=monthly_pickups.index, y=monthly_pickups.values)\n",
    "plt.title('Monthly Distribution of Taxi Pickups')\n",
    "plt.xlabel('Month')\n",
    "plt.ylabel('Number of Pickups')\n",
    "plt.show()\n",
    "\n",
    "# Group by pickup month and count the number of pickups\n",
    "monthly_trends = df.groupby('pickup_month')['pickup_month'].count()\n",
    "\n",
    "# Create the line plot\n",
    "plt.figure(figsize=(10, 5))\n",
    "monthly_trends.plot(kind='line', marker='o')\n",
    "plt.title('Monthly Trends in Taxi Pickups')\n",
    "plt.xlabel('Month')\n",
    "plt.ylabel('Number of Pickups')\n",
    "plt.xticks(ticks=range(1, 13), labels=['Jan', 'Feb', 'Mar', 'Apr', 'May', 'Jun', 'Jul', 'Aug', 'Sep', 'Oct', 'Nov', 'Dec'])  # Set x-axis labels\n",
    "plt.grid(True)\n",
    "plt.show()\n"
   ],
   "outputs": [
    {
     "data": {
      "text/plain": [
       "<Figure size 1000x500 with 1 Axes>"
      ],
      "image/png": "[encoded data removed]"
     },
     "metadata": {},
     "output_type": "display_data"
    },
    {
     "data": {
      "text/plain": [
       "<Figure size 1000x500 with 1 Axes>"
      ],
      "image/png": "[encoded data removed]"
     },
     "metadata": {},
     "output_type": "display_data"
    }
   ],
   "execution_count": 294
  },
  {
   "cell_type": "markdown",
   "metadata": {
    "id": "23IqsgNjHNpJ"
   },
   "source": [
    "##### Financial Analysis"
   ]
  },
  {
   "cell_type": "markdown",
   "metadata": {
    "id": "fRaO-3NqHSM6"
   },
   "source": [
    "Take a look at the financial parameters like `fare_amount`, `tip_amount`, `total_amount`, and also `trip_distance`. Do these contain zero/negative values?"
   ]
  },
  {
   "cell_type": "code",
   "metadata": {
    "id": "Z7JUnPeRHRqF",
    "ExecuteTime": {
     "end_time": "2025-02-25T19:06:53.068235Z",
     "start_time": "2025-02-25T19:06:53.057187Z"
    }
   },
   "source": [
    "# Analyse the above parameters\n",
    "columns_to_check = ['fare_amount', 'tip_amount', 'total_amount', 'trip_distance']\n",
    "\n",
    "for col in columns_to_check:\n",
    "    num_zeros = (df[col] == 0).sum()\n",
    "    num_negatives = (df[col] < 0).sum()\n",
    "    print(f\"\\nColumn '{col}':\")\n",
    "    print(f\"  - Number of zero values: {num_zeros}\")\n",
    "    print(f\"  - Number of negative values: {num_negatives}\")\n",
    "\n",
    "print('''\n",
    "The standardization process (using StandardScaler ) centers the data around a mean of 0 and\n",
    "scales it to have a standard deviation of 1. This inherently introduces negative values, as any\n",
    "values originally below the mean will become negative after standardization.\n",
    "\n",
    "Therefore, seeing negative values after standardization is expected.\n",
    "''')"
   ],
   "outputs": [
    {
     "name": "stdout",
     "output_type": "stream",
     "text": [
      "\n",
      "Column 'fare_amount':\n",
      "  - Number of zero values: 0\n",
      "  - Number of negative values: 881972\n",
      "\n",
      "Column 'tip_amount':\n",
      "  - Number of zero values: 335368\n",
      "  - Number of negative values: 0\n",
      "\n",
      "Column 'total_amount':\n",
      "  - Number of zero values: 0\n",
      "  - Number of negative values: 866205\n",
      "\n",
      "Column 'trip_distance':\n",
      "  - Number of zero values: 0\n",
      "  - Number of negative values: 924841\n",
      "\n",
      "The standardization process (using StandardScaler ) centers the data around a mean of 0 and\n",
      "scales it to have a standard deviation of 1. This inherently introduces negative values, as any\n",
      "values originally below the mean will become negative after standardization.\n",
      "\n",
      "Therefore, seeing negative values after standardization is expected.\n",
      "\n"
     ]
    }
   ],
   "execution_count": 295
  },
  {
   "cell_type": "markdown",
   "metadata": {
    "id": "dbOS_-GDJTyv"
   },
   "source": [
    "Do you think it is beneficial to create a copy DataFrame leaving out the zero values from these?"
   ]
  },
  {
   "cell_type": "markdown",
   "metadata": {
    "id": "YDN14J63o9gV"
   },
   "source": [
    "**3.1.3** <font color = red>[2 marks]</font> <br>\n",
    "Filter out the zero values from the above columns.\n",
    "\n",
    "**Note:** The distance might be 0 in cases where pickup and drop is in the same zone. Do you think it is suitable to drop such cases of zero distance?"
   ]
  },
  {
   "cell_type": "code",
   "metadata": {
    "id": "5mk7Yp41JqJd",
    "ExecuteTime": {
     "end_time": "2025-02-25T19:06:55.685894Z",
     "start_time": "2025-02-25T19:06:53.295122Z"
    }
   },
   "source": [
    "# Create a df with non zero entries for the selected parameters.\n",
    "# Filter out zero values from specified columns\n",
    "\n",
    "'''\n",
    " It makes sense that some trips might have zero distance  but non-zero fares or total amounts if the pickup and dropoff locations\n",
    " are within the same zone.\n",
    "\n",
    " In those cases, filtering out the rows with zero trip_distance could lead to loss of information, as those trips might still\n",
    " be valid and have valuable insights.\n",
    "\n",
    " code includes a condition to filter out zero values in trip_distance ONLY IF both fare_amount and total_amount are also zero.\n",
    " This ensures that trips with zero distance but non-zero fares are retained.\n",
    "'''\n",
    "columns_to_filter = ['fare_amount', 'tip_amount', 'total_amount', 'trip_distance']\n",
    "\n",
    "for col in columns_to_filter:\n",
    "    # Count zero values before filtering\n",
    "    num_zeros_before = (df[col] == 0).sum()\n",
    "\n",
    "    # Filter out zero values ONLY IF fare_amount and total_amount are also zero\n",
    "    if col == 'trip_distance':\n",
    "        df = df[~((df[col] == 0) & (df['fare_amount'] == 0) & (df['total_amount'] == 0))]\n",
    "    else:\n",
    "        df = df[df[col] > 0]\n",
    "\n",
    "    # Count zero values after filtering\n",
    "    num_zeros_after = (df[col] == 0).sum()\n",
    "\n",
    "    print(f\"\\nColumn '{col}':\")\n",
    "    print(f\"  - Number of zero values before filtering: {num_zeros_before}\")\n",
    "    print(f\"  - Number of zero values after filtering: {num_zeros_after}\")\n",
    "\n",
    "df.to_csv(\"Cleaned_Standard_Sampled_NYC_Taxi_Data.csv\", index=False)\n",
    "print(\"Cleaned data saved to 'Cleaned_Standard_Sampled_NYC_Taxi_Data.csv'\")\n"
   ],
   "outputs": [
    {
     "name": "stdout",
     "output_type": "stream",
     "text": [
      "\n",
      "Column 'fare_amount':\n",
      "  - Number of zero values before filtering: 0\n",
      "  - Number of zero values after filtering: 0\n",
      "\n",
      "Column 'tip_amount':\n",
      "  - Number of zero values before filtering: 135019\n",
      "  - Number of zero values after filtering: 0\n",
      "\n",
      "Column 'total_amount':\n",
      "  - Number of zero values before filtering: 0\n",
      "  - Number of zero values after filtering: 0\n",
      "\n",
      "Column 'trip_distance':\n",
      "  - Number of zero values before filtering: 0\n",
      "  - Number of zero values after filtering: 0\n",
      "Cleaned data saved to 'Cleaned_Standard_Sampled_NYC_Taxi_Data.csv.csv'\n"
     ]
    }
   ],
   "execution_count": 296
  },
  {
   "metadata": {
    "ExecuteTime": {
     "end_time": "2025-02-25T19:34:39.468443Z",
     "start_time": "2025-02-25T19:34:38.992737Z"
    }
   },
   "cell_type": "code",
   "source": [
    "try:\n",
    "    df = pd.read_csv(\"Cleaned_Standard_Sampled_NYC_Taxi_Data.csv\")\n",
    "    print(\"Data loaded successfully.\")\n",
    "except FileNotFoundError:\n",
    "    print(\"Error: 'Cleaned_Standard_Sampled_NYC_Taxi_Data.csv' not found. Please provide the correct file path.\")\n",
    "    exit()\n"
   ],
   "outputs": [
    {
     "name": "stdout",
     "output_type": "stream",
     "text": [
      "Data loaded successfully.\n"
     ]
    }
   ],
   "execution_count": 306
  },
  {
   "cell_type": "markdown",
   "metadata": {
    "id": "kJcgwyrtKivH"
   },
   "source": [
    "**3.1.4** <font color = red>[3 marks]</font> <br>\n",
    "Analyse the monthly revenue (`total_amount`) trend"
   ]
  },
  {
   "cell_type": "code",
   "metadata": {
    "id": "U_gl8rBD6ZH0",
    "ExecuteTime": {
     "end_time": "2025-02-25T19:34:43.377180Z",
     "start_time": "2025-02-25T19:34:43.273872Z"
    }
   },
   "source": [
    "# Group data by month and analyse monthly revenue\n",
    "\n",
    "# Convert pickup datetime to datetime object\n",
    "df['tpep_pickup_datetime'] = pd.to_datetime(df['tpep_pickup_datetime'])\n",
    "\n",
    "# Extract month from pickup datetime\n",
    "df['pickup_month'] = df['tpep_pickup_datetime'].dt.month\n",
    "\n",
    "# Group by month and calculate total revenue\n",
    "monthly_revenue = df.groupby('pickup_month')['total_amount'].sum()\n",
    "\n",
    "# Print the monthly revenue\n",
    "print(\"\\nMonthly Revenue:\")\n",
    "print(monthly_revenue)\n",
    "\n",
    "# (Optional) Plot the monthly revenue\n",
    "import matplotlib.pyplot as plt\n",
    "plt.figure(figsize=(10, 5))\n",
    "monthly_revenue.plot(kind='bar')\n",
    "plt.title('Monthly Revenue')\n",
    "plt.xlabel('Month')\n",
    "plt.ylabel('Total Revenue')\n",
    "plt.show()\n"
   ],
   "outputs": [
    {
     "name": "stdout",
     "output_type": "stream",
     "text": [
      "\n",
      "Monthly Revenue:\n",
      "pickup_month\n",
      "1     37904.172251\n",
      "2     37595.266599\n",
      "3     44993.288456\n",
      "4     43732.858820\n",
      "5     49650.150059\n",
      "6     46031.535554\n",
      "7     37671.098187\n",
      "8     36019.789856\n",
      "9     40547.092788\n",
      "10    51713.515704\n",
      "11    48675.950752\n",
      "12    47964.204578\n",
      "Name: total_amount, dtype: float64\n"
     ]
    },
    {
     "data": {
      "text/plain": [
       "<Figure size 1000x500 with 1 Axes>"
      ],
      "image/png": "[encoded data removed]"
     },
     "metadata": {},
     "output_type": "display_data"
    }
   ],
   "execution_count": 307
  },
  {
   "cell_type": "markdown",
   "metadata": {
    "id": "3vQHosTZLalB"
   },
   "source": [
    "**3.1.5** <font color = red>[3 marks]</font> <br>\n",
    "Show the proportion of each quarter of the year in the revenue"
   ]
  },
  {
   "cell_type": "code",
   "metadata": {
    "id": "foV9BpFbVTbu",
    "ExecuteTime": {
     "end_time": "2025-02-25T19:36:47.532546Z",
     "start_time": "2025-02-25T19:36:47.478251Z"
    }
   },
   "source": [
    "# Calculate proportion of each quarter\n",
    "\n",
    "# Convert pickup datetime to datetime object\n",
    "df['tpep_pickup_datetime'] = pd.to_datetime(df['tpep_pickup_datetime'])\n",
    "\n",
    "# Extract quarter from pickup datetime\n",
    "df['pickup_quarter'] = df['tpep_pickup_datetime'].dt.quarter\n",
    "\n",
    "# Group by quarter and calculate total revenue\n",
    "quarterly_revenue = df.groupby('pickup_quarter')['total_amount'].sum()\n",
    "\n",
    "# Calculate proportion of revenue for each quarter\n",
    "total_revenue = quarterly_revenue.sum()\n",
    "quarter_proportions = quarterly_revenue / total_revenue\n",
    "\n",
    "# Print the quarter proportions\n",
    "print(\"\\nProportion of Revenue for Each Quarter:\")\n",
    "print(quarter_proportions)\n",
    "\n",
    "# (Optional) Plot the quarter proportions\n",
    "import matplotlib.pyplot as plt\n",
    "plt.figure(figsize=(8, 5))\n",
    "quarter_proportions.plot(kind='pie', autopct='%1.1f%%')\n",
    "plt.title('Proportion of Revenue for Each Quarter')\n",
    "plt.ylabel('')  # Remove the default ylabel\n",
    "plt.show()\n"
   ],
   "outputs": [
    {
     "name": "stdout",
     "output_type": "stream",
     "text": [
      "\n",
      "Proportion of Revenue for Each Quarter:\n",
      "pickup_quarter\n",
      "1    0.230609\n",
      "2    0.266823\n",
      "3    0.218638\n",
      "4    0.283931\n",
      "Name: total_amount, dtype: float64\n"
     ]
    },
    {
     "data": {
      "text/plain": [
       "<Figure size 800x500 with 1 Axes>"
      ],
      "image/png": "[encoded data removed]"
     },
     "metadata": {},
     "output_type": "display_data"
    }
   ],
   "execution_count": 308
  },
  {
   "cell_type": "markdown",
   "metadata": {
    "id": "JncXEPjBLyHp"
   },
   "source": [
    "**3.1.6** <font color = red>[3 marks]</font> <br>\n",
    "Visualise the relationship between `trip_distance` and `fare_amount`. Also find the correlation value for these two.\n",
    "\n",
    "**Hint:** You can leave out the trips with trip_distance = 0"
   ]
  },
  {
   "cell_type": "code",
   "metadata": {
    "id": "-z8Fegh_P5At",
    "ExecuteTime": {
     "end_time": "2025-02-25T19:44:01.269930Z",
     "start_time": "2025-02-25T19:44:01.105369Z"
    }
   },
   "source": [
    "# Show how trip fare is affected by distance\n",
    "\n",
    "df['tpep_pickup_datetime'] = pd.to_datetime(df['tpep_pickup_datetime']).astype(int) / 10**9\n",
    "df['tpep_dropoff_datetime'] = pd.to_datetime(df['tpep_dropoff_datetime']).astype(int) / 10**9\n",
    "\n",
    "# 7. Create a heatmap to visualize the relationship between trip_distance and fare_amount\n",
    "\n",
    "# Calculate the correlation matrix\n",
    "corr_matrix = df[['trip_distance', 'fare_amount']].corr()\n",
    "\n",
    "# Create the heatmap\n",
    "plt.figure(figsize=(6, 4))\n",
    "sns.heatmap(corr_matrix, annot=True, cmap='coolwarm', vmin=-1, vmax=1)\n",
    "plt.title('Correlation Heatmap: Trip Distance vs. Fare Amount')\n",
    "plt.show()\n",
    "\n",
    "# Correlation value (already calculated in the heatmap, but printing it again for clarity)\n",
    "correlation = df['trip_distance'].corr(df['fare_amount'])\n",
    "print(f\"\\nCorrelation between trip_distance and fare_amount: {correlation:.2f}\")"
   ],
   "outputs": [
    {
     "data": {
      "text/plain": [
       "<Figure size 600x400 with 2 Axes>"
      ],
      "image/png": "[encoded data removed]"
     },
     "metadata": {},
     "output_type": "display_data"
    },
    {
     "name": "stdout",
     "output_type": "stream",
     "text": [
      "\n",
      "Correlation between trip_distance and fare_amount: 0.70\n"
     ]
    }
   ],
   "execution_count": 313
  },
  {
   "cell_type": "markdown",
   "metadata": {
    "id": "-OGNFTX4QdeS"
   },
   "source": [
    "**3.1.7** <font color = red>[5 marks]</font> <br>\n",
    "Find and visualise the correlation between:\n",
    "1. `fare_amount` and trip duration (pickup time to dropoff time)\n",
    "2. `fare_amount` and `passenger_count`\n",
    "3. `tip_amount` and `trip_distance`"
   ]
  },
  {
   "cell_type": "code",
   "metadata": {
    "id": "EtSNqFw19TB3",
    "ExecuteTime": {
     "end_time": "2025-02-25T19:49:50.729282Z",
     "start_time": "2025-02-25T19:49:50.667583Z"
    }
   },
   "source": [
    "# Show relationship between fare and trip duration\n",
    "\n",
    "# Calculate trip duration\n",
    "df['trip_duration'] = df['tpep_dropoff_datetime'] - df['tpep_pickup_datetime']\n",
    "\n",
    "# Visualize relationship between fare_amount and trip_duration using heatmap and correlation\n",
    "\n",
    "# Calculate the correlation matrix\n",
    "corr_matrix = df[['fare_amount', 'trip_duration']].corr()\n",
    "\n",
    "# Create the heatmap\n",
    "plt.figure(figsize=(6, 4))\n",
    "sns.heatmap(corr_matrix, annot=True, cmap='coolwarm', vmin=-1, vmax=1)\n",
    "plt.title('Correlation Heatmap: Fare Amount vs. Trip Duration')\n",
    "plt.show()\n",
    "\n",
    "# Correlation value (already calculated in the heatmap, but printing it again for clarity)\n",
    "correlation = df['fare_amount'].corr(df['trip_duration'])\n",
    "print(f\"\\nCorrelation between fare_amount and trip_duration: {correlation:.2f}\")"
   ],
   "outputs": [
    {
     "data": {
      "text/plain": [
       "<Figure size 600x400 with 2 Axes>"
      ],
      "image/png": "[encoded data removed]"
     },
     "metadata": {},
     "output_type": "display_data"
    },
    {
     "name": "stdout",
     "output_type": "stream",
     "text": [
      "\n",
      "Correlation between fare_amount and trip_duration: 0.12\n"
     ]
    }
   ],
   "execution_count": 317
  },
  {
   "cell_type": "code",
   "metadata": {
    "id": "oTrlXiBm9TB3",
    "ExecuteTime": {
     "end_time": "2025-02-25T19:54:29.200301Z",
     "start_time": "2025-02-25T19:54:29.127036Z"
    }
   },
   "source": [
    "# Show relationship between fare and number of passengers\n",
    "# Calculate the correlation matrix\n",
    "corr_matrix = df[['fare_amount', 'passenger_count']].corr()\n",
    "\n",
    "# Create the heatmap\n",
    "plt.figure(figsize=(6, 4))\n",
    "sns.heatmap(corr_matrix, annot=True, cmap='coolwarm', vmin=-1, vmax=1)\n",
    "plt.title('Correlation Heatmap: Fare Amount vs. Passenger Count')\n",
    "plt.show()\n",
    "\n",
    "# Correlation value (already calculated in the heatmap, but printing it again for clarity)\n",
    "correlation = df['fare_amount'].corr(df['passenger_count'])\n",
    "print(f\"\\nCorrelation between fare_amount and passenger_count: {correlation:.2f}\")\n"
   ],
   "outputs": [
    {
     "data": {
      "text/plain": [
       "<Figure size 600x400 with 2 Axes>"
      ],
      "image/png": "[encoded data removed]"
     },
     "metadata": {},
     "output_type": "display_data"
    },
    {
     "name": "stdout",
     "output_type": "stream",
     "text": [
      "\n",
      "Correlation between fare_amount and passenger_count: 0.01\n"
     ]
    }
   ],
   "execution_count": 318
  },
  {
   "cell_type": "code",
   "metadata": {
    "id": "Lph7rakc9TB3",
    "ExecuteTime": {
     "end_time": "2025-02-25T19:56:14.232094Z",
     "start_time": "2025-02-25T19:56:14.165856Z"
    }
   },
   "source": [
    "# Show relationship between tip and trip distance\n",
    "\n",
    "# Calculate the correlation matrix\n",
    "corr_matrix = df[['tip_amount', 'trip_distance']].corr()\n",
    "\n",
    "# Create the heatmap\n",
    "plt.figure(figsize=(6, 4))\n",
    "sns.heatmap(corr_matrix, annot=True, cmap='coolwarm', vmin=-1, vmax=1)\n",
    "plt.title('Correlation Heatmap: Tip Amount vs. Trip Distance')\n",
    "plt.show()\n",
    "\n",
    "# Correlation value (already calculated in the heatmap, but printing it again for clarity)\n",
    "correlation = df['tip_amount'].corr(df['trip_distance'])\n",
    "print(f\"\\nCorrelation between tip_amount and trip_distance: {correlation:.2f}\")"
   ],
   "outputs": [
    {
     "data": {
      "text/plain": [
       "<Figure size 600x400 with 2 Axes>"
      ],
      "image/png": "[encoded data removed]"
     },
     "metadata": {},
     "output_type": "display_data"
    },
    {
     "name": "stdout",
     "output_type": "stream",
     "text": [
      "\n",
      "Correlation between tip_amount and trip_distance: 0.23\n"
     ]
    }
   ],
   "execution_count": 319
  },
  {
   "metadata": {
    "ExecuteTime": {
     "end_time": "2025-02-25T19:59:02.505178Z",
     "start_time": "2025-02-25T19:59:02.412461Z"
    }
   },
   "cell_type": "code",
   "source": [
    "columns_for_correlation = ['fare_amount', 'tip_amount', 'trip_distance', 'passenger_count', 'trip_duration']\n",
    "\n",
    "# Calculate the correlation matrix\n",
    "corr_matrix = df[columns_for_correlation].corr()\n",
    "\n",
    "# Create the heatmap\n",
    "plt.figure(figsize=(10, 8))\n",
    "sns.heatmap(corr_matrix, annot=True, cmap='coolwarm', vmin=-1, vmax=1)\n",
    "plt.title('Correlation Heatmap')\n",
    "plt.show()"
   ],
   "outputs": [
    {
     "data": {
      "text/plain": [
       "<Figure size 1000x800 with 2 Axes>"
      ],
      "image/png": "[encoded data removed]"
     },
     "metadata": {},
     "output_type": "display_data"
    }
   ],
   "execution_count": 320
  },
  {
   "cell_type": "markdown",
   "metadata": {
    "id": "3EL5CU47QJ5u"
   },
   "source": [
    "**3.1.8** <font color = red>[3 marks]</font> <br>\n",
    "Analyse the distribution of different payment types (`payment_type`)"
   ]
  },
  {
   "cell_type": "code",
   "metadata": {
    "id": "pknOiYLp9Wnd",
    "ExecuteTime": {
     "end_time": "2025-02-25T20:04:06.529783Z",
     "start_time": "2025-02-25T20:04:06.386447Z"
    }
   },
   "source": [
    "# Analyse the distribution of different payment types (payment_type).\n",
    "\n",
    "# Count the occurrences of each payment type\n",
    "payment_type_counts = df['payment_type'].value_counts()\n",
    "\n",
    "# Define the labels for the payment types\n",
    "payment_type_labels = {\n",
    "    1: 'Credit Card',\n",
    "    2: 'Cash',\n",
    "    3: 'No Charge',\n",
    "    4: 'Dispute'\n",
    "}\n",
    "\n",
    "# Create a bar chart of the payment type distribution with log scale\n",
    "plt.figure(figsize=(8, 6))\n",
    "plt.bar(payment_type_labels.values(), payment_type_counts.values)\n",
    "plt.title('Distribution of Payment Types (Log Scale)')\n",
    "plt.xlabel('Payment Type')\n",
    "plt.ylabel('Number of Trips (Log Scale)')\n",
    "plt.yscale('log')  # Set y-axis to log scale\n",
    "plt.show()\n",
    "\n",
    "# Print the payment type counts and proportions\n",
    "total_trips = payment_type_counts.sum()\n",
    "print(\"\\nPayment Type Counts:\")\n",
    "print(payment_type_counts)\n",
    "print(\"\\nPayment Type Proportions:\")\n",
    "for payment_type, count in payment_type_counts.items():\n",
    "    proportion = count / total_trips\n",
    "    print(f\"{payment_type_labels.get(payment_type, 'Unknown')}: {proportion:.2%}\")"
   ],
   "outputs": [
    {
     "data": {
      "text/plain": [
       "<Figure size 800x600 with 1 Axes>"
      ],
      "image/png": "[encoded data removed]"
     },
     "metadata": {},
     "output_type": "display_data"
    },
    {
     "name": "stdout",
     "output_type": "stream",
     "text": [
      "\n",
      "Payment Type Counts:\n",
      "payment_type\n",
      "1    486402\n",
      "2         8\n",
      "4         6\n",
      "3         1\n",
      "Name: count, dtype: int64\n",
      "\n",
      "Payment Type Proportions:\n",
      "Credit Card: 100.00%\n",
      "Cash: 0.00%\n",
      "Dispute: 0.00%\n",
      "No Charge: 0.00%\n"
     ]
    }
   ],
   "execution_count": 323
  },
  {
   "cell_type": "markdown",
   "metadata": {
    "id": "PxxbUmSZ9Wne"
   },
   "source": [
    "- 1= Credit card\n",
    "- 2= Cash\n",
    "- 3= No charge\n",
    "- 4= Dispute\n",
    "\n"
   ]
  },
  {
   "cell_type": "markdown",
   "metadata": {
    "id": "CVXxcSYHj9sh"
   },
   "source": [
    "##### Geographical Analysis"
   ]
  },
  {
   "cell_type": "markdown",
   "metadata": {
    "id": "tvBXuYW7kEyS"
   },
   "source": [
    "For this, you have to use the *taxi_zones.shp* file from the *taxi_zones* folder.\n",
    "\n",
    "There would be multiple files inside the folder (such as *.shx, .sbx, .sbn* etc). You do not need to import/read any of the files other than the shapefile, *taxi_zones.shp*.\n",
    "\n",
    "Do not change any folder structure - all the files need to be present inside the folder for it to work.\n",
    "\n",
    "The folder structure should look like this:\n",
    "```\n",
    "Taxi Zones\n",
    "|- taxi_zones.shp.xml\n",
    "|- taxi_zones.prj\n",
    "|- taxi_zones.sbn\n",
    "|- taxi_zones.shp\n",
    "|- taxi_zones.dbf\n",
    "|- taxi_zones.shx\n",
    "|- taxi_zones.sbx\n",
    "\n",
    " ```\n",
    "\n",
    " You only need to read the `taxi_zones.shp` file. The *shp* file will utilise the other files by itself."
   ]
  },
  {
   "cell_type": "markdown",
   "metadata": {
    "id": "hR8f8ypXUtxJ"
   },
   "source": [
    "We will use the *GeoPandas* library for geopgraphical analysis\n",
    "```\n",
    "import geopandas as gpd\n",
    "```\n",
    "\n",
    "More about geopandas and shapefiles: [About](https://geopandas.org/en/stable/about.html)\n",
    "\n",
    "\n",
    "Reading the shapefile is very similar to *Pandas*. Use `gpd.read_file()` function to load the data (*taxi_zones.shp*) as a GeoDataFrame. Documentation: [Reading and Writing Files](https://geopandas.org/en/stable/docs/user_guide/io.html)"
   ]
  },
  {
   "cell_type": "code",
   "metadata": {
    "id": "FJ76QD9IXNz8",
    "ExecuteTime": {
     "end_time": "2025-02-25T19:06:55.951850Z",
     "start_time": "2025-02-25T19:06:55.950595Z"
    }
   },
   "source": [
    "# !pip install geopandas"
   ],
   "outputs": [],
   "execution_count": 304
  },
  {
   "cell_type": "markdown",
   "metadata": {
    "id": "q_QpZLl_WU-b"
   },
   "source": [
    "**3.1.9** <font color = red>[2 marks]</font> <br>\n",
    "Load the shapefile and display it."
   ]
  },
  {
   "cell_type": "code",
   "metadata": {
    "id": "hLyVd3TQkCdG",
    "ExecuteTime": {
     "end_time": "2025-02-25T19:06:55.971838Z",
     "start_time": "2025-02-25T19:06:55.970221Z"
    }
   },
   "source": [
    "# import geopandas as gpd\n",
    "\n",
    "\n",
    "# Read the shapefile using geopandas\n",
    "zones = # read the .shp file using gpd\n",
    "zones.head()"
   ],
   "outputs": [
    {
     "ename": "SyntaxError",
     "evalue": "invalid syntax (4208933328.py, line 5)",
     "output_type": "error",
     "traceback": [
      "\u001B[0;36m  Cell \u001B[0;32mIn[305], line 5\u001B[0;36m\u001B[0m\n\u001B[0;31m    zones = # read the .shp file using gpd\u001B[0m\n\u001B[0m            ^\u001B[0m\n\u001B[0;31mSyntaxError\u001B[0m\u001B[0;31m:\u001B[0m invalid syntax\n"
     ]
    }
   ],
   "execution_count": 305
  },
  {
   "cell_type": "markdown",
   "metadata": {
    "id": "8YXJMzRoWxeg"
   },
   "source": [
    "Now, if you look at the DataFrame created, you will see columns like: `OBJECTID`,`Shape_Leng`, `Shape_Area`, `zone`, `LocationID`, `borough`, `geometry`.\n",
    "<br><br>\n",
    "\n",
    "Now, the `locationID` here is also what we are using to mark pickup and drop zones in the trip records.\n",
    "\n",
    "The geometric parameters like shape length, shape area and geometry are used to plot the zones on a map.\n",
    "\n",
    "This can be easily done using the `plot()` method."
   ]
  },
  {
   "cell_type": "code",
   "execution_count": null,
   "metadata": {
    "id": "lTqdZChLYE6H"
   },
   "outputs": [],
   "source": [
    "# print(zones.info())\n",
    "# zones.plot()"
   ]
  },
  {
   "cell_type": "markdown",
   "metadata": {
    "id": "fBkWokLIY_BH"
   },
   "source": [
    "Now, you have to merge the trip records and zones data using the location IDs.\n",
    "\n"
   ]
  },
  {
   "cell_type": "markdown",
   "metadata": {
    "id": "YzUMLUjqaJLN"
   },
   "source": [
    "**3.1.10** <font color = red>[3 marks]</font> <br>\n",
    "Merge the zones data into trip data using the `locationID` and `PULocationID` columns."
   ]
  },
  {
   "cell_type": "code",
   "execution_count": null,
   "metadata": {
    "id": "A2L8hWMQaYkX"
   },
   "outputs": [],
   "source": [
    "# Merge zones and trip records using locationID and PULocationID\n",
    "\n"
   ]
  },
  {
   "cell_type": "markdown",
   "metadata": {
    "id": "9CYc36Weai5-"
   },
   "source": [
    "**3.1.11** <font color = red>[3 marks]</font> <br>\n",
    "Group data by location IDs to find the total number of trips per location ID"
   ]
  },
  {
   "cell_type": "code",
   "execution_count": null,
   "metadata": {
    "id": "XpTIaPSSbwZZ"
   },
   "outputs": [],
   "source": [
    "# Group data by location and calculate the number of trips\n",
    "\n"
   ]
  },
  {
   "cell_type": "markdown",
   "metadata": {
    "id": "As0dVJpdcK2_"
   },
   "source": [
    "**3.1.12** <font color = red>[2 marks]</font> <br>\n",
    "Now, use the grouped data to add number of trips to the GeoDataFrame.\n",
    "\n",
    "We will use this to plot a map of zones showing total trips per zone."
   ]
  },
  {
   "cell_type": "code",
   "execution_count": null,
   "metadata": {
    "id": "H9Sheg7vdZ6q"
   },
   "outputs": [],
   "source": [
    "# Merge trip counts back to the zones GeoDataFrame\n",
    "\n",
    "\n"
   ]
  },
  {
   "cell_type": "markdown",
   "metadata": {
    "id": "DsfomL6Od0_R"
   },
   "source": [
    "The next step is creating a color map (choropleth map) showing zones by the number of trips taken.\n",
    "\n",
    "Again, you can use the `zones.plot()` method for this. [Plot Method GPD](https://geopandas.org/en/stable/docs/reference/api/geopandas.GeoDataFrame.plot.html#geopandas.GeoDataFrame.plot)\n",
    "\n",
    "But first, you need to define the figure and axis for the plot.\n",
    "\n",
    "`fig, ax = plt.subplots(1, 1, figsize = (12, 10))`\n",
    "\n",
    "This function creates a figure (fig) and a single subplot (ax)\n",
    "\n",
    "---"
   ]
  },
  {
   "cell_type": "markdown",
   "metadata": {
    "id": "QgDcw8gUejVk"
   },
   "source": [
    "After setting up the figure and axis, we can proceed to plot the GeoDataFrame on this axis. This is done in the next step where we use the plot method of the GeoDataFrame.\n",
    "\n",
    "You can define the following parameters in the `zones.plot()` method:\n",
    "```\n",
    "column = '',\n",
    "ax = ax,\n",
    "legend = True,\n",
    "legend_kwds = {'label': \"label\", 'orientation': \"<horizontal/vertical>\"}\n",
    "```\n",
    "\n",
    "To display the plot, use `plt.show()`."
   ]
  },
  {
   "cell_type": "markdown",
   "metadata": {
    "id": "xFQmkJipfU1P"
   },
   "source": [
    "**3.1.13** <font color = red>[3 marks]</font> <br>\n",
    "Plot a color-coded map showing zone-wise trips"
   ]
  },
  {
   "cell_type": "code",
   "execution_count": null,
   "metadata": {
    "id": "i506kVTgefM5"
   },
   "outputs": [],
   "source": [
    "# Define figure and axis\n",
    "\n",
    "\n",
    "# Plot the map and display it\n",
    "\n"
   ]
  },
  {
   "cell_type": "code",
   "execution_count": null,
   "metadata": {
    "id": "gwDs7OaBSopP"
   },
   "outputs": [],
   "source": [
    "# can you try displaying the zones DF sorted by the number of trips?\n",
    "\n"
   ]
  },
  {
   "cell_type": "markdown",
   "metadata": {
    "id": "T1bE7-QbgSrZ"
   },
   "source": [
    "Here we have completed the temporal, financial and geographical analysis on the trip records.\n",
    "\n",
    "**Compile your findings from general analysis below:**"
   ]
  },
  {
   "cell_type": "markdown",
   "metadata": {
    "id": "7YiVFIX3gcL3"
   },
   "source": [
    "You can consider the following points:\n",
    "\n",
    "* Busiest hours, days and months\n",
    "* Trends in revenue collected\n",
    "* Trends in quarterly revenue\n",
    "* How fare depends on trip distance, trip duration and passenger counts\n",
    "* How tip amount depends on trip distance\n",
    "* Busiest zones\n"
   ]
  },
  {
   "cell_type": "markdown",
   "metadata": {
    "id": "Rv0oYLcbhOTU"
   },
   "source": [
    "#### **3.2** Detailed EDA: Insights and Strategies\n",
    "<font color = red>[50 marks]</font> <br>"
   ]
  },
  {
   "cell_type": "markdown",
   "metadata": {
    "id": "xWJk-CGihnU1"
   },
   "source": [
    "Having performed basic analyses for finding trends and patterns, we will now move on to some detailed analysis focussed on operational efficiency, pricing strategies, and customer experience."
   ]
  },
  {
   "cell_type": "markdown",
   "metadata": {
    "id": "XBY2Y4Jrz9IQ"
   },
   "source": [
    "##### Operational Efficiency"
   ]
  },
  {
   "cell_type": "markdown",
   "metadata": {
    "id": "BXU8Q3sGjGnE"
   },
   "source": [
    "Analyze variations by time of day and location to identify bottlenecks or inefficiencies in routes"
   ]
  },
  {
   "cell_type": "markdown",
   "metadata": {
    "id": "H97VPqVdq7Lz"
   },
   "source": [
    "**3.2.1** <font color = red>[3 marks]</font> <br>\n",
    "Identify slow routes by calculating the average time taken by cabs to get from one zone to another at different hours of the day."
   ]
  },
  {
   "cell_type": "markdown",
   "metadata": {
    "id": "NzTRZyw2q9IR"
   },
   "source": [
    "Speed on a route *X* for hour *Y* = (*distance of the route X / average trip duration for hour Y*)"
   ]
  },
  {
   "cell_type": "code",
   "execution_count": null,
   "metadata": {
    "id": "Ovf-1vIyhk7E"
   },
   "outputs": [],
   "source": [
    "# Find routes which have the slowest speeds at different times of the day\n",
    "\n"
   ]
  },
  {
   "cell_type": "markdown",
   "metadata": {
    "id": "NmRPbH3rm2Ub"
   },
   "source": [
    "How does identifying high-traffic, high-demand routes help us?"
   ]
  },
  {
   "cell_type": "markdown",
   "metadata": {
    "id": "7-w-OCB_nLmb"
   },
   "source": [
    "**3.2.2** <font color = red>[3 marks]</font> <br>\n",
    "Calculate the number of trips at each hour of the day and visualise them. Find the busiest hour and show the number of trips for that hour."
   ]
  },
  {
   "cell_type": "code",
   "execution_count": null,
   "metadata": {
    "id": "BEbRCT31nLUw"
   },
   "outputs": [],
   "source": [
    "# Visualise the number of trips per hour and find the busiest hour\n",
    "\n"
   ]
  },
  {
   "cell_type": "markdown",
   "metadata": {
    "id": "8FuSAA0zn3F4"
   },
   "source": [
    "Remember, we took a fraction of trips. To find the actual number, you have to scale the number up by the sampling ratio."
   ]
  },
  {
   "cell_type": "markdown",
   "metadata": {
    "id": "bapn075QrKaz"
   },
   "source": [
    "**3.2.3** <font color = red>[2 mark]</font> <br>\n",
    "Find the actual number of trips in the five busiest hours"
   ]
  },
  {
   "cell_type": "code",
   "execution_count": null,
   "metadata": {
    "id": "79Hy-YWOoapQ"
   },
   "outputs": [],
   "source": [
    "# Scale up the number of trips\n",
    "\n",
    "# Fill in the value of your sampling fraction and use that to scale up the numbers\n",
    "sample_fraction =\n",
    "\n"
   ]
  },
  {
   "cell_type": "markdown",
   "metadata": {
    "id": "74fhoLxEoaTP"
   },
   "source": [
    "**3.2.4** <font color = red>[3 marks]</font> <br>\n",
    "Compare hourly traffic pattern on weekdays. Also compare for weekend."
   ]
  },
  {
   "cell_type": "code",
   "execution_count": null,
   "metadata": {
    "id": "sYMmCQHwpFRY"
   },
   "outputs": [],
   "source": [
    "# Compare traffic trends for the week days and weekends\n",
    "\n"
   ]
  },
  {
   "cell_type": "markdown",
   "metadata": {
    "id": "tWeuAulNpSOL"
   },
   "source": [
    "What can you infer from the above patterns? How will finding busy and quiet hours for each day help us?"
   ]
  },
  {
   "cell_type": "markdown",
   "metadata": {
    "id": "-S90VG94rGUm"
   },
   "source": [
    "**3.2.5** <font color = red>[3 marks]</font> <br>\n",
    "Identify top 10 zones with high hourly pickups. Do the same for hourly dropoffs. Show pickup and dropoff trends in these zones."
   ]
  },
  {
   "cell_type": "code",
   "execution_count": null,
   "metadata": {
    "id": "-nJGifJFrslP"
   },
   "outputs": [],
   "source": [
    "# Find top 10 pickup and dropoff zones\n",
    "\n"
   ]
  },
  {
   "cell_type": "markdown",
   "metadata": {
    "id": "okkQ17VssMqP"
   },
   "source": [
    "**3.2.6** <font color = red>[3 marks]</font> <br>\n",
    "Find the ratio of pickups and dropoffs in each zone. Display the 10 highest (pickup/drop) and 10 lowest (pickup/drop) ratios."
   ]
  },
  {
   "cell_type": "code",
   "execution_count": null,
   "metadata": {
    "id": "Qbuc8y-KgeDR"
   },
   "outputs": [],
   "source": [
    "# Find the top 10 and bottom 10 pickup/dropoff ratios\n",
    "\n"
   ]
  },
  {
   "cell_type": "markdown",
   "metadata": {
    "id": "2j1ukv-rrxny"
   },
   "source": [
    "**3.2.7** <font color = red>[3 marks]</font> <br>\n",
    "Identify zones with high pickup and dropoff traffic during night hours (11PM to 5AM)"
   ]
  },
  {
   "cell_type": "code",
   "execution_count": null,
   "metadata": {
    "id": "ve65f0GltyE_"
   },
   "outputs": [],
   "source": [
    "# During night hours (11pm to 5am) find the top 10 pickup and dropoff zones\n",
    "# Note that the top zones should be of night hours and not the overall top zones\n",
    "\n"
   ]
  },
  {
   "cell_type": "markdown",
   "metadata": {
    "id": "OtPTHyhTNnNL"
   },
   "source": [
    "Now, let us find the revenue share for the night time hours and the day time hours. After this, we will move to deciding a pricing strategy.\n",
    "\n",
    "**3.2.8** <font color = red>[2 marks]</font> <br>\n",
    "Find the revenue share for nighttime and daytime hours."
   ]
  },
  {
   "cell_type": "code",
   "execution_count": null,
   "metadata": {
    "id": "0ohk4curNl3g"
   },
   "outputs": [],
   "source": [
    "# Filter for night hours (11 PM to 5 AM)\n",
    "\n"
   ]
  },
  {
   "cell_type": "markdown",
   "metadata": {
    "id": "nG77smP4tyWu"
   },
   "source": [
    "##### Pricing Strategy"
   ]
  },
  {
   "cell_type": "markdown",
   "metadata": {
    "id": "ciF6eThit5IH"
   },
   "source": [
    "**3.2.9** <font color = red>[2 marks]</font> <br>\n",
    "For the different passenger counts, find the average fare per mile per passenger.\n",
    "\n",
    "For instance, suppose the average fare per mile for trips with 3 passengers is 3 USD/mile, then the fare per mile per passenger will be 1 USD/mile."
   ]
  },
  {
   "cell_type": "code",
   "execution_count": null,
   "metadata": {
    "id": "AO7MIuXd9C16"
   },
   "outputs": [],
   "source": [
    "# Analyse the fare per mile per passenger for different passenger counts\n",
    "\n",
    "\n"
   ]
  },
  {
   "cell_type": "markdown",
   "metadata": {
    "id": "WZrN-cxR9DIb"
   },
   "source": [
    "**3.2.10** <font color = red>[3 marks]</font> <br>\n",
    "Find the average fare per mile by hours of the day and by days of the week"
   ]
  },
  {
   "cell_type": "code",
   "execution_count": null,
   "metadata": {
    "id": "hUzCJm2y9SOq"
   },
   "outputs": [],
   "source": [
    "# Compare the average fare per mile for different days and for different times of the day\n",
    "\n"
   ]
  },
  {
   "cell_type": "markdown",
   "metadata": {
    "id": "211WFkhHDUMG"
   },
   "source": [
    "**3.2.11** <font color = red>[3 marks]</font> <br>\n",
    "Analyse the average fare per mile for the different vendors for different hours of the day"
   ]
  },
  {
   "cell_type": "code",
   "execution_count": null,
   "metadata": {
    "id": "my3cGHL1DU04"
   },
   "outputs": [],
   "source": [
    "# Compare fare per mile for different vendors\n",
    "\n"
   ]
  },
  {
   "cell_type": "markdown",
   "metadata": {
    "id": "FH9YJdodtDk4"
   },
   "source": [
    "**3.2.12** <font color = red>[5 marks]</font> <br>\n",
    "Compare the fare rates of the different vendors in a tiered fashion. Analyse the average fare per mile for distances upto 2 miles. Analyse the fare per mile for distances from 2 to 5 miles. And then for distances more than 5 miles.\n"
   ]
  },
  {
   "cell_type": "code",
   "execution_count": null,
   "metadata": {
    "id": "TFRPgO7mgEeT"
   },
   "outputs": [],
   "source": [
    "# Defining distance tiers\n",
    "\n"
   ]
  },
  {
   "cell_type": "markdown",
   "metadata": {
    "id": "M2o6xY0Yh6Gv"
   },
   "source": [
    "##### Customer Experience and Other Factors"
   ]
  },
  {
   "cell_type": "markdown",
   "metadata": {
    "id": "VSneN-rCh6Gw"
   },
   "source": [
    "**3.2.13** <font color = red>[5 marks]</font> <br>\n",
    "Analyse average tip percentages based on trip distances, passenger counts and time of pickup. What factors lead to low tip percentages?"
   ]
  },
  {
   "cell_type": "code",
   "execution_count": null,
   "metadata": {
    "id": "LO5WazK8h6Gx"
   },
   "outputs": [],
   "source": [
    "#  Analyze tip percentages based on distances, passenger counts and pickup times\n",
    "\n"
   ]
  },
  {
   "cell_type": "markdown",
   "metadata": {
    "id": "wQAIQsrcLm6X"
   },
   "source": [
    "Additional analysis [optional]: Let's try comparing cases of low tips with cases of high tips to find out if we find a clear aspect that drives up the tipping behaviours"
   ]
  },
  {
   "cell_type": "code",
   "execution_count": null,
   "metadata": {
    "collapsed": true,
    "id": "QYoUed6Dn6YW"
   },
   "outputs": [],
   "source": [
    "# Compare trips with tip percentage < 10% to trips with tip percentage > 25%\n",
    "\n"
   ]
  },
  {
   "cell_type": "markdown",
   "metadata": {
    "id": "0UjvGTRKh6Gx"
   },
   "source": [
    "**3.2.14** <font color = red>[3 marks]</font> <br>\n",
    "Analyse the variation of passenger count across hours and days of the week."
   ]
  },
  {
   "cell_type": "code",
   "execution_count": null,
   "metadata": {
    "id": "rFP0DNRvh6Gx"
   },
   "outputs": [],
   "source": [
    "# See how passenger count varies across hours and days\n",
    "\n",
    "\n"
   ]
  },
  {
   "cell_type": "markdown",
   "metadata": {
    "id": "zWKLLlb7h6Gy"
   },
   "source": [
    "**3.2.15** <font color = red>[2 marks]</font> <br>\n",
    "Analyse the variation of passenger counts across zones"
   ]
  },
  {
   "cell_type": "code",
   "execution_count": null,
   "metadata": {
    "id": "30h27Uz2h6Gy"
   },
   "outputs": [],
   "source": [
    "# How does passenger count vary across zones\n",
    "\n"
   ]
  },
  {
   "cell_type": "code",
   "execution_count": null,
   "metadata": {
    "id": "C3I0AfOkvBWA"
   },
   "outputs": [],
   "source": [
    "# For a more detailed analysis, we can use the zones_with_trips GeoDataFrame\n",
    "# Create a new column for the average passenger count in each zone.\n",
    "\n"
   ]
  },
  {
   "cell_type": "markdown",
   "metadata": {
    "id": "rw0j5Z-1h6Gz"
   },
   "source": [
    "Find out how often surcharges/extra charges are applied to understand their prevalance"
   ]
  },
  {
   "cell_type": "markdown",
   "metadata": {
    "id": "x9IHjHFBx6Ye"
   },
   "source": [
    "**3.2.16** <font color = red>[5 marks]</font> <br>\n",
    "Analyse the pickup/dropoff zones or times when extra charges are applied more frequently"
   ]
  },
  {
   "cell_type": "code",
   "execution_count": null,
   "metadata": {
    "id": "nKbXwZJwh6Gz"
   },
   "outputs": [],
   "source": [
    "# How often is each surcharge applied?\n",
    "\n"
   ]
  },
  {
   "cell_type": "markdown",
   "metadata": {
    "id": "bkyc9q40Cts-"
   },
   "source": [
    "## **4** Conclusion\n",
    "<font color = red>[15 marks]</font> <br>"
   ]
  },
  {
   "cell_type": "markdown",
   "metadata": {
    "id": "Z5yCODI-C6yR"
   },
   "source": [
    "### **4.1** Final Insights and Recommendations\n",
    "<font color = red>[15 marks]</font> <br>\n",
    "\n",
    "Conclude your analyses here. Include all the outcomes you found based on the analysis.\n",
    "\n",
    "Based on the insights, frame a concluding story explaining suitable parameters such as location, time of the day, day of the week etc. to be kept in mind while devising a strategy to meet customer demand and optimise supply."
   ]
  },
  {
   "cell_type": "markdown",
   "metadata": {
    "id": "0dy8J-C8jJjk"
   },
   "source": [
    "**4.1.1** <font color = red>[5 marks]</font> <br>\n",
    "Recommendations to optimize routing and dispatching based on demand patterns and operational inefficiencies"
   ]
  },
  {
   "cell_type": "code",
   "execution_count": null,
   "metadata": {
    "id": "J03px17x_rD9"
   },
   "outputs": [],
   "source": []
  },
  {
   "cell_type": "markdown",
   "metadata": {
    "id": "AaLgTWxpjt7h"
   },
   "source": [
    "**4.1.2** <font color = red>[5 marks]</font> <br>\n",
    "\n",
    "Suggestions on strategically positioning cabs across different zones to make best use of insights uncovered by analysing trip trends across time, days and months."
   ]
  },
  {
   "cell_type": "code",
   "execution_count": null,
   "metadata": {
    "id": "c8ZbTIF7_rsN"
   },
   "outputs": [],
   "source": []
  },
  {
   "cell_type": "markdown",
   "metadata": {
    "id": "mUU4mn50jMZy"
   },
   "source": [
    "**4.1.3** <font color = red>[5 marks]</font> <br>\n",
    "Propose data-driven adjustments to the pricing strategy to maximize revenue while maintaining competitive rates with other vendors."
   ]
  },
  {
   "cell_type": "code",
   "execution_count": null,
   "metadata": {
    "id": "SXErHFjx_sGN"
   },
   "outputs": [],
   "source": []
  }
 ],
 "metadata": {
  "colab": {
   "collapsed_sections": [
    "-OVfUMlHFkZD",
    "0eaCZjHIvfuI",
    "Kw-WRzBfyS7j",
    "nM2X-s6lycvQ",
    "NgHgbPIepaYl",
    "QaOS3H9izZ0N",
    "HZvPSwJx0S3K",
    "x2hakCCy6wXI",
    "2jyQyYIpCztl",
    "gPpJyFFNffcL",
    "a4N3PvkSTwcN",
    "MbGMjArkiXjL",
    "23IqsgNjHNpJ",
    "CVXxcSYHj9sh",
    "Rv0oYLcbhOTU",
    "XBY2Y4Jrz9IQ",
    "nG77smP4tyWu",
    "M2o6xY0Yh6Gv",
    "bkyc9q40Cts-",
    "Z5yCODI-C6yR"
   ],
   "provenance": [
    {
     "file_id": "1PvYLECban8pmD-aFGV_yoRF2PyRwLntw",
     "timestamp": 1737110016234
    },
    {
     "file_id": "1jppXTxMvUcVsY27R_ckdE5DAnxrROUY1",
     "timestamp": 1732620370544
    }
   ],
   "toc_visible": true
  },
  "kernelspec": {
   "display_name": "Python 3 (ipykernel)",
   "name": "python3",
   "language": "python"
  },
  "language_info": {
   "name": "python"
  }
 },
 "nbformat": 4,
 "nbformat_minor": 0
}
