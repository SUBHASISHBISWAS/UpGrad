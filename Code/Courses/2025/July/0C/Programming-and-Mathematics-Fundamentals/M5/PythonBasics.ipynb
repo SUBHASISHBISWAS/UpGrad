{
 "cells": [
  {
   "metadata": {},
   "cell_type": "markdown",
   "source": "## Tuples Basic Operations",
   "id": "3fb3da47096eb1a5"
  },
  {
   "metadata": {
    "ExecuteTime": {
     "end_time": "2025-09-16T12:21:22.067329Z",
     "start_time": "2025-09-16T12:21:22.063504Z"
    }
   },
   "cell_type": "code",
   "source": "my_tuple = ('A','B', 'C', 'D', 'E', 'F', 'G', 'H', 'I', 'J')",
   "id": "ad9baa137ffb2d90",
   "outputs": [],
   "execution_count": 8
  },
  {
   "metadata": {
    "ExecuteTime": {
     "end_time": "2025-09-16T12:21:24.103964Z",
     "start_time": "2025-09-16T12:21:24.101760Z"
    }
   },
   "cell_type": "code",
   "source": "my_tuple[8]",
   "id": "4d99c9989c735886",
   "outputs": [
    {
     "data": {
      "text/plain": [
       "'I'"
      ]
     },
     "execution_count": 9,
     "metadata": {},
     "output_type": "execute_result"
    }
   ],
   "execution_count": 9
  },
  {
   "metadata": {
    "ExecuteTime": {
     "end_time": "2025-09-16T12:21:24.492214Z",
     "start_time": "2025-09-16T12:21:24.490169Z"
    }
   },
   "cell_type": "code",
   "source": "my_tuple[-1]",
   "id": "140b8c374fbd2a90",
   "outputs": [
    {
     "data": {
      "text/plain": [
       "'J'"
      ]
     },
     "execution_count": 10,
     "metadata": {},
     "output_type": "execute_result"
    }
   ],
   "execution_count": 10
  },
  {
   "metadata": {
    "ExecuteTime": {
     "end_time": "2025-09-16T12:21:24.738827Z",
     "start_time": "2025-09-16T12:21:24.736832Z"
    }
   },
   "cell_type": "code",
   "source": "my_tuple[-2]",
   "id": "ea0450d72c3bc43e",
   "outputs": [
    {
     "data": {
      "text/plain": [
       "'I'"
      ]
     },
     "execution_count": 11,
     "metadata": {},
     "output_type": "execute_result"
    }
   ],
   "execution_count": 11
  },
  {
   "metadata": {
    "ExecuteTime": {
     "end_time": "2025-09-16T12:21:24.956919Z",
     "start_time": "2025-09-16T12:21:24.955038Z"
    }
   },
   "cell_type": "code",
   "source": [
    "#We can slice a tuple to retrieve a subtuple\n",
    "my_tuple[:2]"
   ],
   "id": "5b6e0fdae47cbaa5",
   "outputs": [
    {
     "data": {
      "text/plain": [
       "('A', 'B')"
      ]
     },
     "execution_count": 12,
     "metadata": {},
     "output_type": "execute_result"
    }
   ],
   "execution_count": 12
  },
  {
   "metadata": {
    "ExecuteTime": {
     "end_time": "2025-09-16T12:22:24.174512Z",
     "start_time": "2025-09-16T12:22:24.166522Z"
    }
   },
   "cell_type": "code",
   "source": "my_tuple[::1]",
   "id": "46f28e209d6797e8",
   "outputs": [
    {
     "data": {
      "text/plain": [
       "('A', 'B', 'C', 'D', 'E', 'F', 'G', 'H', 'I', 'J')"
      ]
     },
     "execution_count": 15,
     "metadata": {},
     "output_type": "execute_result"
    }
   ],
   "execution_count": 15
  },
  {
   "metadata": {
    "ExecuteTime": {
     "end_time": "2025-09-16T12:22:05.910480Z",
     "start_time": "2025-09-16T12:22:05.905895Z"
    }
   },
   "cell_type": "code",
   "source": [
    "# We can additionally provide a step to our subscript\n",
    "my_tuple[::2]"
   ],
   "id": "ff6e89bc6aa68f7c",
   "outputs": [
    {
     "data": {
      "text/plain": [
       "('A', 'C', 'E', 'G', 'I')"
      ]
     },
     "execution_count": 14,
     "metadata": {},
     "output_type": "execute_result"
    }
   ],
   "execution_count": 14
  },
  {
   "metadata": {
    "ExecuteTime": {
     "end_time": "2025-09-16T12:24:32.317163Z",
     "start_time": "2025-09-16T12:24:32.315187Z"
    }
   },
   "cell_type": "code",
   "source": [
    "# Nested elements can be accessed by chaining subscripts\n",
    "nested_tuple = (1, (2, 3), (4, 5, 6), (7, 8, (9, 10)))"
   ],
   "id": "d921f79ec3ba0324",
   "outputs": [],
   "execution_count": 20
  },
  {
   "metadata": {
    "ExecuteTime": {
     "end_time": "2025-09-16T12:24:32.520465Z",
     "start_time": "2025-09-16T12:24:32.517969Z"
    }
   },
   "cell_type": "code",
   "source": "nested_tuple [3]",
   "id": "33c120bcae2236e",
   "outputs": [
    {
     "data": {
      "text/plain": [
       "(7, 8, (9, 10))"
      ]
     },
     "execution_count": 21,
     "metadata": {},
     "output_type": "execute_result"
    }
   ],
   "execution_count": 21
  },
  {
   "metadata": {
    "ExecuteTime": {
     "end_time": "2025-09-16T12:24:32.715734Z",
     "start_time": "2025-09-16T12:24:32.713705Z"
    }
   },
   "cell_type": "code",
   "source": "nested_tuple [3] [2]",
   "id": "7cd64a478fdd4bb1",
   "outputs": [
    {
     "data": {
      "text/plain": [
       "(9, 10)"
      ]
     },
     "execution_count": 22,
     "metadata": {},
     "output_type": "execute_result"
    }
   ],
   "execution_count": 22
  },
  {
   "metadata": {},
   "cell_type": "code",
   "outputs": [],
   "execution_count": null,
   "source": "",
   "id": "e979b32161767837"
  },
  {
   "metadata": {},
   "cell_type": "markdown",
   "source": "## Operations on Tuples",
   "id": "c8de6e8e5ab5e39"
  },
  {
   "metadata": {
    "ExecuteTime": {
     "end_time": "2025-09-16T12:26:28.813045Z",
     "start_time": "2025-09-16T12:26:28.807433Z"
    }
   },
   "cell_type": "code",
   "source": [
    "my_tuple = (9, 3, 2, 4, 5)\n",
    "len (my_tuple)"
   ],
   "id": "9b139e5b258dd240",
   "outputs": [
    {
     "data": {
      "text/plain": [
       "5"
      ]
     },
     "execution_count": 23,
     "metadata": {},
     "output_type": "execute_result"
    }
   ],
   "execution_count": 23
  },
  {
   "metadata": {
    "ExecuteTime": {
     "end_time": "2025-09-16T12:26:36.673313Z",
     "start_time": "2025-09-16T12:26:36.666388Z"
    }
   },
   "cell_type": "code",
   "source": "sum (my_tuple)",
   "id": "b627063a2e123645",
   "outputs": [
    {
     "data": {
      "text/plain": [
       "23"
      ]
     },
     "execution_count": 24,
     "metadata": {},
     "output_type": "execute_result"
    }
   ],
   "execution_count": 24
  },
  {
   "metadata": {
    "ExecuteTime": {
     "end_time": "2025-09-16T12:26:45.473736Z",
     "start_time": "2025-09-16T12:26:45.469053Z"
    }
   },
   "cell_type": "code",
   "source": "min(my_tuple)\n",
   "id": "648a1f1c7273a931",
   "outputs": [
    {
     "data": {
      "text/plain": [
       "2"
      ]
     },
     "execution_count": 25,
     "metadata": {},
     "output_type": "execute_result"
    }
   ],
   "execution_count": 25
  },
  {
   "metadata": {
    "ExecuteTime": {
     "end_time": "2025-09-16T12:27:01.338591Z",
     "start_time": "2025-09-16T12:27:01.330150Z"
    }
   },
   "cell_type": "code",
   "source": "max(my_tuple)\n",
   "id": "e5fd21e60e2c9e43",
   "outputs": [
    {
     "data": {
      "text/plain": [
       "9"
      ]
     },
     "execution_count": 26,
     "metadata": {},
     "output_type": "execute_result"
    }
   ],
   "execution_count": 26
  },
  {
   "metadata": {
    "ExecuteTime": {
     "end_time": "2025-09-16T12:27:14.139422Z",
     "start_time": "2025-09-16T12:27:14.134995Z"
    }
   },
   "cell_type": "code",
   "source": "sorted (my_tuple) # returns a list because tuples are not mutable",
   "id": "df433d283843d75b",
   "outputs": [
    {
     "data": {
      "text/plain": [
       "[2, 3, 4, 5, 9]"
      ]
     },
     "execution_count": 27,
     "metadata": {},
     "output_type": "execute_result"
    }
   ],
   "execution_count": 27
  },
  {
   "metadata": {
    "ExecuteTime": {
     "end_time": "2025-09-16T12:27:30.979818Z",
     "start_time": "2025-09-16T12:27:30.975955Z"
    }
   },
   "cell_type": "code",
   "source": "tuple(sorted(my_tuple)) # this is a new tuple",
   "id": "b405aebd31f0721",
   "outputs": [
    {
     "data": {
      "text/plain": [
       "(2, 3, 4, 5, 9)"
      ]
     },
     "execution_count": 28,
     "metadata": {},
     "output_type": "execute_result"
    }
   ],
   "execution_count": 28
  },
  {
   "metadata": {
    "ExecuteTime": {
     "end_time": "2025-09-16T12:27:55.180053Z",
     "start_time": "2025-09-16T12:27:55.176328Z"
    }
   },
   "cell_type": "code",
   "source": "sorted (my_tuple, reverse = True)",
   "id": "b05ac03b39ea96d",
   "outputs": [
    {
     "data": {
      "text/plain": [
       "[9, 5, 4, 3, 2]"
      ]
     },
     "execution_count": 29,
     "metadata": {},
     "output_type": "execute_result"
    }
   ],
   "execution_count": 29
  },
  {
   "metadata": {
    "ExecuteTime": {
     "end_time": "2025-09-16T12:28:04.355068Z",
     "start_time": "2025-09-16T12:28:04.351865Z"
    }
   },
   "cell_type": "code",
   "source": "tuple(sorted (my_tuple, reverse = True))",
   "id": "27b3b2dc24cabecc",
   "outputs": [
    {
     "data": {
      "text/plain": [
       "(9, 5, 4, 3, 2)"
      ]
     },
     "execution_count": 30,
     "metadata": {},
     "output_type": "execute_result"
    }
   ],
   "execution_count": 30
  },
  {
   "metadata": {
    "ExecuteTime": {
     "end_time": "2025-09-16T12:28:58.828649Z",
     "start_time": "2025-09-16T12:28:58.823618Z"
    }
   },
   "cell_type": "code",
   "source": "(1, 2, 3) + (4, 5, 6) # extending a tuple (operator overloading)",
   "id": "25d4e25e342389a5",
   "outputs": [
    {
     "data": {
      "text/plain": [
       "(1, 2, 3, 4, 5, 6)"
      ]
     },
     "execution_count": 31,
     "metadata": {},
     "output_type": "execute_result"
    }
   ],
   "execution_count": 31
  },
  {
   "metadata": {
    "ExecuteTime": {
     "end_time": "2025-09-16T12:29:07.856363Z",
     "start_time": "2025-09-16T12:29:07.852098Z"
    }
   },
   "cell_type": "code",
   "source": "(1, 2, 3) * 3 # repeating a tuple (operator overloading)",
   "id": "601fbe1e07457de2",
   "outputs": [
    {
     "data": {
      "text/plain": [
       "(1, 2, 3, 1, 2, 3, 1, 2, 3)"
      ]
     },
     "execution_count": 32,
     "metadata": {},
     "output_type": "execute_result"
    }
   ],
   "execution_count": 32
  },
  {
   "metadata": {
    "ExecuteTime": {
     "end_time": "2025-09-16T12:29:30.922881Z",
     "start_time": "2025-09-16T12:29:30.909346Z"
    }
   },
   "cell_type": "code",
   "source": "1 in (1, 2, 3)",
   "id": "66d987899fc45b7c",
   "outputs": [
    {
     "data": {
      "text/plain": [
       "True"
      ]
     },
     "execution_count": 33,
     "metadata": {},
     "output_type": "execute_result"
    }
   ],
   "execution_count": 33
  },
  {
   "metadata": {
    "ExecuteTime": {
     "end_time": "2025-09-16T12:29:42.300906Z",
     "start_time": "2025-09-16T12:29:42.293523Z"
    }
   },
   "cell_type": "code",
   "source": "2 not in (1, 2, 3)",
   "id": "70038faab025000",
   "outputs": [
    {
     "data": {
      "text/plain": [
       "False"
      ]
     },
     "execution_count": 34,
     "metadata": {},
     "output_type": "execute_result"
    }
   ],
   "execution_count": 34
  },
  {
   "metadata": {
    "ExecuteTime": {
     "end_time": "2025-09-16T12:29:52.685290Z",
     "start_time": "2025-09-16T12:29:52.679846Z"
    }
   },
   "cell_type": "code",
   "source": "(1, 2) in (1, 2, 3) # (1, 2) is not an element of the tuple",
   "id": "2a1e3fe6220edb26",
   "outputs": [
    {
     "data": {
      "text/plain": [
       "False"
      ]
     },
     "execution_count": 35,
     "metadata": {},
     "output_type": "execute_result"
    }
   ],
   "execution_count": 35
  },
  {
   "metadata": {
    "ExecuteTime": {
     "end_time": "2025-09-16T12:30:25.410138Z",
     "start_time": "2025-09-16T12:30:25.405559Z"
    }
   },
   "cell_type": "code",
   "source": "(1,2) in (1,2, (1,2 ))",
   "id": "8a025fc8a8199702",
   "outputs": [
    {
     "data": {
      "text/plain": [
       "True"
      ]
     },
     "execution_count": 36,
     "metadata": {},
     "output_type": "execute_result"
    }
   ],
   "execution_count": 36
  },
  {
   "metadata": {},
   "cell_type": "code",
   "outputs": [],
   "execution_count": null,
   "source": "# Tuples are immutable and therefore do not possess any methods which would change their contents",
   "id": "f9a15742b8a52097"
  },
  {
   "metadata": {},
   "cell_type": "markdown",
   "source": "## Control Flow on Tuples",
   "id": "38808fc452317019"
  },
  {
   "metadata": {
    "ExecuteTime": {
     "end_time": "2025-09-16T12:34:11.495269Z",
     "start_time": "2025-09-16T12:34:11.483083Z"
    }
   },
   "cell_type": "code",
   "source": [
    "#Given a nested tuple containing pairs, can you sort the tuple by the second value of the pair?\n",
    "\n",
    "pairs = (('a', 4), ('b', 2), ('c', 3), ('d', 1))"
   ],
   "id": "26292a23a06768e3",
   "outputs": [],
   "execution_count": 37
  },
  {
   "metadata": {
    "ExecuteTime": {
     "end_time": "2025-09-16T12:34:42.666725Z",
     "start_time": "2025-09-16T12:34:42.661072Z"
    }
   },
   "cell_type": "code",
   "source": [
    "sorted_list = sorted(pairs, key = lambda x: x[1]) # access the second element for each pair while sorting\n",
    "print(sorted_list) # sorted() outputs a list"
   ],
   "id": "bd5b88a02bc7c2e3",
   "outputs": [
    {
     "name": "stdout",
     "output_type": "stream",
     "text": [
      "[('d', 1), ('b', 2), ('c', 3), ('a', 4)]\n"
     ]
    }
   ],
   "execution_count": 38
  },
  {
   "metadata": {
    "ExecuteTime": {
     "end_time": "2025-09-16T12:34:59.591153Z",
     "start_time": "2025-09-16T12:34:59.586991Z"
    }
   },
   "cell_type": "code",
   "source": "print(tuple(sorted_list))",
   "id": "be4756ba85a2e56b",
   "outputs": [
    {
     "name": "stdout",
     "output_type": "stream",
     "text": [
      "(('d', 1), ('b', 2), ('c', 3), ('a', 4))\n"
     ]
    }
   ],
   "execution_count": 39
  },
  {
   "metadata": {},
   "cell_type": "code",
   "outputs": [],
   "execution_count": null,
   "source": "",
   "id": "97a72c80501214fd"
  },
  {
   "metadata": {},
   "cell_type": "markdown",
   "source": [
    "Given a nested tuple containing three pairs, can you make a new nested tuple containing two triplets such that the first element of each pair lies\n",
    "in the first triplet while the second element of each of each pair lies in the second triplet? For instance, the input ( (1, 'a'), (2, \"b'), (3,\n",
    "'c')) should give ( (1, 2, 3), ('a' , \"b', \"c\")) .\n",
    "Tip: Use the fact that a function outputs tuples when returning multiple values to your advantage.\n"
   ],
   "id": "3fa45a6c0abe3251"
  },
  {
   "metadata": {
    "ExecuteTime": {
     "end_time": "2025-09-16T12:36:41.123584Z",
     "start_time": "2025-09-16T12:36:41.118611Z"
    }
   },
   "cell_type": "code",
   "source": "my_pairs = ( (1, 'a'), (2, 'b'), (3, 'c'))",
   "id": "bea547083cabb7b8",
   "outputs": [],
   "execution_count": 40
  },
  {
   "metadata": {
    "ExecuteTime": {
     "end_time": "2025-09-16T12:37:24.751129Z",
     "start_time": "2025-09-16T12:37:24.745655Z"
    }
   },
   "cell_type": "code",
   "source": [
    "def make_triplets(pairs):\n",
    "    first_triplet = tuple([x[0] for x in pairs]) # make a list of every first element in the pairs and turn it into a tuple\n",
    "    second_triplet = tuple([x[1] for x in pairs]) # make a list of every second element in the pairs and turn it into a tuple\n",
    "\n",
    "    return first_triplet,second_triplet"
   ],
   "id": "ae9694f319887084",
   "outputs": [],
   "execution_count": 41
  },
  {
   "metadata": {
    "ExecuteTime": {
     "end_time": "2025-09-16T12:37:28.242282Z",
     "start_time": "2025-09-16T12:37:28.239693Z"
    }
   },
   "cell_type": "code",
   "source": "make_triplets(my_pairs)",
   "id": "cbdab1bf873c8049",
   "outputs": [
    {
     "data": {
      "text/plain": [
       "((1, 2, 3), ('a', 'b', 'c'))"
      ]
     },
     "execution_count": 42,
     "metadata": {},
     "output_type": "execute_result"
    }
   ],
   "execution_count": 42
  },
  {
   "metadata": {},
   "cell_type": "markdown",
   "source": "## Class Basics and Inheritance",
   "id": "d4c3a1426ee7c36b"
  },
  {
   "metadata": {
    "ExecuteTime": {
     "end_time": "2025-09-16T13:28:40.618518Z",
     "start_time": "2025-09-16T13:28:40.603451Z"
    }
   },
   "cell_type": "code",
   "source": [
    "class Course:\n",
    "    def __init__(self, name, duration):\n",
    "        self.name = name\n",
    "        self.duration = duration\n",
    "\n",
    "    def __repr__(self):\n",
    "        return f\"Course(name={self.name}, code={self.code})\""
   ],
   "id": "7a3a231e55402fa6",
   "outputs": [],
   "execution_count": 43
  },
  {
   "metadata": {
    "ExecuteTime": {
     "end_time": "2025-09-16T13:29:05.762609Z",
     "start_time": "2025-09-16T13:29:05.757140Z"
    }
   },
   "cell_type": "code",
   "source": [
    "course1 = Course(\"Mathematics\", \"3 months\")\n",
    "print(course1.name)\n",
    "print(course1.duration)"
   ],
   "id": "2830822d0f638c78",
   "outputs": [
    {
     "name": "stdout",
     "output_type": "stream",
     "text": [
      "Mathematics\n",
      "3 months\n"
     ]
    }
   ],
   "execution_count": 44
  },
  {
   "metadata": {},
   "cell_type": "code",
   "outputs": [],
   "execution_count": null,
   "source": [
    "class Student:\n",
    "    def __init__(self, name, age, course) :\n",
    "        self.name = name\n",
    "        self.age = age\n",
    "        self.course =course\n",
    "\n",
    "    def introduction(self):\n",
    "        return f\"Hello, I am {self.name}, a {self.age}-year-old student enrolled in {self.course.name}\""
   ],
   "id": "8e6a46513ae28ed6"
  },
  {
   "metadata": {},
   "cell_type": "code",
   "outputs": [],
   "execution_count": null,
   "source": [
    "student1 = Student(\"Alice\", 20, course1)\n",
    "print(student1.introduction())"
   ],
   "id": "78f88658ccf9cc94"
  },
  {
   "metadata": {},
   "cell_type": "code",
   "outputs": [],
   "execution_count": null,
   "source": [
    "class Student:\n",
    "    total_students=0\n",
    "    def __init__(self, name, age, course):\n",
    "        self.name = name\n",
    "        self.age = age\n",
    "        self.course=course\n",
    "        Student.total_students += 1\n",
    "\n",
    "    def introduction(self):\n",
    "            return f\"Hello, I am {self.name}, a {self.age}-year-old student enrolled in {self.course.name}\"\n",
    "    @classmethod\n",
    "    def get_total_students(cls):\n",
    "        return f\"Total students enrolled: {cls. total_students}\""
   ],
   "id": "7c8ad1f50bfbaccb"
  },
  {
   "metadata": {
    "ExecuteTime": {
     "end_time": "2025-09-16T13:41:12.386071Z",
     "start_time": "2025-09-16T13:41:12.381761Z"
    }
   },
   "cell_type": "code",
   "source": [
    "student1 = Student(\"Alice\", 20, course1)\n",
    "student2 = Student(\"Bob\", 22, course1)\n",
    "print(Student.get_total_students())"
   ],
   "id": "279a28a719878320",
   "outputs": [
    {
     "name": "stdout",
     "output_type": "stream",
     "text": [
      "Total students enrolled: 4\n"
     ]
    }
   ],
   "execution_count": 56
  },
  {
   "metadata": {
    "ExecuteTime": {
     "end_time": "2025-09-16T13:52:19.314189Z",
     "start_time": "2025-09-16T13:52:19.306549Z"
    }
   },
   "cell_type": "code",
   "source": [
    "## Inheritance Example\n",
    "\n",
    "# Define the Student and GraduateStudent classes\n",
    "class Student:\n",
    "    def __init__(self, name, age, course):\n",
    "        self.name = name\n",
    "        self.age = age\n",
    "        self.course = course\n",
    "\n",
    "    def introduction(self):\n",
    "        return f\"Hello, I am {self.name}, a {self.age}-year-old student enrolled in {self.course.name}\"\n",
    "\n",
    "class GraduateStudent(Student):\n",
    "    def __init__(self, name, age, course, research_topic):\n",
    "        super().__init__(name, age, course) # Call the parent class constructor\n",
    "        self.research_topic=research_topic\n",
    "\n",
    "    def research(self):\n",
    "        return f\"{self.name} is researching on {self.research_topic}.\"\n",
    "\n",
    "    def introduction(self) :\n",
    "        return f\"Hello, I am {self.name}, a graduate student researching on {self.research_topic} in {self.course}.\""
   ],
   "id": "e0d2c78281e5d5c1",
   "outputs": [],
   "execution_count": 69
  },
  {
   "metadata": {
    "ExecuteTime": {
     "end_time": "2025-09-16T13:52:19.726497Z",
     "start_time": "2025-09-16T13:52:19.723713Z"
    }
   },
   "cell_type": "code",
   "source": [
    "# Create a GraduateStudent object\n",
    "grad_student1 = GraduateStudent (\"David\", 24, \"Data Science\", \"AI for Healthcare\")\n",
    "grad_student1.name, grad_student1.course, grad_student1.age, grad_student1. research_topic"
   ],
   "id": "dd65a6b20d54f0bc",
   "outputs": [
    {
     "data": {
      "text/plain": [
       "('David', 'Data Science', 24, 'AI for Healthcare')"
      ]
     },
     "execution_count": 70,
     "metadata": {},
     "output_type": "execute_result"
    }
   ],
   "execution_count": 70
  },
  {
   "metadata": {
    "ExecuteTime": {
     "end_time": "2025-09-16T13:52:20.133486Z",
     "start_time": "2025-09-16T13:52:20.131396Z"
    }
   },
   "cell_type": "code",
   "source": "grad_student1.research()",
   "id": "448b56859b3555dd",
   "outputs": [
    {
     "data": {
      "text/plain": [
       "'David is researching on AI for Healthcare.'"
      ]
     },
     "execution_count": 71,
     "metadata": {},
     "output_type": "execute_result"
    }
   ],
   "execution_count": 71
  },
  {
   "metadata": {
    "ExecuteTime": {
     "end_time": "2025-09-16T13:52:20.691743Z",
     "start_time": "2025-09-16T13:52:20.689788Z"
    }
   },
   "cell_type": "code",
   "source": "grad_student1.introduction()",
   "id": "8c6213a5674912e0",
   "outputs": [
    {
     "data": {
      "text/plain": [
       "'Hello, I am David, a graduate student researching on AI for Healthcare in Data Science.'"
      ]
     },
     "execution_count": 72,
     "metadata": {},
     "output_type": "execute_result"
    }
   ],
   "execution_count": 72
  },
  {
   "metadata": {},
   "cell_type": "code",
   "outputs": [],
   "execution_count": null,
   "source": "",
   "id": "7526c9868917ad4c"
  }
 ],
 "metadata": {},
 "nbformat": 4,
 "nbformat_minor": 5
}
