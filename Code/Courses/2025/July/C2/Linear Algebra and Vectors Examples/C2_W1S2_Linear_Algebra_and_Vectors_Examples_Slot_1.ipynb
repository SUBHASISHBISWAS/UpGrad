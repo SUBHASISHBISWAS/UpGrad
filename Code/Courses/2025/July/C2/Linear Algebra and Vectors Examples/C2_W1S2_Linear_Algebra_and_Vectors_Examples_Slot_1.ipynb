{
 "cells": [
  {
   "cell_type": "markdown",
   "id": "16f38130-c59c-4467-8472-5b18747a30f2",
   "metadata": {},
   "source": [
    "# Vectors Basics\n",
    "\n",
    "A vector is an ordered list of numbers representing a point or direction in space.\n",
    "\n",
    "For example, a 3D vector in $\\mathbb{R}^3$  can be written as:  $\\mathbf{v} = v_1 \\hat{i} + v_2 \\hat{j} + v_3 \\hat{k}$\n",
    "\n",
    "\n",
    "where $\\hat{i}, \\hat{j}, \\hat{k}$ are the unit vectors along the $x$, $y$, and $z$ axes respectively.\n"
   ]
  },
  {
   "cell_type": "markdown",
   "id": "05a7738b-47a4-416c-8ec9-549a55c62424",
   "metadata": {},
   "source": [
    "### Vector Addition"
   ]
  },
  {
   "cell_type": "markdown",
   "id": "84c965c9-045b-4faf-bcca-c0a66513342c",
   "metadata": {},
   "source": [
    "Let $\\mathbf{v}_1 = 3\\hat{i} + 2\\hat{j} + 5\\hat{k}$ and $\\mathbf{v}_2 = 4\\hat{i} + 5\\hat{j} + 6\\hat{k}$\n",
    "\n",
    "Add these vectors component-wise:  \n",
    "\n",
    "\n",
    "\\begin{aligned}\n",
    "\\mathbf{v}_1 + \\mathbf{v}_2 &= (3\\hat{i} + 2\\hat{j} + 5\\hat{k}) + (4\\hat{i} + 5\\hat{j} + 6\\hat{k}) \\\\\n",
    "\\end{aligned}\n",
    "\n",
    "<details><summary> Click here for answer </summary>\n",
    "\n",
    "\\begin{aligned}\n",
    "&= (3 + 4)\\hat{i} + (2 + 5)\\hat{j} + (5 + 6)\\hat{k} \\\\\n",
    "&= 7\\hat{i} + 7\\hat{j} + 11\\hat{k}\n",
    "\\end{aligned}\n",
    "</details>"
   ]
  },
  {
   "cell_type": "code",
   "execution_count": 5,
   "id": "277679b3-2aa4-450d-980f-98d87d17284f",
   "metadata": {},
   "outputs": [],
   "source": [
    "# Define vectors as lists\n",
    "v1 = [3, 2, 5]\n",
    "v2 = [4, 5, 6]"
   ]
  },
  {
   "cell_type": "code",
   "execution_count": 7,
   "id": "54a2660c-60ec-4705-bbe3-d76c77332131",
   "metadata": {},
   "outputs": [
    {
     "name": "stdout",
     "output_type": "stream",
     "text": [
      "v1 + v2 = [7, 7, 11]\n"
     ]
    }
   ],
   "source": [
    "# Vector addition\n",
    "add = [v1i + v2i for v1i, v2i in zip(v1, v2)]\n",
    "\n",
    "print(\"v1 + v2 =\", add)"
   ]
  },
  {
   "cell_type": "markdown",
   "id": "e59d3ab9-c3c8-488b-b4ca-1d87ba564687",
   "metadata": {},
   "source": [
    "### Scalar Multiplication"
   ]
  },
  {
   "cell_type": "markdown",
   "id": "63455d0a-8838-474f-9c57-9563e5b7a984",
   "metadata": {},
   "source": [
    "Multiply vector $\\mathbf{v} = 3\\hat{i} + 2\\hat{j} + 5\\hat{k}$  by scalar $\\text{s}=2$\n",
    "\n",
    "\n",
    "\\begin{aligned}\n",
    "\\text s \\times \\mathbf{v} &= 2 \\times (3\\hat{i} + 2\\hat{j} + 5\\hat{k}) \\\\\n",
    "\\end{aligned}\n",
    "<details><summary> Click here for answer </summary>\n",
    "\\begin{aligned}\n",
    "&= (2 \\times 3) \\hat{i} + (2 \\times 2) \\hat{j} + (2 \\times 5) \\hat{k} \\\\\n",
    "&= 6 \\hat{i} + 4 \\hat{j} + 10 \\hat{k}\n",
    "\\end{aligned}\n",
    "\n",
    "</details>"
   ]
  },
  {
   "cell_type": "code",
   "execution_count": 11,
   "id": "3853c4a4-9b52-47ff-9823-25be228ea9c9",
   "metadata": {},
   "outputs": [
    {
     "name": "stdout",
     "output_type": "stream",
     "text": [
      "2 * v1 = [6, 4, 10]\n"
     ]
    }
   ],
   "source": [
    "scalar=2\n",
    "# Scalar multiplication\n",
    "scaled_v1 = [scalar * v1i for v1i in v1]\n",
    "\n",
    "print(scalar, \"* v1 =\", scaled_v1)"
   ]
  },
  {
   "cell_type": "markdown",
   "id": "8049a53f-8b8c-4f4c-89b0-057ebef0ecb6",
   "metadata": {},
   "source": [
    "### Dot Product"
   ]
  },
  {
   "cell_type": "markdown",
   "id": "b79b85d5-8ca1-43b0-b489-cf42e42d40c2",
   "metadata": {},
   "source": [
    "Find the dot product of  $\\mathbf{v}_1 = 3\\hat{i} + 2\\hat{j} + 5\\hat{k}$ and $\\mathbf{v}_2 = 4\\hat{i} + 5\\hat{j} + 6\\hat{k}$\n",
    "\n",
    "<details><summary> Click here for answer </summary>\n",
    "\n",
    "\n",
    "\\begin{aligned}\n",
    "\\mathbf{v}_1 \\cdot \\mathbf{v}_2 &= (3)(4) + (2)(5) + (5)(6) \\\\\n",
    "&= 12 + 10 + 30 \\\\\n",
    "&= 52\n",
    "\\end{aligned}\n",
    "\n",
    "</details>"
   ]
  },
  {
   "cell_type": "code",
   "execution_count": 15,
   "id": "82867411-74d7-4e80-b1ac-6c683cb2c816",
   "metadata": {},
   "outputs": [
    {
     "name": "stdout",
     "output_type": "stream",
     "text": [
      "Dot product: 52\n"
     ]
    }
   ],
   "source": [
    "# i*i = 1, i*j =0\n",
    "# Dot product\n",
    "dot_product = sum(v1i * v2i for v1i, v2i in zip(v1, v2))\n",
    "\n",
    "print(\"Dot product:\", dot_product)"
   ]
  },
  {
   "cell_type": "markdown",
   "id": "b1aa8860-797e-4243-bc78-5aaa39a70b4d",
   "metadata": {},
   "source": [
    "### Norm (Magnitude) of a Vector"
   ]
  },
  {
   "cell_type": "markdown",
   "id": "3ffc2bd9-2dbc-4a13-8e4b-6825f2709dda",
   "metadata": {},
   "source": [
    "Calculate the magnitude of $\\mathbf{v} = 3\\hat{i} + 2\\hat{j} + 5\\hat{k}$\n",
    "\n",
    "<details><summary> Click here for answer </summary>\n",
    "\n",
    "\\begin{aligned}\n",
    "\\|\\mathbf{v}\\| &= \\sqrt{3^2 + 2^2 + 5^2} \\\\\n",
    "&= \\sqrt{9 + 4 + 25} \\\\\n",
    "&= \\sqrt{38} \\\\\n",
    "&\\approx 6.1644\n",
    "\\end{aligned}\n",
    "\n",
    "</details>"
   ]
  },
  {
   "cell_type": "code",
   "execution_count": 19,
   "id": "0b735534-1c04-4109-be8e-884fbbecd150",
   "metadata": {},
   "outputs": [
    {
     "name": "stdout",
     "output_type": "stream",
     "text": [
      "||v1||: 6.164414002968976\n"
     ]
    }
   ],
   "source": [
    "# Norm (magnitude) of v1\n",
    "norm_v1 = sum(v1i**2 for v1i in v1) ** 0.5\n",
    "\n",
    "print(\"||v1||:\", norm_v1)"
   ]
  },
  {
   "cell_type": "markdown",
   "id": "af76c14b-eb7f-4f96-b368-29f14740bb81",
   "metadata": {},
   "source": [
    "# Matrix Operations and Linear Systems"
   ]
  },
  {
   "cell_type": "markdown",
   "id": "d2619d43-2958-4813-b6ab-5c5b46a72ff8",
   "metadata": {},
   "source": [
    "A matrix $A$ in $\\mathbb{R}^{2 \\times 2}$ can be represented as:\n",
    "\n",
    "$$\n",
    "A = \\begin{bmatrix} a_{11} & a_{12} \\\\ a_{21} & a_{22} \\end{bmatrix}\n",
    "$$\n",
    "\n",
    "For example:\n",
    "\n",
    "$$\n",
    "A = \\begin{bmatrix} 2 & 3 \\\\ 1 & 4 \\end{bmatrix}\n",
    "$$"
   ]
  },
  {
   "cell_type": "code",
   "execution_count": 23,
   "id": "718834ec-caa1-4427-a309-b0665cb07ccd",
   "metadata": {},
   "outputs": [
    {
     "name": "stdout",
     "output_type": "stream",
     "text": [
      "A = [[2, 1], [3, 4]]\n",
      "x = [1, 2]\n"
     ]
    }
   ],
   "source": [
    "# Define 2x2 matrix A and vector x\n",
    "A = [[2, 1],\n",
    "     [3, 4]]\n",
    "\n",
    "x = [1, 2]\n",
    "\n",
    "print(\"A =\", A)\n",
    "print(\"x =\", x)"
   ]
  },
  {
   "cell_type": "markdown",
   "id": "5acef583-6244-49a8-8a4c-57d20b324e01",
   "metadata": {},
   "source": [
    "### Transpose of a matrix"
   ]
  },
  {
   "cell_type": "markdown",
   "id": "4e2ef2c3-c68e-438a-a931-96420b720b67",
   "metadata": {},
   "source": [
    "The transpose of $A$, denoted by $A^T$, is formed by swapping rows and columns\n",
    "\n",
    "$A = \\begin{bmatrix} 2 & 3 \\\\ 1 & 4 \\end{bmatrix}$\n",
    "\n",
    "$A^T = \\begin{bmatrix} 2 & 1 \\\\ 3 & 4 \\end{bmatrix}$"
   ]
  },
  {
   "cell_type": "code",
   "execution_count": 27,
   "id": "c7b2bc3d-a801-482a-8efd-cd737b7a11c8",
   "metadata": {},
   "outputs": [
    {
     "name": "stdout",
     "output_type": "stream",
     "text": [
      "Transpose of A:\n",
      "[2, 3]\n",
      "[1, 4]\n"
     ]
    }
   ],
   "source": [
    "def transpose(matrix):\n",
    "    return [[row[i] for row in matrix] for i in range(len(matrix[0]))]\n",
    "\n",
    "# Transpose of A\n",
    "A_T = transpose(A)\n",
    "\n",
    "print(\"Transpose of A:\")\n",
    "for row in A_T:\n",
    "    print(row)"
   ]
  },
  {
   "cell_type": "markdown",
   "id": "0106dc8b-3e6a-4abd-a360-ead352270371",
   "metadata": {},
   "source": [
    "### Visualising Matrix Transformations\n",
    "\n",
    "We visualise how a matrix acts on a set of vectors:\n",
    "- Start with **unit vectors** <br>\n",
    "$$\n",
    "\\mathbf{e}_1 = \\begin{bmatrix} 1 \\\\ 0 \\end{bmatrix}, \\quad\n",
    "\\mathbf{e}_2 = \\begin{bmatrix} 0 \\\\ 1 \\end{bmatrix}\n",
    "$$\n",
    "\n",
    "<br>\n",
    "\n",
    "- Apply a matrix \\\\( A \\\\) to transform these vectors\n",
    "- Plot both the **original** and **transformed** vectors\n",
    "\n",
    "This helps us see how the entire space is changed by the matrix.\n"
   ]
  },
  {
   "cell_type": "code",
   "execution_count": 30,
   "id": "4f659bc0-728a-4018-aea0-7fdf43c9233a",
   "metadata": {},
   "outputs": [
    {
     "name": "stdout",
     "output_type": "stream",
     "text": [
      "Original vector: [2, 1]\n",
      "After identity transformation: [2, 1]\n"
     ]
    }
   ],
   "source": [
    "def mat_vec_mult(A, v):\n",
    "    \"\"\"Matrix-vector multiplication with 2×2 A and 2D vector v\"\"\"\n",
    "    return [A[0][0]*v[0] + A[0][1]*v[1],\n",
    "            A[1][0]*v[0] + A[1][1]*v[1]]\n",
    "\n",
    "# Identity transformation\n",
    "I = [[1, 0], [0, 1]]\n",
    "v = [2, 1]\n",
    "\n",
    "print(\"Original vector:\", v)\n",
    "print(\"After identity transformation:\", mat_vec_mult(I, v))"
   ]
  },
  {
   "cell_type": "code",
   "execution_count": 32,
   "id": "cd0da87e-1ebc-48c1-b1dd-723340dec06f",
   "metadata": {},
   "outputs": [],
   "source": [
    "# @title Predefined function for plotting transformations\n",
    "# Pass the transformation matrix and transformation name to plot the axes\n",
    "\n",
    "import matplotlib.pyplot as plt\n",
    "\n",
    "def plot_transformation(A, title):\n",
    "    # Standard basis vectors\n",
    "    e1 = [1, 0]\n",
    "    e2 = [0, 1]\n",
    "\n",
    "    # Transformed vectors\n",
    "    t1 = mat_vec_mult(A, e1)\n",
    "    t2 = mat_vec_mult(A, e2)\n",
    "\n",
    "    # Create two subplots side by side\n",
    "    fig, axes = plt.subplots(1, 2, figsize=(10, 5))\n",
    "\n",
    "    # Plot original axes\n",
    "    axes[0].quiver([0, 0], [0, 0], [e1[0], e2[0]], [e1[1], e2[1]],\n",
    "                   color=['blue', 'blue'], angles='xy', scale_units='xy', scale=1)\n",
    "    axes[0].set_title('Original Axes')\n",
    "    axes[0].set_xlim(-3, 3)\n",
    "    axes[0].set_ylim(-3, 3)\n",
    "    axes[0].set_aspect('equal')\n",
    "    axes[0].grid(True)\n",
    "    axes[0].axhline(0, color='black', lw=0.5)\n",
    "    axes[0].axvline(0, color='black', lw=0.5)\n",
    "\n",
    "    # Plot transformed axes\n",
    "    axes[1].quiver([0, 0], [0, 0], [t1[0], t2[0]], [t1[1], t2[1]],\n",
    "                   color=['red', 'red'], angles='xy', scale_units='xy', scale=1)\n",
    "    axes[1].set_title('Transformed Axes')\n",
    "    axes[1].set_xlim(-3, 3)\n",
    "    axes[1].set_ylim(-3, 3)\n",
    "    axes[1].set_aspect('equal')\n",
    "    axes[1].grid(True)\n",
    "    axes[1].axhline(0, color='black', lw=0.5)\n",
    "    axes[1].axvline(0, color='black', lw=0.5)\n",
    "\n",
    "    # Set the main title\n",
    "    fig.suptitle(title, fontsize=14)\n",
    "    plt.tight_layout()\n",
    "    plt.show()\n"
   ]
  },
  {
   "cell_type": "code",
   "execution_count": 34,
   "id": "1329924a-6df8-49f3-90fe-47d78e48db2b",
   "metadata": {
    "collapsed": true,
    "jupyter": {
     "outputs_hidden": true
    },
    "scrolled": true
   },
   "outputs": [
    {
     "data": {
      "image/png": "[encoded data removed]",
      "text/plain": [
       "<Figure size 1000x500 with 2 Axes>"
      ]
     },
     "metadata": {},
     "output_type": "display_data"
    }
   ],
   "source": [
    "# Identity transformation\n",
    "plot_transformation([[1, 0], [0, 1]], \"Identity Transformation\")"
   ]
  },
  {
   "cell_type": "code",
   "execution_count": 42,
   "id": "8d95b443-2333-4f28-a5cf-07c235ad9665",
   "metadata": {
    "collapsed": true,
    "jupyter": {
     "outputs_hidden": true
    },
    "scrolled": true
   },
   "outputs": [
    {
     "data": {
      "image/png": "[encoded data removed]",
      "text/plain": [
       "<Figure size 1000x500 with 2 Axes>"
      ]
     },
     "metadata": {},
     "output_type": "display_data"
    }
   ],
   "source": [
    "# Scaling\n",
    "plot_transformation([[2, 0], [0, 3]], \"Scaling (x2 in x-direction)\")"
   ]
  },
  {
   "cell_type": "code",
   "execution_count": 44,
   "id": "5f66a58e-094d-485a-8af6-8b549a5be806",
   "metadata": {
    "collapsed": true,
    "jupyter": {
     "outputs_hidden": true
    },
    "scrolled": true
   },
   "outputs": [
    {
     "data": {
      "image/png": "[encoded data removed]",
      "text/plain": [
       "<Figure size 1000x500 with 2 Axes>"
      ]
     },
     "metadata": {},
     "output_type": "display_data"
    }
   ],
   "source": [
    "# Shearing\n",
    "plot_transformation([[1, -1], [0, 1]], \"Shearing (x-direction)\")"
   ]
  },
  {
   "cell_type": "code",
   "execution_count": null,
   "id": "9dd33a7a-3839-43fd-ad74-648a805c104b",
   "metadata": {},
   "outputs": [],
   "source": []
  }
 ],
 "metadata": {
  "kernelspec": {
   "display_name": "Python [conda env:base] *",
   "language": "python",
   "name": "conda-base-py"
  },
  "language_info": {
   "codemirror_mode": {
    "name": "ipython",
    "version": 3
   },
   "file_extension": ".py",
   "mimetype": "text/x-python",
   "name": "python",
   "nbconvert_exporter": "python",
   "pygments_lexer": "ipython3",
   "version": "3.12.7"
  }
 },
 "nbformat": 4,
 "nbformat_minor": 5
}
